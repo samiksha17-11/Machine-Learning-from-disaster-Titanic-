{
 "cells": [
  {
   "cell_type": "code",
   "execution_count": 1,
   "id": "26522511",
   "metadata": {},
   "outputs": [],
   "source": [
    "import numpy as np\n",
    "import pandas as pd\n",
    "import seaborn as sns\n",
    "import matplotlib.pyplot as plt"
   ]
  },
  {
   "cell_type": "code",
   "execution_count": 2,
   "id": "3af4f25c",
   "metadata": {},
   "outputs": [],
   "source": [
    "# Loading the dataset\n",
    "test_data = pd.read_csv(\"test.csv\")\n",
    "train_data = pd.read_csv(\"train.csv\")"
   ]
  },
  {
   "cell_type": "code",
   "execution_count": 3,
   "id": "e2a811cd",
   "metadata": {},
   "outputs": [
    {
     "data": {
      "text/plain": [
       "(891, 12)"
      ]
     },
     "execution_count": 3,
     "metadata": {},
     "output_type": "execute_result"
    }
   ],
   "source": [
    "# Shape of dataset\n",
    "train_data.shape"
   ]
  },
  {
   "cell_type": "code",
   "execution_count": 4,
   "id": "d1aa1b42",
   "metadata": {},
   "outputs": [
    {
     "name": "stdout",
     "output_type": "stream",
     "text": [
      "<class 'pandas.core.frame.DataFrame'>\n",
      "RangeIndex: 891 entries, 0 to 890\n",
      "Data columns (total 12 columns):\n",
      " #   Column       Non-Null Count  Dtype  \n",
      "---  ------       --------------  -----  \n",
      " 0   PassengerId  891 non-null    int64  \n",
      " 1   Survived     891 non-null    int64  \n",
      " 2   Pclass       891 non-null    int64  \n",
      " 3   Name         891 non-null    object \n",
      " 4   Sex          891 non-null    object \n",
      " 5   Age          714 non-null    float64\n",
      " 6   SibSp        891 non-null    int64  \n",
      " 7   Parch        891 non-null    int64  \n",
      " 8   Ticket       891 non-null    object \n",
      " 9   Fare         891 non-null    float64\n",
      " 10  Cabin        204 non-null    object \n",
      " 11  Embarked     889 non-null    object \n",
      "dtypes: float64(2), int64(5), object(5)\n",
      "memory usage: 83.7+ KB\n"
     ]
    }
   ],
   "source": [
    "# Information about data\n",
    "train_data.info()"
   ]
  },
  {
   "cell_type": "markdown",
   "id": "5781fd43",
   "metadata": {},
   "source": [
    "## Following are the key conclusion from above output:\n",
    "\n",
    "- There are columns with null values.\n",
    "- There are 3 different datatypes present in dataset.\n",
    "- There are both categorical and numerical columns present in dataset.\n",
    "- The column to be predicted is categorical.\n",
    "- Some columns are more significant than others."
   ]
  },
  {
   "cell_type": "code",
   "execution_count": 5,
   "id": "192774f4",
   "metadata": {},
   "outputs": [
    {
     "data": {
      "text/plain": [
       "PassengerId      0\n",
       "Survived         0\n",
       "Pclass           0\n",
       "Name             0\n",
       "Sex              0\n",
       "Age            177\n",
       "SibSp            0\n",
       "Parch            0\n",
       "Ticket           0\n",
       "Fare             0\n",
       "Cabin          687\n",
       "Embarked         2\n",
       "dtype: int64"
      ]
     },
     "execution_count": 5,
     "metadata": {},
     "output_type": "execute_result"
    }
   ],
   "source": [
    "# Number of null values in each column\n",
    "train_data.isnull().sum()"
   ]
  },
  {
   "cell_type": "code",
   "execution_count": 6,
   "id": "80e5f980",
   "metadata": {},
   "outputs": [
    {
     "data": {
      "text/html": [
       "<div>\n",
       "<style scoped>\n",
       "    .dataframe tbody tr th:only-of-type {\n",
       "        vertical-align: middle;\n",
       "    }\n",
       "\n",
       "    .dataframe tbody tr th {\n",
       "        vertical-align: top;\n",
       "    }\n",
       "\n",
       "    .dataframe thead th {\n",
       "        text-align: right;\n",
       "    }\n",
       "</style>\n",
       "<table border=\"1\" class=\"dataframe\">\n",
       "  <thead>\n",
       "    <tr style=\"text-align: right;\">\n",
       "      <th></th>\n",
       "      <th>PassengerId</th>\n",
       "      <th>Survived</th>\n",
       "      <th>Pclass</th>\n",
       "      <th>Name</th>\n",
       "      <th>Sex</th>\n",
       "      <th>Age</th>\n",
       "      <th>SibSp</th>\n",
       "      <th>Parch</th>\n",
       "      <th>Ticket</th>\n",
       "      <th>Fare</th>\n",
       "      <th>Cabin</th>\n",
       "      <th>Embarked</th>\n",
       "    </tr>\n",
       "  </thead>\n",
       "  <tbody>\n",
       "    <tr>\n",
       "      <th>0</th>\n",
       "      <td>1</td>\n",
       "      <td>0</td>\n",
       "      <td>3</td>\n",
       "      <td>Braund, Mr. Owen Harris</td>\n",
       "      <td>male</td>\n",
       "      <td>22.0</td>\n",
       "      <td>1</td>\n",
       "      <td>0</td>\n",
       "      <td>A/5 21171</td>\n",
       "      <td>7.2500</td>\n",
       "      <td>NaN</td>\n",
       "      <td>S</td>\n",
       "    </tr>\n",
       "    <tr>\n",
       "      <th>1</th>\n",
       "      <td>2</td>\n",
       "      <td>1</td>\n",
       "      <td>1</td>\n",
       "      <td>Cumings, Mrs. John Bradley (Florence Briggs Th...</td>\n",
       "      <td>female</td>\n",
       "      <td>38.0</td>\n",
       "      <td>1</td>\n",
       "      <td>0</td>\n",
       "      <td>PC 17599</td>\n",
       "      <td>71.2833</td>\n",
       "      <td>C85</td>\n",
       "      <td>C</td>\n",
       "    </tr>\n",
       "    <tr>\n",
       "      <th>2</th>\n",
       "      <td>3</td>\n",
       "      <td>1</td>\n",
       "      <td>3</td>\n",
       "      <td>Heikkinen, Miss. Laina</td>\n",
       "      <td>female</td>\n",
       "      <td>26.0</td>\n",
       "      <td>0</td>\n",
       "      <td>0</td>\n",
       "      <td>STON/O2. 3101282</td>\n",
       "      <td>7.9250</td>\n",
       "      <td>NaN</td>\n",
       "      <td>S</td>\n",
       "    </tr>\n",
       "    <tr>\n",
       "      <th>3</th>\n",
       "      <td>4</td>\n",
       "      <td>1</td>\n",
       "      <td>1</td>\n",
       "      <td>Futrelle, Mrs. Jacques Heath (Lily May Peel)</td>\n",
       "      <td>female</td>\n",
       "      <td>35.0</td>\n",
       "      <td>1</td>\n",
       "      <td>0</td>\n",
       "      <td>113803</td>\n",
       "      <td>53.1000</td>\n",
       "      <td>C123</td>\n",
       "      <td>S</td>\n",
       "    </tr>\n",
       "    <tr>\n",
       "      <th>4</th>\n",
       "      <td>5</td>\n",
       "      <td>0</td>\n",
       "      <td>3</td>\n",
       "      <td>Allen, Mr. William Henry</td>\n",
       "      <td>male</td>\n",
       "      <td>35.0</td>\n",
       "      <td>0</td>\n",
       "      <td>0</td>\n",
       "      <td>373450</td>\n",
       "      <td>8.0500</td>\n",
       "      <td>NaN</td>\n",
       "      <td>S</td>\n",
       "    </tr>\n",
       "  </tbody>\n",
       "</table>\n",
       "</div>"
      ],
      "text/plain": [
       "   PassengerId  Survived  Pclass  \\\n",
       "0            1         0       3   \n",
       "1            2         1       1   \n",
       "2            3         1       3   \n",
       "3            4         1       1   \n",
       "4            5         0       3   \n",
       "\n",
       "                                                Name     Sex   Age  SibSp  \\\n",
       "0                            Braund, Mr. Owen Harris    male  22.0      1   \n",
       "1  Cumings, Mrs. John Bradley (Florence Briggs Th...  female  38.0      1   \n",
       "2                             Heikkinen, Miss. Laina  female  26.0      0   \n",
       "3       Futrelle, Mrs. Jacques Heath (Lily May Peel)  female  35.0      1   \n",
       "4                           Allen, Mr. William Henry    male  35.0      0   \n",
       "\n",
       "   Parch            Ticket     Fare Cabin Embarked  \n",
       "0      0         A/5 21171   7.2500   NaN        S  \n",
       "1      0          PC 17599  71.2833   C85        C  \n",
       "2      0  STON/O2. 3101282   7.9250   NaN        S  \n",
       "3      0            113803  53.1000  C123        S  \n",
       "4      0            373450   8.0500   NaN        S  "
      ]
     },
     "execution_count": 6,
     "metadata": {},
     "output_type": "execute_result"
    }
   ],
   "source": [
    "# let's get the overview of data\n",
    "train_data.head()"
   ]
  },
  {
   "cell_type": "code",
   "execution_count": 7,
   "id": "e4aebd79",
   "metadata": {},
   "outputs": [
    {
     "data": {
      "text/html": [
       "<div>\n",
       "<style scoped>\n",
       "    .dataframe tbody tr th:only-of-type {\n",
       "        vertical-align: middle;\n",
       "    }\n",
       "\n",
       "    .dataframe tbody tr th {\n",
       "        vertical-align: top;\n",
       "    }\n",
       "\n",
       "    .dataframe thead th {\n",
       "        text-align: right;\n",
       "    }\n",
       "</style>\n",
       "<table border=\"1\" class=\"dataframe\">\n",
       "  <thead>\n",
       "    <tr style=\"text-align: right;\">\n",
       "      <th></th>\n",
       "      <th>Survived</th>\n",
       "      <th>Pclass</th>\n",
       "      <th>Sex</th>\n",
       "      <th>Age</th>\n",
       "      <th>SibSp</th>\n",
       "      <th>Parch</th>\n",
       "      <th>Fare</th>\n",
       "      <th>Embarked</th>\n",
       "    </tr>\n",
       "  </thead>\n",
       "  <tbody>\n",
       "    <tr>\n",
       "      <th>0</th>\n",
       "      <td>0</td>\n",
       "      <td>3</td>\n",
       "      <td>male</td>\n",
       "      <td>22.0</td>\n",
       "      <td>1</td>\n",
       "      <td>0</td>\n",
       "      <td>7.2500</td>\n",
       "      <td>S</td>\n",
       "    </tr>\n",
       "    <tr>\n",
       "      <th>1</th>\n",
       "      <td>1</td>\n",
       "      <td>1</td>\n",
       "      <td>female</td>\n",
       "      <td>38.0</td>\n",
       "      <td>1</td>\n",
       "      <td>0</td>\n",
       "      <td>71.2833</td>\n",
       "      <td>C</td>\n",
       "    </tr>\n",
       "    <tr>\n",
       "      <th>2</th>\n",
       "      <td>1</td>\n",
       "      <td>3</td>\n",
       "      <td>female</td>\n",
       "      <td>26.0</td>\n",
       "      <td>0</td>\n",
       "      <td>0</td>\n",
       "      <td>7.9250</td>\n",
       "      <td>S</td>\n",
       "    </tr>\n",
       "    <tr>\n",
       "      <th>3</th>\n",
       "      <td>1</td>\n",
       "      <td>1</td>\n",
       "      <td>female</td>\n",
       "      <td>35.0</td>\n",
       "      <td>1</td>\n",
       "      <td>0</td>\n",
       "      <td>53.1000</td>\n",
       "      <td>S</td>\n",
       "    </tr>\n",
       "    <tr>\n",
       "      <th>4</th>\n",
       "      <td>0</td>\n",
       "      <td>3</td>\n",
       "      <td>male</td>\n",
       "      <td>35.0</td>\n",
       "      <td>0</td>\n",
       "      <td>0</td>\n",
       "      <td>8.0500</td>\n",
       "      <td>S</td>\n",
       "    </tr>\n",
       "  </tbody>\n",
       "</table>\n",
       "</div>"
      ],
      "text/plain": [
       "   Survived  Pclass     Sex   Age  SibSp  Parch     Fare Embarked\n",
       "0         0       3    male  22.0      1      0   7.2500        S\n",
       "1         1       1  female  38.0      1      0  71.2833        C\n",
       "2         1       3  female  26.0      0      0   7.9250        S\n",
       "3         1       1  female  35.0      1      0  53.1000        S\n",
       "4         0       3    male  35.0      0      0   8.0500        S"
      ]
     },
     "execution_count": 7,
     "metadata": {},
     "output_type": "execute_result"
    }
   ],
   "source": [
    "# let's drop PassengerId, Name, Ticket and Cabin column.\n",
    "train_data.drop(columns=[\"PassengerId\", \"Name\", \"Ticket\", \"Cabin\"], axis=1, inplace=True)\n",
    "\n",
    "# Checking the random columns\n",
    "train_data.head()"
   ]
  },
  {
   "cell_type": "markdown",
   "id": "c81d3547",
   "metadata": {},
   "source": [
    "The SibSp column represents Sibling and Spouse.\n",
    "Parch column represents Parent and Child. \n",
    "These two columns can be merged to form a new column, let's say Family."
   ]
  },
  {
   "cell_type": "code",
   "execution_count": 9,
   "id": "3ed20bba",
   "metadata": {},
   "outputs": [
    {
     "data": {
      "text/html": [
       "<div>\n",
       "<style scoped>\n",
       "    .dataframe tbody tr th:only-of-type {\n",
       "        vertical-align: middle;\n",
       "    }\n",
       "\n",
       "    .dataframe tbody tr th {\n",
       "        vertical-align: top;\n",
       "    }\n",
       "\n",
       "    .dataframe thead th {\n",
       "        text-align: right;\n",
       "    }\n",
       "</style>\n",
       "<table border=\"1\" class=\"dataframe\">\n",
       "  <thead>\n",
       "    <tr style=\"text-align: right;\">\n",
       "      <th></th>\n",
       "      <th>Survived</th>\n",
       "      <th>Pclass</th>\n",
       "      <th>Sex</th>\n",
       "      <th>Age</th>\n",
       "      <th>SibSp</th>\n",
       "      <th>Parch</th>\n",
       "      <th>Fare</th>\n",
       "      <th>Embarked</th>\n",
       "      <th>Family</th>\n",
       "    </tr>\n",
       "  </thead>\n",
       "  <tbody>\n",
       "    <tr>\n",
       "      <th>0</th>\n",
       "      <td>0</td>\n",
       "      <td>3</td>\n",
       "      <td>male</td>\n",
       "      <td>22.0</td>\n",
       "      <td>1</td>\n",
       "      <td>0</td>\n",
       "      <td>7.2500</td>\n",
       "      <td>S</td>\n",
       "      <td>1</td>\n",
       "    </tr>\n",
       "    <tr>\n",
       "      <th>1</th>\n",
       "      <td>1</td>\n",
       "      <td>1</td>\n",
       "      <td>female</td>\n",
       "      <td>38.0</td>\n",
       "      <td>1</td>\n",
       "      <td>0</td>\n",
       "      <td>71.2833</td>\n",
       "      <td>C</td>\n",
       "      <td>1</td>\n",
       "    </tr>\n",
       "    <tr>\n",
       "      <th>2</th>\n",
       "      <td>1</td>\n",
       "      <td>3</td>\n",
       "      <td>female</td>\n",
       "      <td>26.0</td>\n",
       "      <td>0</td>\n",
       "      <td>0</td>\n",
       "      <td>7.9250</td>\n",
       "      <td>S</td>\n",
       "      <td>0</td>\n",
       "    </tr>\n",
       "    <tr>\n",
       "      <th>3</th>\n",
       "      <td>1</td>\n",
       "      <td>1</td>\n",
       "      <td>female</td>\n",
       "      <td>35.0</td>\n",
       "      <td>1</td>\n",
       "      <td>0</td>\n",
       "      <td>53.1000</td>\n",
       "      <td>S</td>\n",
       "      <td>1</td>\n",
       "    </tr>\n",
       "    <tr>\n",
       "      <th>4</th>\n",
       "      <td>0</td>\n",
       "      <td>3</td>\n",
       "      <td>male</td>\n",
       "      <td>35.0</td>\n",
       "      <td>0</td>\n",
       "      <td>0</td>\n",
       "      <td>8.0500</td>\n",
       "      <td>S</td>\n",
       "      <td>0</td>\n",
       "    </tr>\n",
       "  </tbody>\n",
       "</table>\n",
       "</div>"
      ],
      "text/plain": [
       "   Survived  Pclass     Sex   Age  SibSp  Parch     Fare Embarked  Family\n",
       "0         0       3    male  22.0      1      0   7.2500        S       1\n",
       "1         1       1  female  38.0      1      0  71.2833        C       1\n",
       "2         1       3  female  26.0      0      0   7.9250        S       0\n",
       "3         1       1  female  35.0      1      0  53.1000        S       1\n",
       "4         0       3    male  35.0      0      0   8.0500        S       0"
      ]
     },
     "execution_count": 9,
     "metadata": {},
     "output_type": "execute_result"
    }
   ],
   "source": [
    "# No. of Family member = no. of sibling/spouse + no. of parent/child\n",
    "train_data[\"Family\"] = train_data[\"SibSp\"] + train_data[\"Parch\"]\n",
    "\n",
    "# Checking the dataframe\n",
    "train_data.head()"
   ]
  },
  {
   "cell_type": "markdown",
   "id": "e8457e8c",
   "metadata": {},
   "source": [
    "# Description of features¶\n",
    "- Survived:\n",
    "This column show whether the passenger survived or not. This will act as a label for our model.\n",
    "\n",
    "- Pclass and Fare:\n",
    "Pclass shows the socio-economic status (SES) of the passenger travelling. We will be further try to study whether having a good SES helps surviving in these situations.\n",
    "\n",
    "- Sex:\n",
    "Males are generally physically more endurable than counterparts. But while rescuing in Titanic ship, the females and children were given priority. We will need more study for this column.\n",
    "\n",
    "- Age:\n",
    "Adolscenes population is likely to survive due to physical and mental support of age. The elders and children may find themselves in confused situation. This column also needs study.\n",
    "\n",
    "- SibSp and Parch:\n",
    "These columns can be useful due to the fact that having someone close in disastrous situation can relieve the mind.\n",
    "\n",
    "- Embarked:\n",
    "The people embarked later in journey are more likely to be active and alert than those who were embarked earlier. On the other hand, there is a chance that earlier embarked people may be more aware about the locations of the boat.'''"
   ]
  },
  {
   "cell_type": "markdown",
   "id": "13efe024",
   "metadata": {},
   "source": [
    "# Exploratory Analysis"
   ]
  },
  {
   "cell_type": "code",
   "execution_count": 10,
   "id": "0fe7483d",
   "metadata": {},
   "outputs": [
    {
     "data": {
      "text/plain": [
       "0    549\n",
       "1    342\n",
       "Name: Survived, dtype: int64"
      ]
     },
     "execution_count": 10,
     "metadata": {},
     "output_type": "execute_result"
    }
   ],
   "source": [
    "# Number of survived passengers\n",
    "train_data[\"Survived\"].value_counts()"
   ]
  },
  {
   "cell_type": "code",
   "execution_count": 11,
   "id": "11c04bf6",
   "metadata": {},
   "outputs": [
    {
     "data": {
      "image/png": "[encoded data removed]",
      "text/plain": [
       "<Figure size 640x480 with 1 Axes>"
      ]
     },
     "metadata": {},
     "output_type": "display_data"
    }
   ],
   "source": [
    "# Visualizing the dependence of SES\n",
    "sns.countplot(train_data, x=\"Pclass\", hue=\"Survived\", )\n",
    "plt.show()"
   ]
  },
  {
   "cell_type": "markdown",
   "id": "da6d9d75",
   "metadata": {},
   "source": [
    "It can be observed that 1st class passengers have most survival rate in \n",
    "comparison to other two. Mortality rate in 3rd class is higher."
   ]
  },
  {
   "cell_type": "code",
   "execution_count": 13,
   "id": "64fd5f8f",
   "metadata": {},
   "outputs": [
    {
     "data": {
      "image/png": "[encoded data removed]",
      "text/plain": [
       "<Figure size 640x480 with 1 Axes>"
      ]
     },
     "metadata": {},
     "output_type": "display_data"
    }
   ],
   "source": [
    "# Visualizing survival relation with age\n",
    "\n",
    "# First imputing the empty ages with mean\n",
    "train_data[\"Age\"] = train_data[\"Age\"].fillna(train_data[\"Age\"].mean())\n",
    "sns.histplot(train_data[train_data[\"Survived\"] == 1][\"Age\"], label=\"Survived\", kde=True, color=\"blue\", bins=20, alpha=0.6)\n",
    "sns.histplot(train_data[train_data[\"Survived\"] == 0][\"Age\"], label=\"Not Survived\", kde=True, color=\"red\", bins=20, alpha=0.6)\n",
    "plt.xlabel(\"Age\")\n",
    "plt.ylabel(\"Count\")\n",
    "plt.title(\"Age Distribution by Survival\")\n",
    "plt.legend()\n",
    "plt.show()"
   ]
  },
  {
   "cell_type": "code",
   "execution_count": 14,
   "id": "b4d25534",
   "metadata": {},
   "outputs": [
    {
     "data": {
      "image/png": "[encoded data removed]",
      "text/plain": [
       "<Figure size 640x480 with 1 Axes>"
      ]
     },
     "metadata": {},
     "output_type": "display_data"
    }
   ],
   "source": [
    "# Visualizing dependency of SibSp\n",
    "train_data[\"SibSp\"].value_counts()\n",
    "sns.histplot(train_data[train_data[\"Survived\"] == 1][\"SibSp\"], label=\"Survived\", kde=True, color=\"blue\", bins=20, alpha=0.6)\n",
    "sns.histplot(train_data[train_data[\"Survived\"] == 0][\"SibSp\"], label=\"Not Survived\", kde=True, color=\"red\", bins=20, alpha=0.6)\n",
    "plt.xlabel(\"No. of SibSp\")\n",
    "plt.ylabel(\"Count\")\n",
    "plt.title(\"SibSp Distribution by Survival\")\n",
    "plt.legend()\n",
    "plt.show()"
   ]
  },
  {
   "cell_type": "code",
   "execution_count": 15,
   "id": "beffa644",
   "metadata": {},
   "outputs": [
    {
     "name": "stdout",
     "output_type": "stream",
     "text": [
      "0    0.345395\n",
      "1    0.535885\n",
      "2    0.464286\n",
      "3    0.250000\n",
      "4    0.166667\n",
      "5         NaN\n",
      "8         NaN\n",
      "Name: SibSp, dtype: float64\n"
     ]
    }
   ],
   "source": [
    "# Statistical Analysis\n",
    "survival_rate = train_data[train_data[\"Survived\"] == 1][\"SibSp\"].value_counts()/train_data[\"SibSp\"].value_counts()\n",
    "print(survival_rate)"
   ]
  },
  {
   "cell_type": "code",
   "execution_count": 16,
   "id": "84113ddc",
   "metadata": {},
   "outputs": [
    {
     "data": {
      "image/png": "[encoded data removed]",
      "text/plain": [
       "<Figure size 640x480 with 1 Axes>"
      ]
     },
     "metadata": {},
     "output_type": "display_data"
    }
   ],
   "source": [
    "# Visualizing dependency of Parch\n",
    "train_data[\"Parch\"].value_counts()\n",
    "sns.histplot(train_data[train_data[\"Survived\"] == 1][\"Parch\"], label=\"Survived\", kde=True, color=\"blue\", bins=20, alpha=0.6)\n",
    "sns.histplot(train_data[train_data[\"Survived\"] == 0][\"Parch\"], label=\"Not Survived\", kde=True, color=\"red\", bins=20, alpha=0.6)\n",
    "plt.xlabel(\"Parent/Child\")\n",
    "plt.ylabel(\"Count\")\n",
    "plt.title(\"Parch Distribution by Survival\")\n",
    "plt.legend()\n",
    "plt.show()"
   ]
  },
  {
   "cell_type": "code",
   "execution_count": 17,
   "id": "089885b8",
   "metadata": {},
   "outputs": [
    {
     "name": "stdout",
     "output_type": "stream",
     "text": [
      "0    0.343658\n",
      "1    0.550847\n",
      "2    0.500000\n",
      "3    0.600000\n",
      "4         NaN\n",
      "5    0.200000\n",
      "6         NaN\n",
      "Name: Parch, dtype: float64\n",
      "0    0.656342\n",
      "1    0.449153\n",
      "2    0.500000\n",
      "3    0.400000\n",
      "4    1.000000\n",
      "5    0.800000\n",
      "6    1.000000\n",
      "Name: Parch, dtype: float64\n"
     ]
    }
   ],
   "source": [
    "# Statistical Analysis\n",
    "survival_rate = train_data[train_data[\"Survived\"] == 1][\"Parch\"].value_counts()/train_data[\"Parch\"].value_counts()\n",
    "casuality_rate = train_data[train_data[\"Survived\"] == 0][\"Parch\"].value_counts()/train_data[\"Parch\"].value_counts()\n",
    "print(survival_rate)\n",
    "print(casuality_rate)"
   ]
  },
  {
   "cell_type": "code",
   "execution_count": 18,
   "id": "fad1b349",
   "metadata": {},
   "outputs": [
    {
     "data": {
      "image/png": "[encoded data removed]",
      "text/plain": [
       "<Figure size 640x480 with 1 Axes>"
      ]
     },
     "metadata": {},
     "output_type": "display_data"
    }
   ],
   "source": [
    "# Analysing for Embarked Column\n",
    "train_data[\"Embarked\"] = train_data[\"Embarked\"].fillna(train_data[\"Embarked\"].mode())\n",
    "sns.countplot(train_data, x=\"Embarked\", hue=\"Survived\")\n",
    "plt.show()"
   ]
  },
  {
   "cell_type": "code",
   "execution_count": 19,
   "id": "ec022cb5",
   "metadata": {},
   "outputs": [
    {
     "name": "stdout",
     "output_type": "stream",
     "text": [
      "S    0.336957\n",
      "C    0.553571\n",
      "Q    0.389610\n",
      "Name: Embarked, dtype: float64\n"
     ]
    }
   ],
   "source": [
    "# Statistical Analysis\n",
    "survival_rate = train_data[train_data[\"Survived\"] == 1][\"Embarked\"].value_counts()/train_data[\"Embarked\"].value_counts()\n",
    "print(survival_rate)"
   ]
  },
  {
   "cell_type": "code",
   "execution_count": 20,
   "id": "c5d7cba7",
   "metadata": {},
   "outputs": [
    {
     "name": "stdout",
     "output_type": "stream",
     "text": [
      "0     0.303538\n",
      "1     0.552795\n",
      "2     0.578431\n",
      "3     0.724138\n",
      "4     0.200000\n",
      "5     0.136364\n",
      "6     0.333333\n",
      "7          NaN\n",
      "10         NaN\n",
      "Name: Family, dtype: float64\n"
     ]
    }
   ],
   "source": [
    "# Now for family column\n",
    "survival_rate = train_data[train_data[\"Survived\"] == 1][\"Family\"].value_counts()/train_data[\"Family\"].value_counts()\n",
    "print(survival_rate)"
   ]
  },
  {
   "cell_type": "code",
   "execution_count": 21,
   "id": "36de1418",
   "metadata": {},
   "outputs": [
    {
     "data": {
      "image/png": "[encoded data removed]",
      "text/plain": [
       "<Figure size 640x480 with 1 Axes>"
      ]
     },
     "metadata": {},
     "output_type": "display_data"
    }
   ],
   "source": [
    "# Analysing Fare\n",
    "train_data[\"Fare\"].value_counts()\n",
    "sns.kdeplot(train_data[train_data[\"Survived\"] == 1][\"Fare\"], label=\"Survived\", color=\"blue\",alpha=0.6)\n",
    "sns.kdeplot(train_data[train_data[\"Survived\"] == 0][\"Fare\"], label=\"Not Survived\", color=\"red\",alpha=0.6)\n",
    "plt.xlabel(\"Parent/Child\")\n",
    "plt.ylabel(\"Count\")\n",
    "plt.title(\"Fare Distribution by Survival\")\n",
    "plt.legend()\n",
    "plt.show()"
   ]
  },
  {
   "cell_type": "code",
   "execution_count": 22,
   "id": "284d68e3",
   "metadata": {},
   "outputs": [
    {
     "data": {
      "text/html": [
       "<div>\n",
       "<style scoped>\n",
       "    .dataframe tbody tr th:only-of-type {\n",
       "        vertical-align: middle;\n",
       "    }\n",
       "\n",
       "    .dataframe tbody tr th {\n",
       "        vertical-align: top;\n",
       "    }\n",
       "\n",
       "    .dataframe thead th {\n",
       "        text-align: right;\n",
       "    }\n",
       "</style>\n",
       "<table border=\"1\" class=\"dataframe\">\n",
       "  <thead>\n",
       "    <tr style=\"text-align: right;\">\n",
       "      <th></th>\n",
       "      <th>Survived</th>\n",
       "      <th>Pclass</th>\n",
       "      <th>Sex</th>\n",
       "      <th>Age</th>\n",
       "      <th>SibSp</th>\n",
       "      <th>Parch</th>\n",
       "      <th>Fare</th>\n",
       "      <th>Embarked</th>\n",
       "      <th>Family</th>\n",
       "    </tr>\n",
       "  </thead>\n",
       "  <tbody>\n",
       "    <tr>\n",
       "      <th>0</th>\n",
       "      <td>0</td>\n",
       "      <td>3</td>\n",
       "      <td>1</td>\n",
       "      <td>22.0</td>\n",
       "      <td>1</td>\n",
       "      <td>0</td>\n",
       "      <td>7.2500</td>\n",
       "      <td>2</td>\n",
       "      <td>1</td>\n",
       "    </tr>\n",
       "    <tr>\n",
       "      <th>1</th>\n",
       "      <td>1</td>\n",
       "      <td>1</td>\n",
       "      <td>0</td>\n",
       "      <td>38.0</td>\n",
       "      <td>1</td>\n",
       "      <td>0</td>\n",
       "      <td>71.2833</td>\n",
       "      <td>0</td>\n",
       "      <td>1</td>\n",
       "    </tr>\n",
       "    <tr>\n",
       "      <th>2</th>\n",
       "      <td>1</td>\n",
       "      <td>3</td>\n",
       "      <td>0</td>\n",
       "      <td>26.0</td>\n",
       "      <td>0</td>\n",
       "      <td>0</td>\n",
       "      <td>7.9250</td>\n",
       "      <td>2</td>\n",
       "      <td>0</td>\n",
       "    </tr>\n",
       "    <tr>\n",
       "      <th>3</th>\n",
       "      <td>1</td>\n",
       "      <td>1</td>\n",
       "      <td>0</td>\n",
       "      <td>35.0</td>\n",
       "      <td>1</td>\n",
       "      <td>0</td>\n",
       "      <td>53.1000</td>\n",
       "      <td>2</td>\n",
       "      <td>1</td>\n",
       "    </tr>\n",
       "    <tr>\n",
       "      <th>4</th>\n",
       "      <td>0</td>\n",
       "      <td>3</td>\n",
       "      <td>1</td>\n",
       "      <td>35.0</td>\n",
       "      <td>0</td>\n",
       "      <td>0</td>\n",
       "      <td>8.0500</td>\n",
       "      <td>2</td>\n",
       "      <td>0</td>\n",
       "    </tr>\n",
       "  </tbody>\n",
       "</table>\n",
       "</div>"
      ],
      "text/plain": [
       "   Survived  Pclass  Sex   Age  SibSp  Parch     Fare  Embarked  Family\n",
       "0         0       3    1  22.0      1      0   7.2500         2       1\n",
       "1         1       1    0  38.0      1      0  71.2833         0       1\n",
       "2         1       3    0  26.0      0      0   7.9250         2       0\n",
       "3         1       1    0  35.0      1      0  53.1000         2       1\n",
       "4         0       3    1  35.0      0      0   8.0500         2       0"
      ]
     },
     "execution_count": 22,
     "metadata": {},
     "output_type": "execute_result"
    }
   ],
   "source": [
    "from sklearn.preprocessing import LabelEncoder\n",
    "\n",
    "encoder = LabelEncoder()\n",
    "train_data[\"Sex\"] = encoder.fit_transform(train_data[\"Sex\"])\n",
    "train_data[\"Embarked\"] = encoder.fit_transform(train_data[\"Embarked\"])\n",
    "\n",
    "train_data.head()"
   ]
  },
  {
   "cell_type": "code",
   "execution_count": 23,
   "id": "235067b6",
   "metadata": {},
   "outputs": [],
   "source": [
    "from sklearn.model_selection import train_test_split\n",
    "X = train_data.drop(columns=\"Survived\", axis=1)\n",
    "y = train_data[\"Survived\"]\n",
    "X_train, X_val, y_train, y_val = train_test_split(X, y, test_size=0.2, random_state=2)"
   ]
  },
  {
   "cell_type": "code",
   "execution_count": 24,
   "id": "6910c2da",
   "metadata": {},
   "outputs": [
    {
     "data": {
      "text/html": [
       "<style>#sk-container-id-1 {color: black;}#sk-container-id-1 pre{padding: 0;}#sk-container-id-1 div.sk-toggleable {background-color: white;}#sk-container-id-1 label.sk-toggleable__label {cursor: pointer;display: block;width: 100%;margin-bottom: 0;padding: 0.3em;box-sizing: border-box;text-align: center;}#sk-container-id-1 label.sk-toggleable__label-arrow:before {content: \"▸\";float: left;margin-right: 0.25em;color: #696969;}#sk-container-id-1 label.sk-toggleable__label-arrow:hover:before {color: black;}#sk-container-id-1 div.sk-estimator:hover label.sk-toggleable__label-arrow:before {color: black;}#sk-container-id-1 div.sk-toggleable__content {max-height: 0;max-width: 0;overflow: hidden;text-align: left;background-color: #f0f8ff;}#sk-container-id-1 div.sk-toggleable__content pre {margin: 0.2em;color: black;border-radius: 0.25em;background-color: #f0f8ff;}#sk-container-id-1 input.sk-toggleable__control:checked~div.sk-toggleable__content {max-height: 200px;max-width: 100%;overflow: auto;}#sk-container-id-1 input.sk-toggleable__control:checked~label.sk-toggleable__label-arrow:before {content: \"▾\";}#sk-container-id-1 div.sk-estimator input.sk-toggleable__control:checked~label.sk-toggleable__label {background-color: #d4ebff;}#sk-container-id-1 div.sk-label input.sk-toggleable__control:checked~label.sk-toggleable__label {background-color: #d4ebff;}#sk-container-id-1 input.sk-hidden--visually {border: 0;clip: rect(1px 1px 1px 1px);clip: rect(1px, 1px, 1px, 1px);height: 1px;margin: -1px;overflow: hidden;padding: 0;position: absolute;width: 1px;}#sk-container-id-1 div.sk-estimator {font-family: monospace;background-color: #f0f8ff;border: 1px dotted black;border-radius: 0.25em;box-sizing: border-box;margin-bottom: 0.5em;}#sk-container-id-1 div.sk-estimator:hover {background-color: #d4ebff;}#sk-container-id-1 div.sk-parallel-item::after {content: \"\";width: 100%;border-bottom: 1px solid gray;flex-grow: 1;}#sk-container-id-1 div.sk-label:hover label.sk-toggleable__label {background-color: #d4ebff;}#sk-container-id-1 div.sk-serial::before {content: \"\";position: absolute;border-left: 1px solid gray;box-sizing: border-box;top: 0;bottom: 0;left: 50%;z-index: 0;}#sk-container-id-1 div.sk-serial {display: flex;flex-direction: column;align-items: center;background-color: white;padding-right: 0.2em;padding-left: 0.2em;position: relative;}#sk-container-id-1 div.sk-item {position: relative;z-index: 1;}#sk-container-id-1 div.sk-parallel {display: flex;align-items: stretch;justify-content: center;background-color: white;position: relative;}#sk-container-id-1 div.sk-item::before, #sk-container-id-1 div.sk-parallel-item::before {content: \"\";position: absolute;border-left: 1px solid gray;box-sizing: border-box;top: 0;bottom: 0;left: 50%;z-index: -1;}#sk-container-id-1 div.sk-parallel-item {display: flex;flex-direction: column;z-index: 1;position: relative;background-color: white;}#sk-container-id-1 div.sk-parallel-item:first-child::after {align-self: flex-end;width: 50%;}#sk-container-id-1 div.sk-parallel-item:last-child::after {align-self: flex-start;width: 50%;}#sk-container-id-1 div.sk-parallel-item:only-child::after {width: 0;}#sk-container-id-1 div.sk-dashed-wrapped {border: 1px dashed gray;margin: 0 0.4em 0.5em 0.4em;box-sizing: border-box;padding-bottom: 0.4em;background-color: white;}#sk-container-id-1 div.sk-label label {font-family: monospace;font-weight: bold;display: inline-block;line-height: 1.2em;}#sk-container-id-1 div.sk-label-container {text-align: center;}#sk-container-id-1 div.sk-container {/* jupyter's `normalize.less` sets `[hidden] { display: none; }` but bootstrap.min.css set `[hidden] { display: none !important; }` so we also need the `!important` here to be able to override the default hidden behavior on the sphinx rendered scikit-learn.org. See: https://github.com/scikit-learn/scikit-learn/issues/21755 */display: inline-block !important;position: relative;}#sk-container-id-1 div.sk-text-repr-fallback {display: none;}</style><div id=\"sk-container-id-1\" class=\"sk-top-container\"><div class=\"sk-text-repr-fallback\"><pre>LogisticRegression(max_iter=200)</pre><b>In a Jupyter environment, please rerun this cell to show the HTML representation or trust the notebook. <br />On GitHub, the HTML representation is unable to render, please try loading this page with nbviewer.org.</b></div><div class=\"sk-container\" hidden><div class=\"sk-item\"><div class=\"sk-estimator sk-toggleable\"><input class=\"sk-toggleable__control sk-hidden--visually\" id=\"sk-estimator-id-1\" type=\"checkbox\" checked><label for=\"sk-estimator-id-1\" class=\"sk-toggleable__label sk-toggleable__label-arrow\">LogisticRegression</label><div class=\"sk-toggleable__content\"><pre>LogisticRegression(max_iter=200)</pre></div></div></div></div></div>"
      ],
      "text/plain": [
       "LogisticRegression(max_iter=200)"
      ]
     },
     "execution_count": 24,
     "metadata": {},
     "output_type": "execute_result"
    }
   ],
   "source": [
    "from sklearn.linear_model import LogisticRegression\n",
    "lr = LogisticRegression(max_iter=200)\n",
    "lr.fit(X_train, y_train)"
   ]
  },
  {
   "cell_type": "code",
   "execution_count": 25,
   "id": "4ff37be7",
   "metadata": {},
   "outputs": [
    {
     "name": "stdout",
     "output_type": "stream",
     "text": [
      "Train Data Accuracy: 0.8117977528089888\n",
      "Validation Data Accuracy:  0.7877094972067039\n"
     ]
    }
   ],
   "source": [
    "from sklearn.metrics import accuracy_score\n",
    "print(\"Train Data Accuracy:\", accuracy_score(y_train, lr.predict(X_train)))\n",
    "print(\"Validation Data Accuracy: \", accuracy_score(y_val, lr.predict(X_val)))"
   ]
  },
  {
   "cell_type": "markdown",
   "id": "83dc4969",
   "metadata": {},
   "source": [
    "### Let's try removing SibSp and Parch"
   ]
  },
  {
   "cell_type": "code",
   "execution_count": 26,
   "id": "d100267f",
   "metadata": {},
   "outputs": [],
   "source": [
    "X_1 = X.drop(columns=[\"SibSp\", \"Parch\"], axis=1)\n",
    "y_1 = y\n",
    "X_train_1, X_val_1, y_train_1, y_val_1 = train_test_split(X_1, y_1, test_size=0.2, random_state=2)"
   ]
  },
  {
   "cell_type": "code",
   "execution_count": 27,
   "id": "294babf5",
   "metadata": {},
   "outputs": [
    {
     "data": {
      "text/html": [
       "<style>#sk-container-id-2 {color: black;}#sk-container-id-2 pre{padding: 0;}#sk-container-id-2 div.sk-toggleable {background-color: white;}#sk-container-id-2 label.sk-toggleable__label {cursor: pointer;display: block;width: 100%;margin-bottom: 0;padding: 0.3em;box-sizing: border-box;text-align: center;}#sk-container-id-2 label.sk-toggleable__label-arrow:before {content: \"▸\";float: left;margin-right: 0.25em;color: #696969;}#sk-container-id-2 label.sk-toggleable__label-arrow:hover:before {color: black;}#sk-container-id-2 div.sk-estimator:hover label.sk-toggleable__label-arrow:before {color: black;}#sk-container-id-2 div.sk-toggleable__content {max-height: 0;max-width: 0;overflow: hidden;text-align: left;background-color: #f0f8ff;}#sk-container-id-2 div.sk-toggleable__content pre {margin: 0.2em;color: black;border-radius: 0.25em;background-color: #f0f8ff;}#sk-container-id-2 input.sk-toggleable__control:checked~div.sk-toggleable__content {max-height: 200px;max-width: 100%;overflow: auto;}#sk-container-id-2 input.sk-toggleable__control:checked~label.sk-toggleable__label-arrow:before {content: \"▾\";}#sk-container-id-2 div.sk-estimator input.sk-toggleable__control:checked~label.sk-toggleable__label {background-color: #d4ebff;}#sk-container-id-2 div.sk-label input.sk-toggleable__control:checked~label.sk-toggleable__label {background-color: #d4ebff;}#sk-container-id-2 input.sk-hidden--visually {border: 0;clip: rect(1px 1px 1px 1px);clip: rect(1px, 1px, 1px, 1px);height: 1px;margin: -1px;overflow: hidden;padding: 0;position: absolute;width: 1px;}#sk-container-id-2 div.sk-estimator {font-family: monospace;background-color: #f0f8ff;border: 1px dotted black;border-radius: 0.25em;box-sizing: border-box;margin-bottom: 0.5em;}#sk-container-id-2 div.sk-estimator:hover {background-color: #d4ebff;}#sk-container-id-2 div.sk-parallel-item::after {content: \"\";width: 100%;border-bottom: 1px solid gray;flex-grow: 1;}#sk-container-id-2 div.sk-label:hover label.sk-toggleable__label {background-color: #d4ebff;}#sk-container-id-2 div.sk-serial::before {content: \"\";position: absolute;border-left: 1px solid gray;box-sizing: border-box;top: 0;bottom: 0;left: 50%;z-index: 0;}#sk-container-id-2 div.sk-serial {display: flex;flex-direction: column;align-items: center;background-color: white;padding-right: 0.2em;padding-left: 0.2em;position: relative;}#sk-container-id-2 div.sk-item {position: relative;z-index: 1;}#sk-container-id-2 div.sk-parallel {display: flex;align-items: stretch;justify-content: center;background-color: white;position: relative;}#sk-container-id-2 div.sk-item::before, #sk-container-id-2 div.sk-parallel-item::before {content: \"\";position: absolute;border-left: 1px solid gray;box-sizing: border-box;top: 0;bottom: 0;left: 50%;z-index: -1;}#sk-container-id-2 div.sk-parallel-item {display: flex;flex-direction: column;z-index: 1;position: relative;background-color: white;}#sk-container-id-2 div.sk-parallel-item:first-child::after {align-self: flex-end;width: 50%;}#sk-container-id-2 div.sk-parallel-item:last-child::after {align-self: flex-start;width: 50%;}#sk-container-id-2 div.sk-parallel-item:only-child::after {width: 0;}#sk-container-id-2 div.sk-dashed-wrapped {border: 1px dashed gray;margin: 0 0.4em 0.5em 0.4em;box-sizing: border-box;padding-bottom: 0.4em;background-color: white;}#sk-container-id-2 div.sk-label label {font-family: monospace;font-weight: bold;display: inline-block;line-height: 1.2em;}#sk-container-id-2 div.sk-label-container {text-align: center;}#sk-container-id-2 div.sk-container {/* jupyter's `normalize.less` sets `[hidden] { display: none; }` but bootstrap.min.css set `[hidden] { display: none !important; }` so we also need the `!important` here to be able to override the default hidden behavior on the sphinx rendered scikit-learn.org. See: https://github.com/scikit-learn/scikit-learn/issues/21755 */display: inline-block !important;position: relative;}#sk-container-id-2 div.sk-text-repr-fallback {display: none;}</style><div id=\"sk-container-id-2\" class=\"sk-top-container\"><div class=\"sk-text-repr-fallback\"><pre>LogisticRegression()</pre><b>In a Jupyter environment, please rerun this cell to show the HTML representation or trust the notebook. <br />On GitHub, the HTML representation is unable to render, please try loading this page with nbviewer.org.</b></div><div class=\"sk-container\" hidden><div class=\"sk-item\"><div class=\"sk-estimator sk-toggleable\"><input class=\"sk-toggleable__control sk-hidden--visually\" id=\"sk-estimator-id-2\" type=\"checkbox\" checked><label for=\"sk-estimator-id-2\" class=\"sk-toggleable__label sk-toggleable__label-arrow\">LogisticRegression</label><div class=\"sk-toggleable__content\"><pre>LogisticRegression()</pre></div></div></div></div></div>"
      ],
      "text/plain": [
       "LogisticRegression()"
      ]
     },
     "execution_count": 27,
     "metadata": {},
     "output_type": "execute_result"
    }
   ],
   "source": [
    "lr_1 = LogisticRegression()\n",
    "lr_1.fit(X_train_1, y_train_1)"
   ]
  },
  {
   "cell_type": "code",
   "execution_count": 28,
   "id": "f35dcd39",
   "metadata": {},
   "outputs": [
    {
     "name": "stdout",
     "output_type": "stream",
     "text": [
      "Train Data Accuracy: 0.8117977528089888\n",
      "Validation Data Accuracy:  0.7821229050279329\n"
     ]
    }
   ],
   "source": [
    "print(\"Train Data Accuracy:\", accuracy_score(y_train_1, lr_1.predict(X_train_1)))\n",
    "print(\"Validation Data Accuracy: \", accuracy_score(y_val_1, lr_1.predict(X_val_1)))"
   ]
  },
  {
   "cell_type": "markdown",
   "id": "84310fd1",
   "metadata": {},
   "source": [
    "##### It can be understood that model performs almost same after removing expected redundant columns. Let's try removing Family"
   ]
  },
  {
   "cell_type": "code",
   "execution_count": 29,
   "id": "b299f57f",
   "metadata": {},
   "outputs": [],
   "source": [
    "X_2 = X.drop(columns=[\"Family\"], axis=1)\n",
    "y_2 = y\n",
    "X_train_2, X_val_2, y_train_2, y_val_2 = train_test_split(X_2, y_2, test_size=0.2, random_state=5)"
   ]
  },
  {
   "cell_type": "code",
   "execution_count": 30,
   "id": "3ea85b99",
   "metadata": {},
   "outputs": [
    {
     "data": {
      "text/html": [
       "<style>#sk-container-id-3 {color: black;}#sk-container-id-3 pre{padding: 0;}#sk-container-id-3 div.sk-toggleable {background-color: white;}#sk-container-id-3 label.sk-toggleable__label {cursor: pointer;display: block;width: 100%;margin-bottom: 0;padding: 0.3em;box-sizing: border-box;text-align: center;}#sk-container-id-3 label.sk-toggleable__label-arrow:before {content: \"▸\";float: left;margin-right: 0.25em;color: #696969;}#sk-container-id-3 label.sk-toggleable__label-arrow:hover:before {color: black;}#sk-container-id-3 div.sk-estimator:hover label.sk-toggleable__label-arrow:before {color: black;}#sk-container-id-3 div.sk-toggleable__content {max-height: 0;max-width: 0;overflow: hidden;text-align: left;background-color: #f0f8ff;}#sk-container-id-3 div.sk-toggleable__content pre {margin: 0.2em;color: black;border-radius: 0.25em;background-color: #f0f8ff;}#sk-container-id-3 input.sk-toggleable__control:checked~div.sk-toggleable__content {max-height: 200px;max-width: 100%;overflow: auto;}#sk-container-id-3 input.sk-toggleable__control:checked~label.sk-toggleable__label-arrow:before {content: \"▾\";}#sk-container-id-3 div.sk-estimator input.sk-toggleable__control:checked~label.sk-toggleable__label {background-color: #d4ebff;}#sk-container-id-3 div.sk-label input.sk-toggleable__control:checked~label.sk-toggleable__label {background-color: #d4ebff;}#sk-container-id-3 input.sk-hidden--visually {border: 0;clip: rect(1px 1px 1px 1px);clip: rect(1px, 1px, 1px, 1px);height: 1px;margin: -1px;overflow: hidden;padding: 0;position: absolute;width: 1px;}#sk-container-id-3 div.sk-estimator {font-family: monospace;background-color: #f0f8ff;border: 1px dotted black;border-radius: 0.25em;box-sizing: border-box;margin-bottom: 0.5em;}#sk-container-id-3 div.sk-estimator:hover {background-color: #d4ebff;}#sk-container-id-3 div.sk-parallel-item::after {content: \"\";width: 100%;border-bottom: 1px solid gray;flex-grow: 1;}#sk-container-id-3 div.sk-label:hover label.sk-toggleable__label {background-color: #d4ebff;}#sk-container-id-3 div.sk-serial::before {content: \"\";position: absolute;border-left: 1px solid gray;box-sizing: border-box;top: 0;bottom: 0;left: 50%;z-index: 0;}#sk-container-id-3 div.sk-serial {display: flex;flex-direction: column;align-items: center;background-color: white;padding-right: 0.2em;padding-left: 0.2em;position: relative;}#sk-container-id-3 div.sk-item {position: relative;z-index: 1;}#sk-container-id-3 div.sk-parallel {display: flex;align-items: stretch;justify-content: center;background-color: white;position: relative;}#sk-container-id-3 div.sk-item::before, #sk-container-id-3 div.sk-parallel-item::before {content: \"\";position: absolute;border-left: 1px solid gray;box-sizing: border-box;top: 0;bottom: 0;left: 50%;z-index: -1;}#sk-container-id-3 div.sk-parallel-item {display: flex;flex-direction: column;z-index: 1;position: relative;background-color: white;}#sk-container-id-3 div.sk-parallel-item:first-child::after {align-self: flex-end;width: 50%;}#sk-container-id-3 div.sk-parallel-item:last-child::after {align-self: flex-start;width: 50%;}#sk-container-id-3 div.sk-parallel-item:only-child::after {width: 0;}#sk-container-id-3 div.sk-dashed-wrapped {border: 1px dashed gray;margin: 0 0.4em 0.5em 0.4em;box-sizing: border-box;padding-bottom: 0.4em;background-color: white;}#sk-container-id-3 div.sk-label label {font-family: monospace;font-weight: bold;display: inline-block;line-height: 1.2em;}#sk-container-id-3 div.sk-label-container {text-align: center;}#sk-container-id-3 div.sk-container {/* jupyter's `normalize.less` sets `[hidden] { display: none; }` but bootstrap.min.css set `[hidden] { display: none !important; }` so we also need the `!important` here to be able to override the default hidden behavior on the sphinx rendered scikit-learn.org. See: https://github.com/scikit-learn/scikit-learn/issues/21755 */display: inline-block !important;position: relative;}#sk-container-id-3 div.sk-text-repr-fallback {display: none;}</style><div id=\"sk-container-id-3\" class=\"sk-top-container\"><div class=\"sk-text-repr-fallback\"><pre>LogisticRegression(max_iter=200)</pre><b>In a Jupyter environment, please rerun this cell to show the HTML representation or trust the notebook. <br />On GitHub, the HTML representation is unable to render, please try loading this page with nbviewer.org.</b></div><div class=\"sk-container\" hidden><div class=\"sk-item\"><div class=\"sk-estimator sk-toggleable\"><input class=\"sk-toggleable__control sk-hidden--visually\" id=\"sk-estimator-id-3\" type=\"checkbox\" checked><label for=\"sk-estimator-id-3\" class=\"sk-toggleable__label sk-toggleable__label-arrow\">LogisticRegression</label><div class=\"sk-toggleable__content\"><pre>LogisticRegression(max_iter=200)</pre></div></div></div></div></div>"
      ],
      "text/plain": [
       "LogisticRegression(max_iter=200)"
      ]
     },
     "execution_count": 30,
     "metadata": {},
     "output_type": "execute_result"
    }
   ],
   "source": [
    "lr_2 = LogisticRegression(max_iter=200)\n",
    "lr_2.fit(X_train_2, y_train_2)"
   ]
  },
  {
   "cell_type": "code",
   "execution_count": 31,
   "id": "f85787eb",
   "metadata": {},
   "outputs": [
    {
     "name": "stdout",
     "output_type": "stream",
     "text": [
      "Train Data Accuracy: 0.797752808988764\n",
      "Validation Data Accuracy:  0.8212290502793296\n"
     ]
    }
   ],
   "source": [
    "print(\"Train Data Accuracy:\", accuracy_score(y_train_2, lr_2.predict(X_train_2)))\n",
    "print(\"Validation Data Accuracy: \", accuracy_score(y_val_2, lr_2.predict(X_val_2)))"
   ]
  },
  {
   "cell_type": "markdown",
   "id": "d9b8b7c8",
   "metadata": {},
   "source": [
    "### Now let's try normalizing Age and Fare column"
   ]
  },
  {
   "cell_type": "code",
   "execution_count": 32,
   "id": "e7f5a530",
   "metadata": {},
   "outputs": [
    {
     "name": "stdout",
     "output_type": "stream",
     "text": [
      "Train Data Accuracy: 0.800561797752809\n",
      "Validation Data Accuracy:  0.8156424581005587\n"
     ]
    }
   ],
   "source": [
    "from sklearn.preprocessing import MinMaxScaler\n",
    "minmax_scaler = MinMaxScaler()\n",
    "X_3, y_3 = X, y\n",
    "\n",
    "X_3[\"Age\"] = minmax_scaler.fit_transform(X_3[[\"Age\"]]) \n",
    "X_3[\"Fare\"] = minmax_scaler.fit_transform(X_3[[\"Fare\"]])\n",
    "X_train_3, X_val_3, y_train_3, y_val_3 = train_test_split(X_3, y_3, test_size=0.2, random_state=5)\n",
    "\n",
    "lr_3 = LogisticRegression(max_iter=200)\n",
    "lr_3.fit(X_train_3, y_train_3)\n",
    "\n",
    "print(\"Train Data Accuracy:\", accuracy_score(y_train_3, lr_3.predict(X_train_3)))\n",
    "print(\"Validation Data Accuracy: \", accuracy_score(y_val_3, lr_3.predict(X_val_3)))"
   ]
  },
  {
   "cell_type": "code",
   "execution_count": 33,
   "id": "35a3fee4",
   "metadata": {},
   "outputs": [
    {
     "name": "stdout",
     "output_type": "stream",
     "text": [
      "Train Data Accuracy: 0.8089887640449438\n",
      "Validation Data Accuracy:  0.7821229050279329\n"
     ]
    }
   ],
   "source": [
    "from sklearn.preprocessing import StandardScaler\n",
    "standard_scaler = StandardScaler()\n",
    "X_4, y_4 = X, y\n",
    "\n",
    "X_4 = standard_scaler.fit_transform(X_4) \n",
    "X_train_4, X_val_4, y_train_4, y_val_4 = train_test_split(X_4, y_4, test_size=0.2, random_state=2)\n",
    "\n",
    "lr_4 = LogisticRegression(max_iter=200)\n",
    "lr_4.fit(X_train_4, y_train_4)\n",
    "\n",
    "print(\"Train Data Accuracy:\", accuracy_score(y_train_4, lr_4.predict(X_train_4)))\n",
    "print(\"Validation Data Accuracy: \", accuracy_score(y_val_4, lr_4.predict(X_val_4)))"
   ]
  },
  {
   "cell_type": "markdown",
   "id": "39f7c223",
   "metadata": {},
   "source": [
    "# Prediction using Logistic Regression"
   ]
  },
  {
   "cell_type": "code",
   "execution_count": 34,
   "id": "9e1e60e1",
   "metadata": {},
   "outputs": [
    {
     "data": {
      "text/html": [
       "<style>#sk-container-id-4 {color: black;}#sk-container-id-4 pre{padding: 0;}#sk-container-id-4 div.sk-toggleable {background-color: white;}#sk-container-id-4 label.sk-toggleable__label {cursor: pointer;display: block;width: 100%;margin-bottom: 0;padding: 0.3em;box-sizing: border-box;text-align: center;}#sk-container-id-4 label.sk-toggleable__label-arrow:before {content: \"▸\";float: left;margin-right: 0.25em;color: #696969;}#sk-container-id-4 label.sk-toggleable__label-arrow:hover:before {color: black;}#sk-container-id-4 div.sk-estimator:hover label.sk-toggleable__label-arrow:before {color: black;}#sk-container-id-4 div.sk-toggleable__content {max-height: 0;max-width: 0;overflow: hidden;text-align: left;background-color: #f0f8ff;}#sk-container-id-4 div.sk-toggleable__content pre {margin: 0.2em;color: black;border-radius: 0.25em;background-color: #f0f8ff;}#sk-container-id-4 input.sk-toggleable__control:checked~div.sk-toggleable__content {max-height: 200px;max-width: 100%;overflow: auto;}#sk-container-id-4 input.sk-toggleable__control:checked~label.sk-toggleable__label-arrow:before {content: \"▾\";}#sk-container-id-4 div.sk-estimator input.sk-toggleable__control:checked~label.sk-toggleable__label {background-color: #d4ebff;}#sk-container-id-4 div.sk-label input.sk-toggleable__control:checked~label.sk-toggleable__label {background-color: #d4ebff;}#sk-container-id-4 input.sk-hidden--visually {border: 0;clip: rect(1px 1px 1px 1px);clip: rect(1px, 1px, 1px, 1px);height: 1px;margin: -1px;overflow: hidden;padding: 0;position: absolute;width: 1px;}#sk-container-id-4 div.sk-estimator {font-family: monospace;background-color: #f0f8ff;border: 1px dotted black;border-radius: 0.25em;box-sizing: border-box;margin-bottom: 0.5em;}#sk-container-id-4 div.sk-estimator:hover {background-color: #d4ebff;}#sk-container-id-4 div.sk-parallel-item::after {content: \"\";width: 100%;border-bottom: 1px solid gray;flex-grow: 1;}#sk-container-id-4 div.sk-label:hover label.sk-toggleable__label {background-color: #d4ebff;}#sk-container-id-4 div.sk-serial::before {content: \"\";position: absolute;border-left: 1px solid gray;box-sizing: border-box;top: 0;bottom: 0;left: 50%;z-index: 0;}#sk-container-id-4 div.sk-serial {display: flex;flex-direction: column;align-items: center;background-color: white;padding-right: 0.2em;padding-left: 0.2em;position: relative;}#sk-container-id-4 div.sk-item {position: relative;z-index: 1;}#sk-container-id-4 div.sk-parallel {display: flex;align-items: stretch;justify-content: center;background-color: white;position: relative;}#sk-container-id-4 div.sk-item::before, #sk-container-id-4 div.sk-parallel-item::before {content: \"\";position: absolute;border-left: 1px solid gray;box-sizing: border-box;top: 0;bottom: 0;left: 50%;z-index: -1;}#sk-container-id-4 div.sk-parallel-item {display: flex;flex-direction: column;z-index: 1;position: relative;background-color: white;}#sk-container-id-4 div.sk-parallel-item:first-child::after {align-self: flex-end;width: 50%;}#sk-container-id-4 div.sk-parallel-item:last-child::after {align-self: flex-start;width: 50%;}#sk-container-id-4 div.sk-parallel-item:only-child::after {width: 0;}#sk-container-id-4 div.sk-dashed-wrapped {border: 1px dashed gray;margin: 0 0.4em 0.5em 0.4em;box-sizing: border-box;padding-bottom: 0.4em;background-color: white;}#sk-container-id-4 div.sk-label label {font-family: monospace;font-weight: bold;display: inline-block;line-height: 1.2em;}#sk-container-id-4 div.sk-label-container {text-align: center;}#sk-container-id-4 div.sk-container {/* jupyter's `normalize.less` sets `[hidden] { display: none; }` but bootstrap.min.css set `[hidden] { display: none !important; }` so we also need the `!important` here to be able to override the default hidden behavior on the sphinx rendered scikit-learn.org. See: https://github.com/scikit-learn/scikit-learn/issues/21755 */display: inline-block !important;position: relative;}#sk-container-id-4 div.sk-text-repr-fallback {display: none;}</style><div id=\"sk-container-id-4\" class=\"sk-top-container\"><div class=\"sk-text-repr-fallback\"><pre>LogisticRegression()</pre><b>In a Jupyter environment, please rerun this cell to show the HTML representation or trust the notebook. <br />On GitHub, the HTML representation is unable to render, please try loading this page with nbviewer.org.</b></div><div class=\"sk-container\" hidden><div class=\"sk-item\"><div class=\"sk-estimator sk-toggleable\"><input class=\"sk-toggleable__control sk-hidden--visually\" id=\"sk-estimator-id-4\" type=\"checkbox\" checked><label for=\"sk-estimator-id-4\" class=\"sk-toggleable__label sk-toggleable__label-arrow\">LogisticRegression</label><div class=\"sk-toggleable__content\"><pre>LogisticRegression()</pre></div></div></div></div></div>"
      ],
      "text/plain": [
       "LogisticRegression()"
      ]
     },
     "execution_count": 34,
     "metadata": {},
     "output_type": "execute_result"
    }
   ],
   "source": [
    "from sklearn.linear_model import LogisticRegression\n",
    "lr_final = LogisticRegression()\n",
    "lr_final.fit(X, y)"
   ]
  },
  {
   "cell_type": "code",
   "execution_count": 35,
   "id": "d6de9419",
   "metadata": {},
   "outputs": [
    {
     "name": "stdout",
     "output_type": "stream",
     "text": [
      "Train data prediction:  0.8013468013468014\n"
     ]
    }
   ],
   "source": [
    "#Let's Train data prediction\n",
    "print(\"Train data prediction: \", accuracy_score(y, lr_final.predict(X)))"
   ]
  },
  {
   "cell_type": "markdown",
   "id": "30d7016b",
   "metadata": {},
   "source": [
    "# Preparing Test Set for Prediction"
   ]
  },
  {
   "cell_type": "code",
   "execution_count": 36,
   "id": "c65a2524",
   "metadata": {},
   "outputs": [
    {
     "data": {
      "text/html": [
       "<div>\n",
       "<style scoped>\n",
       "    .dataframe tbody tr th:only-of-type {\n",
       "        vertical-align: middle;\n",
       "    }\n",
       "\n",
       "    .dataframe tbody tr th {\n",
       "        vertical-align: top;\n",
       "    }\n",
       "\n",
       "    .dataframe thead th {\n",
       "        text-align: right;\n",
       "    }\n",
       "</style>\n",
       "<table border=\"1\" class=\"dataframe\">\n",
       "  <thead>\n",
       "    <tr style=\"text-align: right;\">\n",
       "      <th></th>\n",
       "      <th>PassengerId</th>\n",
       "      <th>Pclass</th>\n",
       "      <th>Name</th>\n",
       "      <th>Sex</th>\n",
       "      <th>Age</th>\n",
       "      <th>SibSp</th>\n",
       "      <th>Parch</th>\n",
       "      <th>Ticket</th>\n",
       "      <th>Fare</th>\n",
       "      <th>Cabin</th>\n",
       "      <th>Embarked</th>\n",
       "    </tr>\n",
       "  </thead>\n",
       "  <tbody>\n",
       "    <tr>\n",
       "      <th>0</th>\n",
       "      <td>892</td>\n",
       "      <td>3</td>\n",
       "      <td>Kelly, Mr. James</td>\n",
       "      <td>male</td>\n",
       "      <td>34.5</td>\n",
       "      <td>0</td>\n",
       "      <td>0</td>\n",
       "      <td>330911</td>\n",
       "      <td>7.8292</td>\n",
       "      <td>NaN</td>\n",
       "      <td>Q</td>\n",
       "    </tr>\n",
       "    <tr>\n",
       "      <th>1</th>\n",
       "      <td>893</td>\n",
       "      <td>3</td>\n",
       "      <td>Wilkes, Mrs. James (Ellen Needs)</td>\n",
       "      <td>female</td>\n",
       "      <td>47.0</td>\n",
       "      <td>1</td>\n",
       "      <td>0</td>\n",
       "      <td>363272</td>\n",
       "      <td>7.0000</td>\n",
       "      <td>NaN</td>\n",
       "      <td>S</td>\n",
       "    </tr>\n",
       "    <tr>\n",
       "      <th>2</th>\n",
       "      <td>894</td>\n",
       "      <td>2</td>\n",
       "      <td>Myles, Mr. Thomas Francis</td>\n",
       "      <td>male</td>\n",
       "      <td>62.0</td>\n",
       "      <td>0</td>\n",
       "      <td>0</td>\n",
       "      <td>240276</td>\n",
       "      <td>9.6875</td>\n",
       "      <td>NaN</td>\n",
       "      <td>Q</td>\n",
       "    </tr>\n",
       "    <tr>\n",
       "      <th>3</th>\n",
       "      <td>895</td>\n",
       "      <td>3</td>\n",
       "      <td>Wirz, Mr. Albert</td>\n",
       "      <td>male</td>\n",
       "      <td>27.0</td>\n",
       "      <td>0</td>\n",
       "      <td>0</td>\n",
       "      <td>315154</td>\n",
       "      <td>8.6625</td>\n",
       "      <td>NaN</td>\n",
       "      <td>S</td>\n",
       "    </tr>\n",
       "    <tr>\n",
       "      <th>4</th>\n",
       "      <td>896</td>\n",
       "      <td>3</td>\n",
       "      <td>Hirvonen, Mrs. Alexander (Helga E Lindqvist)</td>\n",
       "      <td>female</td>\n",
       "      <td>22.0</td>\n",
       "      <td>1</td>\n",
       "      <td>1</td>\n",
       "      <td>3101298</td>\n",
       "      <td>12.2875</td>\n",
       "      <td>NaN</td>\n",
       "      <td>S</td>\n",
       "    </tr>\n",
       "  </tbody>\n",
       "</table>\n",
       "</div>"
      ],
      "text/plain": [
       "   PassengerId  Pclass                                          Name     Sex  \\\n",
       "0          892       3                              Kelly, Mr. James    male   \n",
       "1          893       3              Wilkes, Mrs. James (Ellen Needs)  female   \n",
       "2          894       2                     Myles, Mr. Thomas Francis    male   \n",
       "3          895       3                              Wirz, Mr. Albert    male   \n",
       "4          896       3  Hirvonen, Mrs. Alexander (Helga E Lindqvist)  female   \n",
       "\n",
       "    Age  SibSp  Parch   Ticket     Fare Cabin Embarked  \n",
       "0  34.5      0      0   330911   7.8292   NaN        Q  \n",
       "1  47.0      1      0   363272   7.0000   NaN        S  \n",
       "2  62.0      0      0   240276   9.6875   NaN        Q  \n",
       "3  27.0      0      0   315154   8.6625   NaN        S  \n",
       "4  22.0      1      1  3101298  12.2875   NaN        S  "
      ]
     },
     "execution_count": 36,
     "metadata": {},
     "output_type": "execute_result"
    }
   ],
   "source": [
    "# Current state of test set\n",
    "test_data.head()"
   ]
  },
  {
   "cell_type": "code",
   "execution_count": 37,
   "id": "0843d1d6",
   "metadata": {},
   "outputs": [
    {
     "data": {
      "text/plain": [
       "PassengerId      0\n",
       "Pclass           0\n",
       "Name             0\n",
       "Sex              0\n",
       "Age             86\n",
       "SibSp            0\n",
       "Parch            0\n",
       "Ticket           0\n",
       "Fare             1\n",
       "Cabin          327\n",
       "Embarked         0\n",
       "dtype: int64"
      ]
     },
     "execution_count": 37,
     "metadata": {},
     "output_type": "execute_result"
    }
   ],
   "source": [
    "# Let's Check null values\n",
    "test_data.isnull().sum()"
   ]
  },
  {
   "cell_type": "code",
   "execution_count": 38,
   "id": "db53a528",
   "metadata": {},
   "outputs": [],
   "source": [
    "# Preprocessing the data\n",
    "encoder = LabelEncoder()\n",
    "\n",
    "test_data[\"Age\"] = test_data[\"Age\"].fillna(test_data[\"Age\"].mean())\n",
    "test_data[\"Fare\"] = test_data[\"Fare\"].fillna(test_data[\"Fare\"].mean())\n",
    "test_data[\"Sex\"] = encoder.fit_transform(test_data[\"Sex\"])\n",
    "test_data[\"Embarked\"] = encoder.fit_transform(test_data[\"Embarked\"])"
   ]
  },
  {
   "cell_type": "code",
   "execution_count": 39,
   "id": "786d824a",
   "metadata": {},
   "outputs": [
    {
     "data": {
      "text/html": [
       "<div>\n",
       "<style scoped>\n",
       "    .dataframe tbody tr th:only-of-type {\n",
       "        vertical-align: middle;\n",
       "    }\n",
       "\n",
       "    .dataframe tbody tr th {\n",
       "        vertical-align: top;\n",
       "    }\n",
       "\n",
       "    .dataframe thead th {\n",
       "        text-align: right;\n",
       "    }\n",
       "</style>\n",
       "<table border=\"1\" class=\"dataframe\">\n",
       "  <thead>\n",
       "    <tr style=\"text-align: right;\">\n",
       "      <th></th>\n",
       "      <th>PassengerId</th>\n",
       "      <th>Pclass</th>\n",
       "      <th>Name</th>\n",
       "      <th>Sex</th>\n",
       "      <th>Age</th>\n",
       "      <th>SibSp</th>\n",
       "      <th>Parch</th>\n",
       "      <th>Ticket</th>\n",
       "      <th>Fare</th>\n",
       "      <th>Cabin</th>\n",
       "      <th>Embarked</th>\n",
       "    </tr>\n",
       "  </thead>\n",
       "  <tbody>\n",
       "    <tr>\n",
       "      <th>0</th>\n",
       "      <td>892</td>\n",
       "      <td>3</td>\n",
       "      <td>Kelly, Mr. James</td>\n",
       "      <td>1</td>\n",
       "      <td>34.5</td>\n",
       "      <td>0</td>\n",
       "      <td>0</td>\n",
       "      <td>330911</td>\n",
       "      <td>7.8292</td>\n",
       "      <td>NaN</td>\n",
       "      <td>1</td>\n",
       "    </tr>\n",
       "    <tr>\n",
       "      <th>1</th>\n",
       "      <td>893</td>\n",
       "      <td>3</td>\n",
       "      <td>Wilkes, Mrs. James (Ellen Needs)</td>\n",
       "      <td>0</td>\n",
       "      <td>47.0</td>\n",
       "      <td>1</td>\n",
       "      <td>0</td>\n",
       "      <td>363272</td>\n",
       "      <td>7.0000</td>\n",
       "      <td>NaN</td>\n",
       "      <td>2</td>\n",
       "    </tr>\n",
       "    <tr>\n",
       "      <th>2</th>\n",
       "      <td>894</td>\n",
       "      <td>2</td>\n",
       "      <td>Myles, Mr. Thomas Francis</td>\n",
       "      <td>1</td>\n",
       "      <td>62.0</td>\n",
       "      <td>0</td>\n",
       "      <td>0</td>\n",
       "      <td>240276</td>\n",
       "      <td>9.6875</td>\n",
       "      <td>NaN</td>\n",
       "      <td>1</td>\n",
       "    </tr>\n",
       "    <tr>\n",
       "      <th>3</th>\n",
       "      <td>895</td>\n",
       "      <td>3</td>\n",
       "      <td>Wirz, Mr. Albert</td>\n",
       "      <td>1</td>\n",
       "      <td>27.0</td>\n",
       "      <td>0</td>\n",
       "      <td>0</td>\n",
       "      <td>315154</td>\n",
       "      <td>8.6625</td>\n",
       "      <td>NaN</td>\n",
       "      <td>2</td>\n",
       "    </tr>\n",
       "    <tr>\n",
       "      <th>4</th>\n",
       "      <td>896</td>\n",
       "      <td>3</td>\n",
       "      <td>Hirvonen, Mrs. Alexander (Helga E Lindqvist)</td>\n",
       "      <td>0</td>\n",
       "      <td>22.0</td>\n",
       "      <td>1</td>\n",
       "      <td>1</td>\n",
       "      <td>3101298</td>\n",
       "      <td>12.2875</td>\n",
       "      <td>NaN</td>\n",
       "      <td>2</td>\n",
       "    </tr>\n",
       "  </tbody>\n",
       "</table>\n",
       "</div>"
      ],
      "text/plain": [
       "   PassengerId  Pclass                                          Name  Sex  \\\n",
       "0          892       3                              Kelly, Mr. James    1   \n",
       "1          893       3              Wilkes, Mrs. James (Ellen Needs)    0   \n",
       "2          894       2                     Myles, Mr. Thomas Francis    1   \n",
       "3          895       3                              Wirz, Mr. Albert    1   \n",
       "4          896       3  Hirvonen, Mrs. Alexander (Helga E Lindqvist)    0   \n",
       "\n",
       "    Age  SibSp  Parch   Ticket     Fare Cabin  Embarked  \n",
       "0  34.5      0      0   330911   7.8292   NaN         1  \n",
       "1  47.0      1      0   363272   7.0000   NaN         2  \n",
       "2  62.0      0      0   240276   9.6875   NaN         1  \n",
       "3  27.0      0      0   315154   8.6625   NaN         2  \n",
       "4  22.0      1      1  3101298  12.2875   NaN         2  "
      ]
     },
     "execution_count": 39,
     "metadata": {},
     "output_type": "execute_result"
    }
   ],
   "source": [
    "test_data.head()"
   ]
  },
  {
   "cell_type": "code",
   "execution_count": 40,
   "id": "2aa3c4a0",
   "metadata": {},
   "outputs": [],
   "source": [
    "test_data.drop(columns=[\"PassengerId\", \"Name\", \"Ticket\", \"Cabin\"], axis=1, inplace=True)"
   ]
  },
  {
   "cell_type": "code",
   "execution_count": 41,
   "id": "45eb577d",
   "metadata": {},
   "outputs": [
    {
     "data": {
      "text/html": [
       "<div>\n",
       "<style scoped>\n",
       "    .dataframe tbody tr th:only-of-type {\n",
       "        vertical-align: middle;\n",
       "    }\n",
       "\n",
       "    .dataframe tbody tr th {\n",
       "        vertical-align: top;\n",
       "    }\n",
       "\n",
       "    .dataframe thead th {\n",
       "        text-align: right;\n",
       "    }\n",
       "</style>\n",
       "<table border=\"1\" class=\"dataframe\">\n",
       "  <thead>\n",
       "    <tr style=\"text-align: right;\">\n",
       "      <th></th>\n",
       "      <th>Pclass</th>\n",
       "      <th>Sex</th>\n",
       "      <th>Age</th>\n",
       "      <th>SibSp</th>\n",
       "      <th>Parch</th>\n",
       "      <th>Fare</th>\n",
       "      <th>Embarked</th>\n",
       "      <th>Family</th>\n",
       "    </tr>\n",
       "  </thead>\n",
       "  <tbody>\n",
       "    <tr>\n",
       "      <th>0</th>\n",
       "      <td>3</td>\n",
       "      <td>1</td>\n",
       "      <td>34.5</td>\n",
       "      <td>0</td>\n",
       "      <td>0</td>\n",
       "      <td>7.8292</td>\n",
       "      <td>1</td>\n",
       "      <td>0</td>\n",
       "    </tr>\n",
       "    <tr>\n",
       "      <th>1</th>\n",
       "      <td>3</td>\n",
       "      <td>0</td>\n",
       "      <td>47.0</td>\n",
       "      <td>1</td>\n",
       "      <td>0</td>\n",
       "      <td>7.0000</td>\n",
       "      <td>2</td>\n",
       "      <td>1</td>\n",
       "    </tr>\n",
       "    <tr>\n",
       "      <th>2</th>\n",
       "      <td>2</td>\n",
       "      <td>1</td>\n",
       "      <td>62.0</td>\n",
       "      <td>0</td>\n",
       "      <td>0</td>\n",
       "      <td>9.6875</td>\n",
       "      <td>1</td>\n",
       "      <td>0</td>\n",
       "    </tr>\n",
       "    <tr>\n",
       "      <th>3</th>\n",
       "      <td>3</td>\n",
       "      <td>1</td>\n",
       "      <td>27.0</td>\n",
       "      <td>0</td>\n",
       "      <td>0</td>\n",
       "      <td>8.6625</td>\n",
       "      <td>2</td>\n",
       "      <td>0</td>\n",
       "    </tr>\n",
       "    <tr>\n",
       "      <th>4</th>\n",
       "      <td>3</td>\n",
       "      <td>0</td>\n",
       "      <td>22.0</td>\n",
       "      <td>1</td>\n",
       "      <td>1</td>\n",
       "      <td>12.2875</td>\n",
       "      <td>2</td>\n",
       "      <td>2</td>\n",
       "    </tr>\n",
       "  </tbody>\n",
       "</table>\n",
       "</div>"
      ],
      "text/plain": [
       "   Pclass  Sex   Age  SibSp  Parch     Fare  Embarked  Family\n",
       "0       3    1  34.5      0      0   7.8292         1       0\n",
       "1       3    0  47.0      1      0   7.0000         2       1\n",
       "2       2    1  62.0      0      0   9.6875         1       0\n",
       "3       3    1  27.0      0      0   8.6625         2       0\n",
       "4       3    0  22.0      1      1  12.2875         2       2"
      ]
     },
     "execution_count": 41,
     "metadata": {},
     "output_type": "execute_result"
    }
   ],
   "source": [
    "test_data[\"Family\"] = test_data[\"SibSp\"] + test_data[\"Parch\"]\n",
    "test_data.head()"
   ]
  },
  {
   "cell_type": "markdown",
   "id": "4afb0dfd",
   "metadata": {},
   "source": [
    "# Logistic Regression Prediction"
   ]
  },
  {
   "cell_type": "code",
   "execution_count": 42,
   "id": "0a277d36",
   "metadata": {},
   "outputs": [
    {
     "data": {
      "text/plain": [
       "Survived\n",
       "0           387\n",
       "1            31\n",
       "dtype: int64"
      ]
     },
     "execution_count": 42,
     "metadata": {},
     "output_type": "execute_result"
    }
   ],
   "source": [
    "predictions = lr_final.predict(test_data)\n",
    "passenger_ids = range(892, 892 + len(predictions))\n",
    "\n",
    "# Create DataFrame\n",
    "final_df = pd.DataFrame({\"PassengerId\": passenger_ids, \"Survived\": predictions})\n",
    "\n",
    "# Set PassengerId as index\n",
    "final_df.set_index(\"PassengerId\", inplace=True)\n",
    "\n",
    "final_df.value_counts()"
   ]
  },
  {
   "cell_type": "markdown",
   "id": "7e48b55d",
   "metadata": {},
   "source": [
    "# Implementing Decision Tree Classifier"
   ]
  },
  {
   "cell_type": "code",
   "execution_count": 43,
   "id": "757927cf",
   "metadata": {},
   "outputs": [
    {
     "name": "stdout",
     "output_type": "stream",
     "text": [
      "Train Data Prediction:  0.9859550561797753\n",
      "Validation Data Prediction:  0.776536312849162\n"
     ]
    }
   ],
   "source": [
    "from sklearn.tree import DecisionTreeClassifier\n",
    "dte_classifier = DecisionTreeClassifier()\n",
    "\n",
    "dte_classifier.fit(X_train, y_train)\n",
    "\n",
    "# Train Data Prediction\n",
    "print(\"Train Data Prediction: \", accuracy_score(y_train, dte_classifier.predict(X_train)))\n",
    "# Validation Data Prediction\n",
    "print(\"Validation Data Prediction: \", accuracy_score(y_val, dte_classifier.predict(X_val)))"
   ]
  },
  {
   "cell_type": "code",
   "execution_count": 44,
   "id": "ac1fe217",
   "metadata": {},
   "outputs": [
    {
     "name": "stdout",
     "output_type": "stream",
     "text": [
      "Train Data Accuracy: 0.9845505617977528\n",
      "Validation Data Accuracy:  0.8156424581005587\n"
     ]
    }
   ],
   "source": [
    "# Seems like model is overfitted\n",
    "# Let's try transformation\n",
    "std_scaler = StandardScaler()\n",
    "X_1, y_1 = X, y\n",
    "\n",
    "X_1[\"Age\"] = std_scaler.fit_transform(X_1[[\"Age\"]]) \n",
    "X_1[\"Fare\"] = std_scaler.fit_transform(X_1[[\"Fare\"]])\n",
    "X_train_1, X_val_1, y_train_1, y_val_1 = train_test_split(X_1, y_1, test_size=0.2, random_state=5)\n",
    "\n",
    "dte_classifier_1 = DecisionTreeClassifier()\n",
    "dte_classifier_1.fit(X_train_1, y_train_1)\n",
    "\n",
    "print(\"Train Data Accuracy:\", accuracy_score(y_train_1, dte_classifier_1.predict(X_train_1)))\n",
    "print(\"Validation Data Accuracy: \", accuracy_score(y_val_1, dte_classifier_1.predict(X_val_1)))"
   ]
  },
  {
   "cell_type": "markdown",
   "id": "d5f32d10",
   "metadata": {},
   "source": [
    "# Standardization using zscore helped improve the score"
   ]
  },
  {
   "cell_type": "markdown",
   "id": "54e0a69f",
   "metadata": {},
   "source": [
    "## Prediction on Test Data"
   ]
  },
  {
   "cell_type": "code",
   "execution_count": 45,
   "id": "d0c15263",
   "metadata": {},
   "outputs": [
    {
     "name": "stdout",
     "output_type": "stream",
     "text": [
      "Train Accuracy:  0.9820426487093153\n"
     ]
    },
    {
     "data": {
      "text/plain": [
       "Survived\n",
       "0           387\n",
       "1            31\n",
       "dtype: int64"
      ]
     },
     "metadata": {},
     "output_type": "display_data"
    }
   ],
   "source": [
    "# Transforming test data\n",
    "dte_test_data = test_data.copy()\n",
    "# dte_test_data[\"Age\"] = std_scaler.fit_transform(dte_test_data[[\"Age\"]]) \n",
    "# dte_test_data[\"Fare\"] = std_scaler.fit_transform(dte_test_data[[\"Fare\"]])\n",
    "\n",
    "dte_final = DecisionTreeClassifier()\n",
    "dte_final.fit(X, y)\n",
    "\n",
    "dte_predictions = dte_final.predict(dte_test_data)\n",
    "passenger_ids = range(892, 892 + len(dte_predictions))\n",
    "\n",
    "# Create DataFrame\n",
    "dte_submission_df = pd.DataFrame({\"PassengerId\": passenger_ids, \"Survived\": predictions})\n",
    "\n",
    "# Let's Set PassengerId as index\n",
    "dte_submission_df.set_index(\"PassengerId\", inplace=True)\n",
    "\n",
    "print(\"Train Accuracy: \", accuracy_score(y, dte_final.predict(X)))\n",
    "\n",
    "display(dte_submission_df.value_counts())\n",
    "dte_submission_df.to_csv(\"dte_submission.csv\")\n"
   ]
  },
  {
   "cell_type": "markdown",
   "id": "c0e192f3",
   "metadata": {},
   "source": [
    "# Implementing Random Forest Classifier"
   ]
  },
  {
   "cell_type": "code",
   "execution_count": 46,
   "id": "c6f929b1",
   "metadata": {},
   "outputs": [
    {
     "name": "stdout",
     "output_type": "stream",
     "text": [
      "Train Data Prediction:  0.9859550561797753\n",
      "Validation Data Prediction:  0.8044692737430168\n"
     ]
    }
   ],
   "source": [
    "from sklearn.ensemble import RandomForestClassifier\n",
    "rf_classifier = RandomForestClassifier()\n",
    "\n",
    "rf_classifier.fit(X_train, y_train)\n",
    "\n",
    "# Train Data Prediction\n",
    "print(\"Train Data Prediction: \", accuracy_score(y_train, rf_classifier.predict(X_train)))\n",
    "# Validation Data Prediction\n",
    "print(\"Validation Data Prediction: \", accuracy_score(y_val, rf_classifier.predict(X_val)))"
   ]
  },
  {
   "cell_type": "code",
   "execution_count": 47,
   "id": "85886b1d",
   "metadata": {},
   "outputs": [
    {
     "name": "stdout",
     "output_type": "stream",
     "text": [
      "Train Data Accuracy: 0.9845505617977528\n",
      "Validation Data Accuracy:  0.8324022346368715\n"
     ]
    }
   ],
   "source": [
    "std_scaler = StandardScaler()\n",
    "X_1, y_1 = X, y\n",
    "\n",
    "X_1[\"Age\"] = std_scaler.fit_transform(X_1[[\"Age\"]]) \n",
    "X_1[\"Fare\"] = std_scaler.fit_transform(X_1[[\"Fare\"]])\n",
    "X_train_1, X_val_1, y_train_1, y_val_1 = train_test_split(X_1, y_1, test_size=0.2, random_state=5)\n",
    "\n",
    "rf_classifier_1 = RandomForestClassifier()\n",
    "rf_classifier_1.fit(X_train_1, y_train_1)\n",
    "\n",
    "print(\"Train Data Accuracy:\", accuracy_score(y_train_1, rf_classifier_1.predict(X_train_1)))\n",
    "print(\"Validation Data Accuracy: \", accuracy_score(y_val_1, rf_classifier_1.predict(X_val_1)))"
   ]
  },
  {
   "cell_type": "markdown",
   "id": "0b6f22b1",
   "metadata": {},
   "source": [
    "# Ada Boost Classifier"
   ]
  },
  {
   "cell_type": "code",
   "execution_count": 48,
   "id": "417ddbb6",
   "metadata": {},
   "outputs": [],
   "source": [
    "X, y = train_data.drop(\"Survived\", axis=1), train_data[\"Survived\"]\n",
    "\n",
    "X_train, X_val, y_train, y_val = train_test_split(X, y, random_state=2, test_size=0.2)"
   ]
  },
  {
   "cell_type": "code",
   "execution_count": 49,
   "id": "57aa8a01",
   "metadata": {},
   "outputs": [
    {
     "name": "stdout",
     "output_type": "stream",
     "text": [
      "Train Data Accuracy: 0.9845505617977528\n",
      "Validation Data Accuracy:  0.8379888268156425\n"
     ]
    }
   ],
   "source": [
    "from sklearn.preprocessing import normalize\n",
    "\n",
    "normalize\n",
    "X_2, y_2 = X, y\n",
    "\n",
    "normalize(X_2[[\"Age\",\"Fare\"]], norm=\"l1\")\n",
    "X_train_1, X_val_1, y_train_1, y_val_1 = train_test_split(X_1, y_1, test_size=0.2, random_state=5)\n",
    "\n",
    "rf_classifier_1 = RandomForestClassifier()\n",
    "rf_classifier_1.fit(X_train_1, y_train_1)\n",
    "\n",
    "print(\"Train Data Accuracy:\", accuracy_score(y_train_1, rf_classifier_1.predict(X_train_1)))\n",
    "print(\"Validation Data Accuracy: \", accuracy_score(y_val_1, rf_classifier_1.predict(X_val_1)))"
   ]
  },
  {
   "cell_type": "code",
   "execution_count": 50,
   "id": "90bccbb8",
   "metadata": {},
   "outputs": [
    {
     "name": "stdout",
     "output_type": "stream",
     "text": [
      "Train Accuracy:  0.9820426487093153\n"
     ]
    },
    {
     "data": {
      "text/plain": [
       "Survived\n",
       "0           387\n",
       "1            31\n",
       "dtype: int64"
      ]
     },
     "metadata": {},
     "output_type": "display_data"
    }
   ],
   "source": [
    "# Prediction on Test Data\n",
    "rf_test_data = test_data.copy()\n",
    "\n",
    "rf_final = RandomForestClassifier(bootstrap=False)\n",
    "rf_final.fit(X, y)\n",
    "\n",
    "rf_predictions = rf_final.predict(rf_test_data)\n",
    "passenger_ids = range(892, 892 + len(rf_predictions))\n",
    "\n",
    "# Create DataFrame\n",
    "rf_submission_df = pd.DataFrame({\"PassengerId\": passenger_ids, \"Survived\": predictions})\n",
    "\n",
    "# let's Set PassengerId as index\n",
    "rf_submission_df.set_index(\"PassengerId\", inplace=True)\n",
    "\n",
    "print(\"Train Accuracy: \", accuracy_score(y, rf_final.predict(X)))\n",
    "\n",
    "display(rf_submission_df.value_counts())\n",
    "rf_submission_df.to_csv(\"rf_submission.csv\")"
   ]
  },
  {
   "cell_type": "code",
   "execution_count": 51,
   "id": "b75da424",
   "metadata": {},
   "outputs": [
    {
     "name": "stdout",
     "output_type": "stream",
     "text": [
      "Train Data Accuracy:  0.8455056179775281\n",
      "Test Data Accuracy:  0.7653631284916201\n"
     ]
    },
    {
     "data": {
      "text/plain": [
       "0    387\n",
       "1     31\n",
       "Name: Survived, dtype: int64"
      ]
     },
     "execution_count": 51,
     "metadata": {},
     "output_type": "execute_result"
    }
   ],
   "source": [
    "from sklearn.ensemble import AdaBoostClassifier\n",
    "\n",
    "abc = AdaBoostClassifier()\n",
    "abc.fit(X_train, y_train)\n",
    "\n",
    "print(\"Train Data Accuracy: \", accuracy_score(abc.predict(X_train), y_train))\n",
    "print(\"Test Data Accuracy: \", accuracy_score(abc.predict(X_val), y_val))\n",
    "\n",
    "abc_test_data = test_data.copy()\n",
    "abc_predictions = abc.predict(abc_test_data)\n",
    "abc_submission_df = pd.DataFrame({\"PassengerId\": passenger_ids, \"Survived\": predictions})\n",
    "\n",
    "# let's Set PassengerId as index\n",
    "abc_submission_df.set_index(\"PassengerId\", inplace=True)\n",
    "abc_submission_df[\"Survived\"].value_counts()"
   ]
  },
  {
   "cell_type": "code",
   "execution_count": 52,
   "id": "49953de6",
   "metadata": {},
   "outputs": [
    {
     "name": "stdout",
     "output_type": "stream",
     "text": [
      "<class 'pandas.core.frame.DataFrame'>\n",
      "RangeIndex: 418 entries, 0 to 417\n",
      "Data columns (total 8 columns):\n",
      " #   Column    Non-Null Count  Dtype  \n",
      "---  ------    --------------  -----  \n",
      " 0   Pclass    418 non-null    int64  \n",
      " 1   Sex       418 non-null    int32  \n",
      " 2   Age       418 non-null    float64\n",
      " 3   SibSp     418 non-null    int64  \n",
      " 4   Parch     418 non-null    int64  \n",
      " 5   Fare      418 non-null    float64\n",
      " 6   Embarked  418 non-null    int32  \n",
      " 7   Family    418 non-null    int64  \n",
      "dtypes: float64(2), int32(2), int64(4)\n",
      "memory usage: 23.0 KB\n"
     ]
    }
   ],
   "source": [
    "test_data.info()"
   ]
  },
  {
   "cell_type": "markdown",
   "id": "403bb74f",
   "metadata": {},
   "source": [
    "# MLP Classifier"
   ]
  },
  {
   "cell_type": "code",
   "execution_count": 53,
   "id": "c6ad8032",
   "metadata": {},
   "outputs": [
    {
     "name": "stdout",
     "output_type": "stream",
     "text": [
      "Train Data Accuracy:  0.8258426966292135\n",
      "Test Data Accuracy:  0.776536312849162\n",
      "0    268\n",
      "1    150\n",
      "Name: Survived, dtype: int64\n"
     ]
    }
   ],
   "source": [
    "from sklearn.neural_network import MLPClassifier\n",
    "from sklearn.metrics import accuracy_score\n",
    "import pandas as pd\n",
    "\n",
    "# Define and train the neural network model\n",
    "mlp = MLPClassifier(hidden_layer_sizes=(100, 50), activation='relu', solver='adam', max_iter=500, random_state=42)\n",
    "mlp.fit(X_train, y_train)\n",
    "\n",
    "# Evaluate accuracy\n",
    "print(\"Train Data Accuracy: \", accuracy_score(mlp.predict(X_train), y_train))\n",
    "print(\"Test Data Accuracy: \", accuracy_score(mlp.predict(X_val), y_val))\n",
    "\n",
    "# Make predictions on test data\n",
    "mlp_test_data = test_data.copy()\n",
    "mlp_predictions = mlp.predict(mlp_test_data)\n",
    "\n",
    "# Create submission DataFrame\n",
    "mlp_submission_df = pd.DataFrame({\"PassengerId\": passenger_ids, \"Survived\": mlp_predictions})\n",
    "\n",
    "# Set PassengerId as index\n",
    "mlp_submission_df.set_index(\"PassengerId\", inplace=True)\n",
    "print(mlp_submission_df[\"Survived\"].value_counts())\n",
    "mlp_submission_df.to_csv(\"mlp_submission.csv\")\n"
   ]
  },
  {
   "cell_type": "markdown",
   "id": "ef6abc5b",
   "metadata": {},
   "source": [
    "## Neural Networks "
   ]
  },
  {
   "cell_type": "code",
   "execution_count": 54,
   "id": "0d793ffe",
   "metadata": {},
   "outputs": [
    {
     "name": "stdout",
     "output_type": "stream",
     "text": [
      "WARNING:tensorflow:From C:\\Users\\samik\\AppData\\Roaming\\Python\\Python311\\site-packages\\keras\\src\\losses.py:2976: The name tf.losses.sparse_softmax_cross_entropy is deprecated. Please use tf.compat.v1.losses.sparse_softmax_cross_entropy instead.\n",
      "\n",
      "WARNING:tensorflow:From C:\\Users\\samik\\AppData\\Roaming\\Python\\Python311\\site-packages\\keras\\src\\backend.py:873: The name tf.get_default_graph is deprecated. Please use tf.compat.v1.get_default_graph instead.\n",
      "\n",
      "Epoch 1/250\n",
      "WARNING:tensorflow:From C:\\Users\\samik\\AppData\\Roaming\\Python\\Python311\\site-packages\\keras\\src\\utils\\tf_utils.py:492: The name tf.ragged.RaggedTensorValue is deprecated. Please use tf.compat.v1.ragged.RaggedTensorValue instead.\n",
      "\n",
      "WARNING:tensorflow:From C:\\Users\\samik\\AppData\\Roaming\\Python\\Python311\\site-packages\\keras\\src\\engine\\base_layer_utils.py:384: The name tf.executing_eagerly_outside_functions is deprecated. Please use tf.compat.v1.executing_eagerly_outside_functions instead.\n",
      "\n",
      "5/7 [====================>.........] - ETA: 0s - loss: 5.3998 - accuracy: 0.5109  WARNING:tensorflow:Early stopping conditioned on metric `val_loss` which is not available. Available metrics are: loss,accuracy\n",
      "7/7 [==============================] - 14s 32ms/step - loss: 4.9493 - accuracy: 0.5342\n",
      "Epoch 2/250\n",
      "5/7 [====================>.........] - ETA: 0s - loss: 3.7199 - accuracy: 0.5531WARNING:tensorflow:Early stopping conditioned on metric `val_loss` which is not available. Available metrics are: loss,accuracy\n",
      "7/7 [==============================] - 0s 35ms/step - loss: 3.6716 - accuracy: 0.5589\n",
      "Epoch 3/250\n",
      "3/7 [===========>..................] - ETA: 0s - loss: 2.7799 - accuracy: 0.5495WARNING:tensorflow:Early stopping conditioned on metric `val_loss` which is not available. Available metrics are: loss,accuracy\n",
      "7/7 [==============================] - 0s 18ms/step - loss: 2.5701 - accuracy: 0.5410\n",
      "Epoch 4/250\n",
      "6/7 [========================>.....] - ETA: 0s - loss: 2.2755 - accuracy: 0.5677WARNING:tensorflow:Early stopping conditioned on metric `val_loss` which is not available. Available metrics are: loss,accuracy\n",
      "7/7 [==============================] - 0s 11ms/step - loss: 2.3102 - accuracy: 0.5679\n",
      "Epoch 5/250\n",
      "5/7 [====================>.........] - ETA: 0s - loss: 2.3440 - accuracy: 0.5500WARNING:tensorflow:Early stopping conditioned on metric `val_loss` which is not available. Available metrics are: loss,accuracy\n",
      "7/7 [==============================] - 0s 13ms/step - loss: 2.1654 - accuracy: 0.5713\n",
      "Epoch 6/250\n",
      "5/7 [====================>.........] - ETA: 0s - loss: 2.0688 - accuracy: 0.5797WARNING:tensorflow:Early stopping conditioned on metric `val_loss` which is not available. Available metrics are: loss,accuracy\n",
      "7/7 [==============================] - 0s 13ms/step - loss: 2.1785 - accuracy: 0.5589\n",
      "Epoch 7/250\n",
      "4/7 [================>.............] - ETA: 0s - loss: 2.2391 - accuracy: 0.5449WARNING:tensorflow:Early stopping conditioned on metric `val_loss` which is not available. Available metrics are: loss,accuracy\n",
      "7/7 [==============================] - 0s 22ms/step - loss: 2.2228 - accuracy: 0.5432\n",
      "Epoch 8/250\n",
      "5/7 [====================>.........] - ETA: 0s - loss: 2.1971 - accuracy: 0.5813WARNING:tensorflow:Early stopping conditioned on metric `val_loss` which is not available. Available metrics are: loss,accuracy\n",
      "7/7 [==============================] - 0s 17ms/step - loss: 2.2132 - accuracy: 0.5735\n",
      "Epoch 9/250\n",
      "6/7 [========================>.....] - ETA: 0s - loss: 1.8930 - accuracy: 0.5977WARNING:tensorflow:Early stopping conditioned on metric `val_loss` which is not available. Available metrics are: loss,accuracy\n",
      "7/7 [==============================] - 0s 12ms/step - loss: 1.9624 - accuracy: 0.5802\n",
      "Epoch 10/250\n",
      "5/7 [====================>.........] - ETA: 0s - loss: 1.9592 - accuracy: 0.5922WARNING:tensorflow:Early stopping conditioned on metric `val_loss` which is not available. Available metrics are: loss,accuracy\n",
      "7/7 [==============================] - 0s 13ms/step - loss: 2.0669 - accuracy: 0.5847\n",
      "Epoch 11/250\n",
      "5/7 [====================>.........] - ETA: 0s - loss: 2.1284 - accuracy: 0.5641WARNING:tensorflow:Early stopping conditioned on metric `val_loss` which is not available. Available metrics are: loss,accuracy\n",
      "7/7 [==============================] - 0s 13ms/step - loss: 2.1112 - accuracy: 0.5600\n",
      "Epoch 12/250\n",
      "4/7 [================>.............] - ETA: 0s - loss: 2.1011 - accuracy: 0.5781WARNING:tensorflow:Early stopping conditioned on metric `val_loss` which is not available. Available metrics are: loss,accuracy\n",
      "7/7 [==============================] - 0s 16ms/step - loss: 2.0565 - accuracy: 0.5814\n",
      "Epoch 13/250\n",
      "6/7 [========================>.....] - ETA: 0s - loss: 2.0401 - accuracy: 0.5794WARNING:tensorflow:Early stopping conditioned on metric `val_loss` which is not available. Available metrics are: loss,accuracy\n",
      "7/7 [==============================] - 0s 13ms/step - loss: 2.0538 - accuracy: 0.5780\n",
      "Epoch 14/250\n",
      "6/7 [========================>.....] - ETA: 0s - loss: 1.8318 - accuracy: 0.5690WARNING:tensorflow:Early stopping conditioned on metric `val_loss` which is not available. Available metrics are: loss,accuracy\n",
      "7/7 [==============================] - 0s 12ms/step - loss: 1.9033 - accuracy: 0.5690\n",
      "Epoch 15/250\n",
      "4/7 [================>.............] - ETA: 0s - loss: 1.6868 - accuracy: 0.5957WARNING:tensorflow:Early stopping conditioned on metric `val_loss` which is not available. Available metrics are: loss,accuracy\n",
      "7/7 [==============================] - 0s 16ms/step - loss: 1.7369 - accuracy: 0.5937\n",
      "Epoch 16/250\n",
      "5/7 [====================>.........] - ETA: 0s - loss: 1.6736 - accuracy: 0.6313WARNING:tensorflow:Early stopping conditioned on metric `val_loss` which is not available. Available metrics are: loss,accuracy\n",
      "7/7 [==============================] - 0s 18ms/step - loss: 1.8022 - accuracy: 0.6251\n",
      "Epoch 17/250\n",
      "7/7 [==============================] - ETA: 0s - loss: 1.8712 - accuracy: 0.6038WARNING:tensorflow:Early stopping conditioned on metric `val_loss` which is not available. Available metrics are: loss,accuracy\n",
      "7/7 [==============================] - 0s 22ms/step - loss: 1.8712 - accuracy: 0.6038\n",
      "Epoch 18/250\n",
      "4/7 [================>.............] - ETA: 0s - loss: 1.5704 - accuracy: 0.6309WARNING:tensorflow:Early stopping conditioned on metric `val_loss` which is not available. Available metrics are: loss,accuracy\n",
      "7/7 [==============================] - 0s 18ms/step - loss: 1.6840 - accuracy: 0.6195\n",
      "Epoch 19/250\n",
      "4/7 [================>.............] - ETA: 0s - loss: 2.0995 - accuracy: 0.5801WARNING:tensorflow:Early stopping conditioned on metric `val_loss` which is not available. Available metrics are: loss,accuracy\n",
      "7/7 [==============================] - 0s 18ms/step - loss: 1.8955 - accuracy: 0.6162\n",
      "Epoch 20/250\n",
      "6/7 [========================>.....] - ETA: 0s - loss: 1.6486 - accuracy: 0.6185WARNING:tensorflow:Early stopping conditioned on metric `val_loss` which is not available. Available metrics are: loss,accuracy\n",
      "7/7 [==============================] - 0s 12ms/step - loss: 1.6854 - accuracy: 0.6128\n",
      "Epoch 21/250\n",
      "6/7 [========================>.....] - ETA: 0s - loss: 1.7963 - accuracy: 0.6107WARNING:tensorflow:Early stopping conditioned on metric `val_loss` which is not available. Available metrics are: loss,accuracy\n",
      "7/7 [==============================] - 0s 13ms/step - loss: 1.7927 - accuracy: 0.6139\n",
      "Epoch 22/250\n",
      "7/7 [==============================] - ETA: 0s - loss: 1.8627 - accuracy: 0.5948WARNING:tensorflow:Early stopping conditioned on metric `val_loss` which is not available. Available metrics are: loss,accuracy\n",
      "7/7 [==============================] - 0s 19ms/step - loss: 1.8627 - accuracy: 0.5948\n",
      "Epoch 23/250\n",
      "6/7 [========================>.....] - ETA: 0s - loss: 1.6197 - accuracy: 0.6250WARNING:tensorflow:Early stopping conditioned on metric `val_loss` which is not available. Available metrics are: loss,accuracy\n",
      "7/7 [==============================] - 0s 21ms/step - loss: 1.6445 - accuracy: 0.6162\n",
      "Epoch 24/250\n",
      "6/7 [========================>.....] - ETA: 0s - loss: 1.6393 - accuracy: 0.6250WARNING:tensorflow:Early stopping conditioned on metric `val_loss` which is not available. Available metrics are: loss,accuracy\n"
     ]
    },
    {
     "name": "stdout",
     "output_type": "stream",
     "text": [
      "7/7 [==============================] - 0s 25ms/step - loss: 1.6759 - accuracy: 0.6162\n",
      "Epoch 25/250\n",
      "5/7 [====================>.........] - ETA: 0s - loss: 1.5199 - accuracy: 0.6109WARNING:tensorflow:Early stopping conditioned on metric `val_loss` which is not available. Available metrics are: loss,accuracy\n",
      "7/7 [==============================] - 0s 14ms/step - loss: 1.6029 - accuracy: 0.6162\n",
      "Epoch 26/250\n",
      "7/7 [==============================] - ETA: 0s - loss: 1.6867 - accuracy: 0.6251WARNING:tensorflow:Early stopping conditioned on metric `val_loss` which is not available. Available metrics are: loss,accuracy\n",
      "7/7 [==============================] - 0s 21ms/step - loss: 1.6867 - accuracy: 0.6251\n",
      "Epoch 27/250\n",
      "6/7 [========================>.....] - ETA: 0s - loss: 1.7253 - accuracy: 0.6107WARNING:tensorflow:Early stopping conditioned on metric `val_loss` which is not available. Available metrics are: loss,accuracy\n",
      "7/7 [==============================] - 0s 24ms/step - loss: 1.7264 - accuracy: 0.6128\n",
      "Epoch 28/250\n",
      "6/7 [========================>.....] - ETA: 0s - loss: 1.5112 - accuracy: 0.6029WARNING:tensorflow:Early stopping conditioned on metric `val_loss` which is not available. Available metrics are: loss,accuracy\n",
      "7/7 [==============================] - 0s 14ms/step - loss: 1.5871 - accuracy: 0.6016\n",
      "Epoch 29/250\n",
      "5/7 [====================>.........] - ETA: 0s - loss: 1.6216 - accuracy: 0.6141WARNING:tensorflow:Early stopping conditioned on metric `val_loss` which is not available. Available metrics are: loss,accuracy\n",
      "7/7 [==============================] - 0s 14ms/step - loss: 1.5868 - accuracy: 0.6218\n",
      "Epoch 30/250\n",
      "5/7 [====================>.........] - ETA: 0s - loss: 1.7440 - accuracy: 0.6141WARNING:tensorflow:Early stopping conditioned on metric `val_loss` which is not available. Available metrics are: loss,accuracy\n",
      "7/7 [==============================] - 0s 40ms/step - loss: 1.8150 - accuracy: 0.6162\n",
      "Epoch 31/250\n",
      "7/7 [==============================] - ETA: 0s - loss: 1.4727 - accuracy: 0.6162WARNING:tensorflow:Early stopping conditioned on metric `val_loss` which is not available. Available metrics are: loss,accuracy\n",
      "7/7 [==============================] - 0s 22ms/step - loss: 1.4727 - accuracy: 0.6162\n",
      "Epoch 32/250\n",
      "3/7 [===========>..................] - ETA: 0s - loss: 1.8405 - accuracy: 0.6120WARNING:tensorflow:Early stopping conditioned on metric `val_loss` which is not available. Available metrics are: loss,accuracy\n",
      "7/7 [==============================] - 0s 17ms/step - loss: 1.6297 - accuracy: 0.6162\n",
      "Epoch 33/250\n",
      "4/7 [================>.............] - ETA: 0s - loss: 1.6711 - accuracy: 0.6113WARNING:tensorflow:Early stopping conditioned on metric `val_loss` which is not available. Available metrics are: loss,accuracy\n",
      "7/7 [==============================] - 0s 15ms/step - loss: 1.6110 - accuracy: 0.6061\n",
      "Epoch 34/250\n",
      "4/7 [================>.............] - ETA: 0s - loss: 1.6452 - accuracy: 0.6074WARNING:tensorflow:Early stopping conditioned on metric `val_loss` which is not available. Available metrics are: loss,accuracy\n",
      "7/7 [==============================] - 0s 15ms/step - loss: 1.5514 - accuracy: 0.6162\n",
      "Epoch 35/250\n",
      "5/7 [====================>.........] - ETA: 0s - loss: 1.4808 - accuracy: 0.6281WARNING:tensorflow:Early stopping conditioned on metric `val_loss` which is not available. Available metrics are: loss,accuracy\n",
      "7/7 [==============================] - 0s 16ms/step - loss: 1.4443 - accuracy: 0.6162\n",
      "Epoch 36/250\n",
      "7/7 [==============================] - ETA: 0s - loss: 1.6697 - accuracy: 0.6162WARNING:tensorflow:Early stopping conditioned on metric `val_loss` which is not available. Available metrics are: loss,accuracy\n",
      "7/7 [==============================] - 0s 10ms/step - loss: 1.6697 - accuracy: 0.6162\n",
      "Epoch 37/250\n",
      "7/7 [==============================] - ETA: 0s - loss: 1.6226 - accuracy: 0.6162WARNING:tensorflow:Early stopping conditioned on metric `val_loss` which is not available. Available metrics are: loss,accuracy\n",
      "7/7 [==============================] - 0s 31ms/step - loss: 1.6226 - accuracy: 0.6162\n",
      "Epoch 38/250\n",
      "6/7 [========================>.....] - ETA: 0s - loss: 1.7550 - accuracy: 0.6211WARNING:tensorflow:Early stopping conditioned on metric `val_loss` which is not available. Available metrics are: loss,accuracy\n",
      "7/7 [==============================] - 0s 12ms/step - loss: 1.6934 - accuracy: 0.6162\n",
      "Epoch 39/250\n",
      "7/7 [==============================] - ETA: 0s - loss: 1.3123 - accuracy: 0.6162WARNING:tensorflow:Early stopping conditioned on metric `val_loss` which is not available. Available metrics are: loss,accuracy\n",
      "7/7 [==============================] - 0s 13ms/step - loss: 1.3123 - accuracy: 0.6162\n",
      "Epoch 40/250\n",
      "6/7 [========================>.....] - ETA: 0s - loss: 1.5511 - accuracy: 0.6146WARNING:tensorflow:Early stopping conditioned on metric `val_loss` which is not available. Available metrics are: loss,accuracy\n",
      "7/7 [==============================] - 0s 13ms/step - loss: 1.5137 - accuracy: 0.6162\n",
      "Epoch 41/250\n",
      "7/7 [==============================] - ETA: 0s - loss: 1.4611 - accuracy: 0.6162WARNING:tensorflow:Early stopping conditioned on metric `val_loss` which is not available. Available metrics are: loss,accuracy\n",
      "7/7 [==============================] - 0s 20ms/step - loss: 1.4611 - accuracy: 0.6162\n",
      "Epoch 42/250\n",
      "6/7 [========================>.....] - ETA: 0s - loss: 1.4573 - accuracy: 0.6224WARNING:tensorflow:Early stopping conditioned on metric `val_loss` which is not available. Available metrics are: loss,accuracy\n",
      "7/7 [==============================] - 0s 14ms/step - loss: 1.5451 - accuracy: 0.6162\n",
      "Epoch 43/250\n",
      "6/7 [========================>.....] - ETA: 0s - loss: 1.5190 - accuracy: 0.6081WARNING:tensorflow:Early stopping conditioned on metric `val_loss` which is not available. Available metrics are: loss,accuracy\n",
      "7/7 [==============================] - 0s 12ms/step - loss: 1.4570 - accuracy: 0.6162\n",
      "Epoch 44/250\n",
      "6/7 [========================>.....] - ETA: 0s - loss: 1.5453 - accuracy: 0.6107WARNING:tensorflow:Early stopping conditioned on metric `val_loss` which is not available. Available metrics are: loss,accuracy\n",
      "7/7 [==============================] - 0s 11ms/step - loss: 1.5277 - accuracy: 0.6162\n",
      "Epoch 45/250\n",
      "6/7 [========================>.....] - ETA: 0s - loss: 1.4304 - accuracy: 0.6094WARNING:tensorflow:Early stopping conditioned on metric `val_loss` which is not available. Available metrics are: loss,accuracy\n",
      "7/7 [==============================] - 0s 14ms/step - loss: 1.3805 - accuracy: 0.6162\n",
      "Epoch 46/250\n",
      "7/7 [==============================] - ETA: 0s - loss: 1.4042 - accuracy: 0.6162WARNING:tensorflow:Early stopping conditioned on metric `val_loss` which is not available. Available metrics are: loss,accuracy\n",
      "7/7 [==============================] - 0s 12ms/step - loss: 1.4042 - accuracy: 0.6162\n",
      "Epoch 47/250\n",
      "6/7 [========================>.....] - ETA: 0s - loss: 1.3701 - accuracy: 0.6185WARNING:tensorflow:Early stopping conditioned on metric `val_loss` which is not available. Available metrics are: loss,accuracy\n",
      "7/7 [==============================] - 0s 15ms/step - loss: 1.3778 - accuracy: 0.6162\n",
      "Epoch 48/250\n",
      "4/7 [================>.............] - ETA: 0s - loss: 1.4349 - accuracy: 0.6328WARNING:tensorflow:Early stopping conditioned on metric `val_loss` which is not available. Available metrics are: loss,accuracy\n",
      "7/7 [==============================] - 0s 18ms/step - loss: 1.4344 - accuracy: 0.6162\n",
      "Epoch 49/250\n",
      "5/7 [====================>.........] - ETA: 0s - loss: 1.3689 - accuracy: 0.6172WARNING:tensorflow:Early stopping conditioned on metric `val_loss` which is not available. Available metrics are: loss,accuracy\n",
      "7/7 [==============================] - 0s 16ms/step - loss: 1.3845 - accuracy: 0.6162\n",
      "Epoch 50/250\n",
      "7/7 [==============================] - ETA: 0s - loss: 1.5944 - accuracy: 0.6162WARNING:tensorflow:Early stopping conditioned on metric `val_loss` which is not available. Available metrics are: loss,accuracy\n",
      "7/7 [==============================] - 0s 10ms/step - loss: 1.5944 - accuracy: 0.6162\n",
      "Epoch 51/250\n",
      "7/7 [==============================] - ETA: 0s - loss: 1.4892 - accuracy: 0.6162WARNING:tensorflow:Early stopping conditioned on metric `val_loss` which is not available. Available metrics are: loss,accuracy\n"
     ]
    },
    {
     "name": "stdout",
     "output_type": "stream",
     "text": [
      "7/7 [==============================] - 0s 9ms/step - loss: 1.4892 - accuracy: 0.6162\n",
      "Epoch 52/250\n",
      "7/7 [==============================] - ETA: 0s - loss: 1.3928 - accuracy: 0.6162WARNING:tensorflow:Early stopping conditioned on metric `val_loss` which is not available. Available metrics are: loss,accuracy\n",
      "7/7 [==============================] - 0s 10ms/step - loss: 1.3928 - accuracy: 0.6162\n",
      "Epoch 53/250\n",
      "6/7 [========================>.....] - ETA: 0s - loss: 1.4030 - accuracy: 0.6185WARNING:tensorflow:Early stopping conditioned on metric `val_loss` which is not available. Available metrics are: loss,accuracy\n",
      "7/7 [==============================] - 0s 12ms/step - loss: 1.3903 - accuracy: 0.6162\n",
      "Epoch 54/250\n",
      "5/7 [====================>.........] - ETA: 0s - loss: 1.4529 - accuracy: 0.6141WARNING:tensorflow:Early stopping conditioned on metric `val_loss` which is not available. Available metrics are: loss,accuracy\n",
      "7/7 [==============================] - 0s 12ms/step - loss: 1.3381 - accuracy: 0.6162\n",
      "Epoch 55/250\n",
      "7/7 [==============================] - ETA: 0s - loss: 1.4051 - accuracy: 0.6162WARNING:tensorflow:Early stopping conditioned on metric `val_loss` which is not available. Available metrics are: loss,accuracy\n",
      "7/7 [==============================] - 0s 13ms/step - loss: 1.4051 - accuracy: 0.6162\n",
      "Epoch 56/250\n",
      "7/7 [==============================] - ETA: 0s - loss: 1.3488 - accuracy: 0.6162WARNING:tensorflow:Early stopping conditioned on metric `val_loss` which is not available. Available metrics are: loss,accuracy\n",
      "7/7 [==============================] - 0s 13ms/step - loss: 1.3488 - accuracy: 0.6162\n",
      "Epoch 57/250\n",
      "6/7 [========================>.....] - ETA: 0s - loss: 1.2519 - accuracy: 0.6146WARNING:tensorflow:Early stopping conditioned on metric `val_loss` which is not available. Available metrics are: loss,accuracy\n",
      "7/7 [==============================] - 0s 13ms/step - loss: 1.2484 - accuracy: 0.6162\n",
      "Epoch 58/250\n",
      "7/7 [==============================] - ETA: 0s - loss: 1.3175 - accuracy: 0.6162WARNING:tensorflow:Early stopping conditioned on metric `val_loss` which is not available. Available metrics are: loss,accuracy\n",
      "7/7 [==============================] - 0s 10ms/step - loss: 1.3175 - accuracy: 0.6162\n",
      "Epoch 59/250\n",
      "1/7 [===>..........................] - ETA: 0s - loss: 0.9575 - accuracy: 0.7266WARNING:tensorflow:Early stopping conditioned on metric `val_loss` which is not available. Available metrics are: loss,accuracy\n",
      "7/7 [==============================] - 0s 9ms/step - loss: 1.3684 - accuracy: 0.6162\n",
      "Epoch 60/250\n",
      "7/7 [==============================] - ETA: 0s - loss: 1.3736 - accuracy: 0.6162WARNING:tensorflow:Early stopping conditioned on metric `val_loss` which is not available. Available metrics are: loss,accuracy\n",
      "7/7 [==============================] - 0s 10ms/step - loss: 1.3736 - accuracy: 0.6162\n",
      "Epoch 61/250\n",
      "6/7 [========================>.....] - ETA: 0s - loss: 1.3028 - accuracy: 0.6016WARNING:tensorflow:Early stopping conditioned on metric `val_loss` which is not available. Available metrics are: loss,accuracy\n",
      "7/7 [==============================] - 0s 13ms/step - loss: 1.2781 - accuracy: 0.6162\n",
      "Epoch 62/250\n",
      "7/7 [==============================] - ETA: 0s - loss: 1.2898 - accuracy: 0.6162WARNING:tensorflow:Early stopping conditioned on metric `val_loss` which is not available. Available metrics are: loss,accuracy\n",
      "7/7 [==============================] - 0s 11ms/step - loss: 1.2898 - accuracy: 0.6162\n",
      "Epoch 63/250\n",
      "5/7 [====================>.........] - ETA: 0s - loss: 1.4651 - accuracy: 0.6078WARNING:tensorflow:Early stopping conditioned on metric `val_loss` which is not available. Available metrics are: loss,accuracy\n",
      "7/7 [==============================] - 0s 13ms/step - loss: 1.3714 - accuracy: 0.6162\n",
      "Epoch 64/250\n",
      "7/7 [==============================] - ETA: 0s - loss: 1.4711 - accuracy: 0.6162WARNING:tensorflow:Early stopping conditioned on metric `val_loss` which is not available. Available metrics are: loss,accuracy\n",
      "7/7 [==============================] - 0s 11ms/step - loss: 1.4711 - accuracy: 0.6162\n",
      "Epoch 65/250\n",
      "7/7 [==============================] - ETA: 0s - loss: 1.3021 - accuracy: 0.6162WARNING:tensorflow:Early stopping conditioned on metric `val_loss` which is not available. Available metrics are: loss,accuracy\n",
      "7/7 [==============================] - 0s 31ms/step - loss: 1.3021 - accuracy: 0.6162\n",
      "Epoch 66/250\n",
      "7/7 [==============================] - ETA: 0s - loss: 1.1012 - accuracy: 0.6162WARNING:tensorflow:Early stopping conditioned on metric `val_loss` which is not available. Available metrics are: loss,accuracy\n",
      "7/7 [==============================] - 0s 28ms/step - loss: 1.1012 - accuracy: 0.6162\n",
      "Epoch 67/250\n",
      "6/7 [========================>.....] - ETA: 0s - loss: 1.1786 - accuracy: 0.6094WARNING:tensorflow:Early stopping conditioned on metric `val_loss` which is not available. Available metrics are: loss,accuracy\n",
      "7/7 [==============================] - 0s 21ms/step - loss: 1.1444 - accuracy: 0.6162\n",
      "Epoch 68/250\n",
      "3/7 [===========>..................] - ETA: 0s - loss: 1.4170 - accuracy: 0.6276WARNING:tensorflow:Early stopping conditioned on metric `val_loss` which is not available. Available metrics are: loss,accuracy\n",
      "7/7 [==============================] - 0s 26ms/step - loss: 1.4102 - accuracy: 0.6162\n",
      "Epoch 69/250\n",
      "6/7 [========================>.....] - ETA: 0s - loss: 1.2801 - accuracy: 0.6172WARNING:tensorflow:Early stopping conditioned on metric `val_loss` which is not available. Available metrics are: loss,accuracy\n",
      "7/7 [==============================] - 0s 12ms/step - loss: 1.2916 - accuracy: 0.6162\n",
      "Epoch 70/250\n",
      "6/7 [========================>.....] - ETA: 0s - loss: 1.0586 - accuracy: 0.6185WARNING:tensorflow:Early stopping conditioned on metric `val_loss` which is not available. Available metrics are: loss,accuracy\n",
      "7/7 [==============================] - 0s 15ms/step - loss: 1.1339 - accuracy: 0.6162\n",
      "Epoch 71/250\n",
      "6/7 [========================>.....] - ETA: 0s - loss: 1.0372 - accuracy: 0.6185WARNING:tensorflow:Early stopping conditioned on metric `val_loss` which is not available. Available metrics are: loss,accuracy\n",
      "7/7 [==============================] - 0s 21ms/step - loss: 1.0685 - accuracy: 0.6162\n",
      "Epoch 72/250\n",
      "6/7 [========================>.....] - ETA: 0s - loss: 1.2091 - accuracy: 0.6081WARNING:tensorflow:Early stopping conditioned on metric `val_loss` which is not available. Available metrics are: loss,accuracy\n",
      "7/7 [==============================] - 0s 20ms/step - loss: 1.1395 - accuracy: 0.6162\n",
      "Epoch 73/250\n",
      "5/7 [====================>.........] - ETA: 0s - loss: 1.4897 - accuracy: 0.6125WARNING:tensorflow:Early stopping conditioned on metric `val_loss` which is not available. Available metrics are: loss,accuracy\n",
      "7/7 [==============================] - 0s 17ms/step - loss: 1.4718 - accuracy: 0.6162\n",
      "Epoch 74/250\n",
      "6/7 [========================>.....] - ETA: 0s - loss: 1.2780 - accuracy: 0.6081WARNING:tensorflow:Early stopping conditioned on metric `val_loss` which is not available. Available metrics are: loss,accuracy\n",
      "7/7 [==============================] - 0s 17ms/step - loss: 1.2678 - accuracy: 0.6128\n",
      "Epoch 75/250\n",
      "5/7 [====================>.........] - ETA: 0s - loss: 1.1553 - accuracy: 0.6203WARNING:tensorflow:Early stopping conditioned on metric `val_loss` which is not available. Available metrics are: loss,accuracy\n",
      "7/7 [==============================] - 0s 16ms/step - loss: 1.2214 - accuracy: 0.6162\n",
      "Epoch 76/250\n",
      "4/7 [================>.............] - ETA: 0s - loss: 1.1088 - accuracy: 0.6367WARNING:tensorflow:Early stopping conditioned on metric `val_loss` which is not available. Available metrics are: loss,accuracy\n",
      "7/7 [==============================] - 0s 18ms/step - loss: 1.2161 - accuracy: 0.6162\n",
      "Epoch 77/250\n",
      "5/7 [====================>.........] - ETA: 0s - loss: 1.2127 - accuracy: 0.6109WARNING:tensorflow:Early stopping conditioned on metric `val_loss` which is not available. Available metrics are: loss,accuracy\n",
      "7/7 [==============================] - 0s 15ms/step - loss: 1.2396 - accuracy: 0.6162\n",
      "Epoch 78/250\n",
      "7/7 [==============================] - ETA: 0s - loss: 1.1715 - accuracy: 0.6162WARNING:tensorflow:Early stopping conditioned on metric `val_loss` which is not available. Available metrics are: loss,accuracy\n"
     ]
    },
    {
     "name": "stdout",
     "output_type": "stream",
     "text": [
      "7/7 [==============================] - 0s 10ms/step - loss: 1.1715 - accuracy: 0.6162\n",
      "Epoch 79/250\n",
      "4/7 [================>.............] - ETA: 0s - loss: 1.2674 - accuracy: 0.6035WARNING:tensorflow:Early stopping conditioned on metric `val_loss` which is not available. Available metrics are: loss,accuracy\n",
      "7/7 [==============================] - 0s 15ms/step - loss: 1.1454 - accuracy: 0.6162\n",
      "Epoch 80/250\n",
      "7/7 [==============================] - ETA: 0s - loss: 1.1874 - accuracy: 0.6162WARNING:tensorflow:Early stopping conditioned on metric `val_loss` which is not available. Available metrics are: loss,accuracy\n",
      "7/7 [==============================] - 0s 19ms/step - loss: 1.1874 - accuracy: 0.6162\n",
      "Epoch 81/250\n",
      "6/7 [========================>.....] - ETA: 0s - loss: 1.2674 - accuracy: 0.6120WARNING:tensorflow:Early stopping conditioned on metric `val_loss` which is not available. Available metrics are: loss,accuracy\n",
      "7/7 [==============================] - 0s 13ms/step - loss: 1.3212 - accuracy: 0.6162\n",
      "Epoch 82/250\n",
      "5/7 [====================>.........] - ETA: 0s - loss: 1.3536 - accuracy: 0.6094WARNING:tensorflow:Early stopping conditioned on metric `val_loss` which is not available. Available metrics are: loss,accuracy\n",
      "7/7 [==============================] - 0s 13ms/step - loss: 1.3127 - accuracy: 0.6162\n",
      "Epoch 83/250\n",
      "5/7 [====================>.........] - ETA: 0s - loss: 1.2807 - accuracy: 0.6344WARNING:tensorflow:Early stopping conditioned on metric `val_loss` which is not available. Available metrics are: loss,accuracy\n",
      "7/7 [==============================] - 0s 14ms/step - loss: 1.2796 - accuracy: 0.6162\n",
      "Epoch 84/250\n",
      "7/7 [==============================] - ETA: 0s - loss: 1.2376 - accuracy: 0.6162WARNING:tensorflow:Early stopping conditioned on metric `val_loss` which is not available. Available metrics are: loss,accuracy\n",
      "7/7 [==============================] - 0s 23ms/step - loss: 1.2376 - accuracy: 0.6162\n",
      "Epoch 85/250\n",
      "5/7 [====================>.........] - ETA: 0s - loss: 1.2401 - accuracy: 0.6234WARNING:tensorflow:Early stopping conditioned on metric `val_loss` which is not available. Available metrics are: loss,accuracy\n",
      "7/7 [==============================] - 0s 14ms/step - loss: 1.2953 - accuracy: 0.6162\n",
      "Epoch 86/250\n",
      "6/7 [========================>.....] - ETA: 0s - loss: 1.2912 - accuracy: 0.6185WARNING:tensorflow:Early stopping conditioned on metric `val_loss` which is not available. Available metrics are: loss,accuracy\n",
      "7/7 [==============================] - 0s 11ms/step - loss: 1.3113 - accuracy: 0.6162\n",
      "Epoch 87/250\n",
      "5/7 [====================>.........] - ETA: 0s - loss: 1.2428 - accuracy: 0.6109WARNING:tensorflow:Early stopping conditioned on metric `val_loss` which is not available. Available metrics are: loss,accuracy\n",
      "7/7 [==============================] - 0s 12ms/step - loss: 1.2377 - accuracy: 0.6162\n",
      "Epoch 88/250\n",
      "7/7 [==============================] - ETA: 0s - loss: 1.0815 - accuracy: 0.6162WARNING:tensorflow:Early stopping conditioned on metric `val_loss` which is not available. Available metrics are: loss,accuracy\n",
      "7/7 [==============================] - 0s 10ms/step - loss: 1.0815 - accuracy: 0.6162\n",
      "Epoch 89/250\n",
      "5/7 [====================>.........] - ETA: 0s - loss: 1.0473 - accuracy: 0.6219WARNING:tensorflow:Early stopping conditioned on metric `val_loss` which is not available. Available metrics are: loss,accuracy\n",
      "7/7 [==============================] - 0s 13ms/step - loss: 1.1584 - accuracy: 0.6162\n",
      "Epoch 90/250\n",
      "4/7 [================>.............] - ETA: 0s - loss: 1.2590 - accuracy: 0.6152WARNING:tensorflow:Early stopping conditioned on metric `val_loss` which is not available. Available metrics are: loss,accuracy\n",
      "7/7 [==============================] - 0s 19ms/step - loss: 1.1228 - accuracy: 0.6162\n",
      "Epoch 91/250\n",
      "6/7 [========================>.....] - ETA: 0s - loss: 1.1997 - accuracy: 0.6146WARNING:tensorflow:Early stopping conditioned on metric `val_loss` which is not available. Available metrics are: loss,accuracy\n",
      "7/7 [==============================] - 0s 17ms/step - loss: 1.2026 - accuracy: 0.6162\n",
      "Epoch 92/250\n",
      "6/7 [========================>.....] - ETA: 0s - loss: 1.1508 - accuracy: 0.6133WARNING:tensorflow:Early stopping conditioned on metric `val_loss` which is not available. Available metrics are: loss,accuracy\n",
      "7/7 [==============================] - 0s 18ms/step - loss: 1.1294 - accuracy: 0.6162\n",
      "Epoch 93/250\n",
      "5/7 [====================>.........] - ETA: 0s - loss: 1.1469 - accuracy: 0.6250WARNING:tensorflow:Early stopping conditioned on metric `val_loss` which is not available. Available metrics are: loss,accuracy\n",
      "7/7 [==============================] - 0s 18ms/step - loss: 1.1761 - accuracy: 0.6162\n",
      "Epoch 94/250\n",
      "7/7 [==============================] - ETA: 0s - loss: 1.1895 - accuracy: 0.6162WARNING:tensorflow:Early stopping conditioned on metric `val_loss` which is not available. Available metrics are: loss,accuracy\n",
      "7/7 [==============================] - 0s 28ms/step - loss: 1.1895 - accuracy: 0.6162\n",
      "Epoch 95/250\n",
      "4/7 [================>.............] - ETA: 0s - loss: 1.1867 - accuracy: 0.6328WARNING:tensorflow:Early stopping conditioned on metric `val_loss` which is not available. Available metrics are: loss,accuracy\n",
      "7/7 [==============================] - 0s 20ms/step - loss: 1.1852 - accuracy: 0.6162\n",
      "Epoch 96/250\n",
      "5/7 [====================>.........] - ETA: 0s - loss: 1.1359 - accuracy: 0.6094WARNING:tensorflow:Early stopping conditioned on metric `val_loss` which is not available. Available metrics are: loss,accuracy\n",
      "7/7 [==============================] - 0s 43ms/step - loss: 1.1562 - accuracy: 0.6162\n",
      "Epoch 97/250\n",
      "7/7 [==============================] - ETA: 0s - loss: 1.3282 - accuracy: 0.6162WARNING:tensorflow:Early stopping conditioned on metric `val_loss` which is not available. Available metrics are: loss,accuracy\n",
      "7/7 [==============================] - 0s 27ms/step - loss: 1.3282 - accuracy: 0.6162\n",
      "Epoch 98/250\n",
      "4/7 [================>.............] - ETA: 0s - loss: 1.2777 - accuracy: 0.5977WARNING:tensorflow:Early stopping conditioned on metric `val_loss` which is not available. Available metrics are: loss,accuracy\n",
      "7/7 [==============================] - 0s 17ms/step - loss: 1.2452 - accuracy: 0.6162\n",
      "Epoch 99/250\n",
      "6/7 [========================>.....] - ETA: 0s - loss: 1.1438 - accuracy: 0.6094WARNING:tensorflow:Early stopping conditioned on metric `val_loss` which is not available. Available metrics are: loss,accuracy\n",
      "7/7 [==============================] - 0s 13ms/step - loss: 1.1660 - accuracy: 0.6162\n",
      "Epoch 100/250\n",
      "7/7 [==============================] - ETA: 0s - loss: 1.1259 - accuracy: 0.6162WARNING:tensorflow:Early stopping conditioned on metric `val_loss` which is not available. Available metrics are: loss,accuracy\n",
      "7/7 [==============================] - 0s 10ms/step - loss: 1.1259 - accuracy: 0.6162\n",
      "Epoch 101/250\n",
      "2/7 [=======>......................] - ETA: 0s - loss: 0.9528 - accuracy: 0.6445WARNING:tensorflow:Early stopping conditioned on metric `val_loss` which is not available. Available metrics are: loss,accuracy\n",
      "7/7 [==============================] - 0s 25ms/step - loss: 1.1347 - accuracy: 0.6162\n",
      "Epoch 102/250\n",
      "4/7 [================>.............] - ETA: 0s - loss: 1.1156 - accuracy: 0.6035WARNING:tensorflow:Early stopping conditioned on metric `val_loss` which is not available. Available metrics are: loss,accuracy\n",
      "7/7 [==============================] - 0s 17ms/step - loss: 1.1247 - accuracy: 0.6162\n",
      "Epoch 103/250\n",
      "6/7 [========================>.....] - ETA: 0s - loss: 1.2173 - accuracy: 0.6016WARNING:tensorflow:Early stopping conditioned on metric `val_loss` which is not available. Available metrics are: loss,accuracy\n",
      "7/7 [==============================] - 0s 23ms/step - loss: 1.1909 - accuracy: 0.6162\n",
      "Epoch 104/250\n",
      "7/7 [==============================] - ETA: 0s - loss: 1.1434 - accuracy: 0.6162WARNING:tensorflow:Early stopping conditioned on metric `val_loss` which is not available. Available metrics are: loss,accuracy\n",
      "7/7 [==============================] - 0s 20ms/step - loss: 1.1434 - accuracy: 0.6162\n",
      "Epoch 105/250\n",
      "4/7 [================>.............] - ETA: 0s - loss: 1.0183 - accuracy: 0.6348WARNING:tensorflow:Early stopping conditioned on metric `val_loss` which is not available. Available metrics are: loss,accuracy\n"
     ]
    },
    {
     "name": "stdout",
     "output_type": "stream",
     "text": [
      "7/7 [==============================] - 0s 15ms/step - loss: 1.0816 - accuracy: 0.6162\n",
      "Epoch 106/250\n",
      "5/7 [====================>.........] - ETA: 0s - loss: 0.9914 - accuracy: 0.6125WARNING:tensorflow:Early stopping conditioned on metric `val_loss` which is not available. Available metrics are: loss,accuracy\n",
      "7/7 [==============================] - 0s 14ms/step - loss: 1.0149 - accuracy: 0.6162\n",
      "Epoch 107/250\n",
      "5/7 [====================>.........] - ETA: 0s - loss: 1.1543 - accuracy: 0.6234WARNING:tensorflow:Early stopping conditioned on metric `val_loss` which is not available. Available metrics are: loss,accuracy\n",
      "7/7 [==============================] - 0s 13ms/step - loss: 1.2754 - accuracy: 0.6162\n",
      "Epoch 108/250\n",
      "6/7 [========================>.....] - ETA: 0s - loss: 0.9610 - accuracy: 0.6172WARNING:tensorflow:Early stopping conditioned on metric `val_loss` which is not available. Available metrics are: loss,accuracy\n",
      "7/7 [==============================] - 0s 13ms/step - loss: 0.9948 - accuracy: 0.6162\n",
      "Epoch 109/250\n",
      "7/7 [==============================] - ETA: 0s - loss: 1.0108 - accuracy: 0.6162WARNING:tensorflow:Early stopping conditioned on metric `val_loss` which is not available. Available metrics are: loss,accuracy\n",
      "7/7 [==============================] - 0s 20ms/step - loss: 1.0108 - accuracy: 0.6162\n",
      "Epoch 110/250\n",
      "5/7 [====================>.........] - ETA: 0s - loss: 0.8776 - accuracy: 0.6172WARNING:tensorflow:Early stopping conditioned on metric `val_loss` which is not available. Available metrics are: loss,accuracy\n",
      "7/7 [==============================] - 0s 19ms/step - loss: 0.9363 - accuracy: 0.6162\n",
      "Epoch 111/250\n",
      "7/7 [==============================] - ETA: 0s - loss: 0.9809 - accuracy: 0.6162WARNING:tensorflow:Early stopping conditioned on metric `val_loss` which is not available. Available metrics are: loss,accuracy\n",
      "7/7 [==============================] - 0s 12ms/step - loss: 0.9809 - accuracy: 0.6162\n",
      "Epoch 112/250\n",
      "6/7 [========================>.....] - ETA: 0s - loss: 1.0728 - accuracy: 0.6146WARNING:tensorflow:Early stopping conditioned on metric `val_loss` which is not available. Available metrics are: loss,accuracy\n",
      "7/7 [==============================] - 0s 15ms/step - loss: 1.0777 - accuracy: 0.6162\n",
      "Epoch 113/250\n",
      "7/7 [==============================] - ETA: 0s - loss: 1.0325 - accuracy: 0.6162WARNING:tensorflow:Early stopping conditioned on metric `val_loss` which is not available. Available metrics are: loss,accuracy\n",
      "7/7 [==============================] - 0s 11ms/step - loss: 1.0325 - accuracy: 0.6162\n",
      "Epoch 114/250\n",
      "7/7 [==============================] - ETA: 0s - loss: 1.0305 - accuracy: 0.6162WARNING:tensorflow:Early stopping conditioned on metric `val_loss` which is not available. Available metrics are: loss,accuracy\n",
      "7/7 [==============================] - 0s 11ms/step - loss: 1.0305 - accuracy: 0.6162\n",
      "Epoch 115/250\n",
      "5/7 [====================>.........] - ETA: 0s - loss: 1.2207 - accuracy: 0.6141WARNING:tensorflow:Early stopping conditioned on metric `val_loss` which is not available. Available metrics are: loss,accuracy\n",
      "7/7 [==============================] - 0s 15ms/step - loss: 1.1799 - accuracy: 0.6162\n",
      "Epoch 116/250\n",
      "4/7 [================>.............] - ETA: 0s - loss: 0.9965 - accuracy: 0.5996WARNING:tensorflow:Early stopping conditioned on metric `val_loss` which is not available. Available metrics are: loss,accuracy\n",
      "7/7 [==============================] - 0s 14ms/step - loss: 1.0270 - accuracy: 0.6162\n",
      "Epoch 117/250\n",
      "4/7 [================>.............] - ETA: 0s - loss: 0.9150 - accuracy: 0.6289WARNING:tensorflow:Early stopping conditioned on metric `val_loss` which is not available. Available metrics are: loss,accuracy\n",
      "7/7 [==============================] - 0s 17ms/step - loss: 0.9314 - accuracy: 0.6162\n",
      "Epoch 118/250\n",
      "5/7 [====================>.........] - ETA: 0s - loss: 1.0525 - accuracy: 0.6219WARNING:tensorflow:Early stopping conditioned on metric `val_loss` which is not available. Available metrics are: loss,accuracy\n",
      "7/7 [==============================] - 0s 17ms/step - loss: 1.0411 - accuracy: 0.6162\n",
      "Epoch 119/250\n",
      "6/7 [========================>.....] - ETA: 0s - loss: 0.9659 - accuracy: 0.6198WARNING:tensorflow:Early stopping conditioned on metric `val_loss` which is not available. Available metrics are: loss,accuracy\n",
      "7/7 [==============================] - 0s 15ms/step - loss: 1.0219 - accuracy: 0.6162\n",
      "Epoch 120/250\n",
      "6/7 [========================>.....] - ETA: 0s - loss: 1.1650 - accuracy: 0.6172WARNING:tensorflow:Early stopping conditioned on metric `val_loss` which is not available. Available metrics are: loss,accuracy\n",
      "7/7 [==============================] - 0s 15ms/step - loss: 1.1079 - accuracy: 0.6162\n",
      "Epoch 121/250\n",
      "5/7 [====================>.........] - ETA: 0s - loss: 0.9005 - accuracy: 0.6031WARNING:tensorflow:Early stopping conditioned on metric `val_loss` which is not available. Available metrics are: loss,accuracy\n",
      "7/7 [==============================] - 0s 14ms/step - loss: 0.9378 - accuracy: 0.6162\n",
      "Epoch 122/250\n",
      "7/7 [==============================] - ETA: 0s - loss: 0.9360 - accuracy: 0.6162WARNING:tensorflow:Early stopping conditioned on metric `val_loss` which is not available. Available metrics are: loss,accuracy\n",
      "7/7 [==============================] - 0s 11ms/step - loss: 0.9360 - accuracy: 0.6162\n",
      "Epoch 123/250\n",
      "7/7 [==============================] - ETA: 0s - loss: 0.9867 - accuracy: 0.6162WARNING:tensorflow:Early stopping conditioned on metric `val_loss` which is not available. Available metrics are: loss,accuracy\n",
      "7/7 [==============================] - 0s 11ms/step - loss: 0.9867 - accuracy: 0.6162\n",
      "Epoch 124/250\n",
      "5/7 [====================>.........] - ETA: 0s - loss: 1.0618 - accuracy: 0.6187WARNING:tensorflow:Early stopping conditioned on metric `val_loss` which is not available. Available metrics are: loss,accuracy\n",
      "7/7 [==============================] - 0s 17ms/step - loss: 1.1034 - accuracy: 0.6162\n",
      "Epoch 125/250\n",
      "6/7 [========================>.....] - ETA: 0s - loss: 1.1600 - accuracy: 0.6081WARNING:tensorflow:Early stopping conditioned on metric `val_loss` which is not available. Available metrics are: loss,accuracy\n",
      "7/7 [==============================] - 0s 15ms/step - loss: 1.1332 - accuracy: 0.6162\n",
      "Epoch 126/250\n",
      "5/7 [====================>.........] - ETA: 0s - loss: 0.9928 - accuracy: 0.6078WARNING:tensorflow:Early stopping conditioned on metric `val_loss` which is not available. Available metrics are: loss,accuracy\n",
      "7/7 [==============================] - 0s 17ms/step - loss: 1.0367 - accuracy: 0.6162\n",
      "Epoch 127/250\n",
      "5/7 [====================>.........] - ETA: 0s - loss: 0.9758 - accuracy: 0.6109WARNING:tensorflow:Early stopping conditioned on metric `val_loss` which is not available. Available metrics are: loss,accuracy\n",
      "7/7 [==============================] - 0s 19ms/step - loss: 1.0018 - accuracy: 0.6162\n",
      "Epoch 128/250\n",
      "7/7 [==============================] - ETA: 0s - loss: 1.0914 - accuracy: 0.6162WARNING:tensorflow:Early stopping conditioned on metric `val_loss` which is not available. Available metrics are: loss,accuracy\n",
      "7/7 [==============================] - 0s 10ms/step - loss: 1.0914 - accuracy: 0.6162\n",
      "Epoch 129/250\n",
      "7/7 [==============================] - ETA: 0s - loss: 1.0386 - accuracy: 0.6128WARNING:tensorflow:Early stopping conditioned on metric `val_loss` which is not available. Available metrics are: loss,accuracy\n",
      "7/7 [==============================] - 0s 10ms/step - loss: 1.0386 - accuracy: 0.6128\n",
      "Epoch 130/250\n",
      "7/7 [==============================] - ETA: 0s - loss: 1.0707 - accuracy: 0.6162WARNING:tensorflow:Early stopping conditioned on metric `val_loss` which is not available. Available metrics are: loss,accuracy\n",
      "7/7 [==============================] - 0s 10ms/step - loss: 1.0707 - accuracy: 0.6162\n",
      "Epoch 131/250\n",
      "7/7 [==============================] - ETA: 0s - loss: 1.0982 - accuracy: 0.6105WARNING:tensorflow:Early stopping conditioned on metric `val_loss` which is not available. Available metrics are: loss,accuracy\n",
      "7/7 [==============================] - 0s 10ms/step - loss: 1.0982 - accuracy: 0.6105\n",
      "Epoch 132/250\n",
      "6/7 [========================>.....] - ETA: 0s - loss: 1.0546 - accuracy: 0.6133WARNING:tensorflow:Early stopping conditioned on metric `val_loss` which is not available. Available metrics are: loss,accuracy\n"
     ]
    },
    {
     "name": "stdout",
     "output_type": "stream",
     "text": [
      "7/7 [==============================] - 0s 11ms/step - loss: 1.0552 - accuracy: 0.6162\n",
      "Epoch 133/250\n",
      "6/7 [========================>.....] - ETA: 0s - loss: 1.1771 - accuracy: 0.6172WARNING:tensorflow:Early stopping conditioned on metric `val_loss` which is not available. Available metrics are: loss,accuracy\n",
      "7/7 [==============================] - 0s 10ms/step - loss: 1.1976 - accuracy: 0.6162\n",
      "Epoch 134/250\n",
      "7/7 [==============================] - ETA: 0s - loss: 1.0306 - accuracy: 0.6162WARNING:tensorflow:Early stopping conditioned on metric `val_loss` which is not available. Available metrics are: loss,accuracy\n",
      "7/7 [==============================] - 0s 11ms/step - loss: 1.0306 - accuracy: 0.6162\n",
      "Epoch 135/250\n",
      "6/7 [========================>.....] - ETA: 0s - loss: 0.9315 - accuracy: 0.6094WARNING:tensorflow:Early stopping conditioned on metric `val_loss` which is not available. Available metrics are: loss,accuracy\n",
      "7/7 [==============================] - 0s 12ms/step - loss: 0.9414 - accuracy: 0.6162\n",
      "Epoch 136/250\n",
      "7/7 [==============================] - ETA: 0s - loss: 1.0781 - accuracy: 0.6162WARNING:tensorflow:Early stopping conditioned on metric `val_loss` which is not available. Available metrics are: loss,accuracy\n",
      "7/7 [==============================] - 0s 14ms/step - loss: 1.0781 - accuracy: 0.6162\n",
      "Epoch 137/250\n",
      "5/7 [====================>.........] - ETA: 0s - loss: 0.9529 - accuracy: 0.6141WARNING:tensorflow:Early stopping conditioned on metric `val_loss` which is not available. Available metrics are: loss,accuracy\n",
      "7/7 [==============================] - 0s 17ms/step - loss: 0.9212 - accuracy: 0.6162\n",
      "Epoch 138/250\n",
      "5/7 [====================>.........] - ETA: 0s - loss: 1.0050 - accuracy: 0.6219WARNING:tensorflow:Early stopping conditioned on metric `val_loss` which is not available. Available metrics are: loss,accuracy\n",
      "7/7 [==============================] - 0s 17ms/step - loss: 1.0121 - accuracy: 0.6162\n",
      "Epoch 139/250\n",
      "6/7 [========================>.....] - ETA: 0s - loss: 1.0043 - accuracy: 0.6250WARNING:tensorflow:Early stopping conditioned on metric `val_loss` which is not available. Available metrics are: loss,accuracy\n",
      "7/7 [==============================] - 0s 23ms/step - loss: 0.9649 - accuracy: 0.6162\n",
      "Epoch 140/250\n",
      "5/7 [====================>.........] - ETA: 0s - loss: 1.1241 - accuracy: 0.5984WARNING:tensorflow:Early stopping conditioned on metric `val_loss` which is not available. Available metrics are: loss,accuracy\n",
      "7/7 [==============================] - 0s 18ms/step - loss: 1.0614 - accuracy: 0.6162\n",
      "Epoch 141/250\n",
      "6/7 [========================>.....] - ETA: 0s - loss: 0.9422 - accuracy: 0.6029WARNING:tensorflow:Early stopping conditioned on metric `val_loss` which is not available. Available metrics are: loss,accuracy\n",
      "7/7 [==============================] - 0s 14ms/step - loss: 0.9067 - accuracy: 0.6162\n",
      "Epoch 142/250\n",
      "6/7 [========================>.....] - ETA: 0s - loss: 1.0856 - accuracy: 0.6120WARNING:tensorflow:Early stopping conditioned on metric `val_loss` which is not available. Available metrics are: loss,accuracy\n",
      "7/7 [==============================] - 0s 13ms/step - loss: 1.0996 - accuracy: 0.6162\n",
      "Epoch 143/250\n",
      "6/7 [========================>.....] - ETA: 0s - loss: 1.0199 - accuracy: 0.6055WARNING:tensorflow:Early stopping conditioned on metric `val_loss` which is not available. Available metrics are: loss,accuracy\n",
      "7/7 [==============================] - 0s 12ms/step - loss: 1.0066 - accuracy: 0.6162\n",
      "Epoch 144/250\n",
      "7/7 [==============================] - ETA: 0s - loss: 1.0160 - accuracy: 0.6162WARNING:tensorflow:Early stopping conditioned on metric `val_loss` which is not available. Available metrics are: loss,accuracy\n",
      "7/7 [==============================] - 0s 10ms/step - loss: 1.0160 - accuracy: 0.6162\n",
      "Epoch 145/250\n",
      "7/7 [==============================] - ETA: 0s - loss: 0.9461 - accuracy: 0.6162WARNING:tensorflow:Early stopping conditioned on metric `val_loss` which is not available. Available metrics are: loss,accuracy\n",
      "7/7 [==============================] - 0s 9ms/step - loss: 0.9461 - accuracy: 0.6162\n",
      "Epoch 146/250\n",
      "7/7 [==============================] - ETA: 0s - loss: 1.0715 - accuracy: 0.6162WARNING:tensorflow:Early stopping conditioned on metric `val_loss` which is not available. Available metrics are: loss,accuracy\n",
      "7/7 [==============================] - 0s 10ms/step - loss: 1.0715 - accuracy: 0.6162\n",
      "Epoch 147/250\n",
      "7/7 [==============================] - ETA: 0s - loss: 1.0803 - accuracy: 0.6162WARNING:tensorflow:Early stopping conditioned on metric `val_loss` which is not available. Available metrics are: loss,accuracy\n",
      "7/7 [==============================] - 0s 14ms/step - loss: 1.0803 - accuracy: 0.6162\n",
      "Epoch 148/250\n",
      "4/7 [================>.............] - ETA: 0s - loss: 0.9108 - accuracy: 0.6113WARNING:tensorflow:Early stopping conditioned on metric `val_loss` which is not available. Available metrics are: loss,accuracy\n",
      "7/7 [==============================] - 0s 15ms/step - loss: 1.0252 - accuracy: 0.6162\n",
      "Epoch 149/250\n",
      "6/7 [========================>.....] - ETA: 0s - loss: 0.9653 - accuracy: 0.6263WARNING:tensorflow:Early stopping conditioned on metric `val_loss` which is not available. Available metrics are: loss,accuracy\n",
      "7/7 [==============================] - 0s 15ms/step - loss: 0.9914 - accuracy: 0.6162\n",
      "Epoch 150/250\n",
      "6/7 [========================>.....] - ETA: 0s - loss: 1.0579 - accuracy: 0.6081WARNING:tensorflow:Early stopping conditioned on metric `val_loss` which is not available. Available metrics are: loss,accuracy\n",
      "7/7 [==============================] - 0s 14ms/step - loss: 1.0080 - accuracy: 0.6162\n",
      "Epoch 151/250\n",
      "7/7 [==============================] - ETA: 0s - loss: 1.0367 - accuracy: 0.6162WARNING:tensorflow:Early stopping conditioned on metric `val_loss` which is not available. Available metrics are: loss,accuracy\n",
      "7/7 [==============================] - 0s 11ms/step - loss: 1.0367 - accuracy: 0.6162\n",
      "Epoch 152/250\n",
      "5/7 [====================>.........] - ETA: 0s - loss: 0.8774 - accuracy: 0.5984WARNING:tensorflow:Early stopping conditioned on metric `val_loss` which is not available. Available metrics are: loss,accuracy\n",
      "7/7 [==============================] - 0s 17ms/step - loss: 0.9143 - accuracy: 0.6162\n",
      "Epoch 153/250\n",
      "6/7 [========================>.....] - ETA: 0s - loss: 0.9514 - accuracy: 0.6133WARNING:tensorflow:Early stopping conditioned on metric `val_loss` which is not available. Available metrics are: loss,accuracy\n",
      "7/7 [==============================] - 0s 13ms/step - loss: 0.9200 - accuracy: 0.6162\n",
      "Epoch 154/250\n",
      "6/7 [========================>.....] - ETA: 0s - loss: 0.9618 - accuracy: 0.6224WARNING:tensorflow:Early stopping conditioned on metric `val_loss` which is not available. Available metrics are: loss,accuracy\n",
      "7/7 [==============================] - 0s 15ms/step - loss: 0.9688 - accuracy: 0.6162\n",
      "Epoch 155/250\n",
      "5/7 [====================>.........] - ETA: 0s - loss: 1.0009 - accuracy: 0.6203WARNING:tensorflow:Early stopping conditioned on metric `val_loss` which is not available. Available metrics are: loss,accuracy\n",
      "7/7 [==============================] - 0s 15ms/step - loss: 0.9561 - accuracy: 0.6162\n",
      "Epoch 156/250\n",
      "4/7 [================>.............] - ETA: 0s - loss: 0.8915 - accuracy: 0.6172WARNING:tensorflow:Early stopping conditioned on metric `val_loss` which is not available. Available metrics are: loss,accuracy\n",
      "7/7 [==============================] - 0s 16ms/step - loss: 0.8953 - accuracy: 0.6162\n",
      "Epoch 157/250\n",
      "5/7 [====================>.........] - ETA: 0s - loss: 0.8221 - accuracy: 0.6266WARNING:tensorflow:Early stopping conditioned on metric `val_loss` which is not available. Available metrics are: loss,accuracy\n",
      "7/7 [==============================] - 0s 15ms/step - loss: 0.8442 - accuracy: 0.6162\n",
      "Epoch 158/250\n",
      "7/7 [==============================] - ETA: 0s - loss: 0.9643 - accuracy: 0.6162WARNING:tensorflow:Early stopping conditioned on metric `val_loss` which is not available. Available metrics are: loss,accuracy\n",
      "7/7 [==============================] - 0s 10ms/step - loss: 0.9643 - accuracy: 0.6162\n",
      "Epoch 159/250\n",
      "7/7 [==============================] - ETA: 0s - loss: 0.8933 - accuracy: 0.6162WARNING:tensorflow:Early stopping conditioned on metric `val_loss` which is not available. Available metrics are: loss,accuracy\n"
     ]
    },
    {
     "name": "stdout",
     "output_type": "stream",
     "text": [
      "7/7 [==============================] - 0s 10ms/step - loss: 0.8933 - accuracy: 0.6162\n",
      "Epoch 160/250\n",
      "7/7 [==============================] - ETA: 0s - loss: 0.9465 - accuracy: 0.6162WARNING:tensorflow:Early stopping conditioned on metric `val_loss` which is not available. Available metrics are: loss,accuracy\n",
      "7/7 [==============================] - 0s 10ms/step - loss: 0.9465 - accuracy: 0.6162\n",
      "Epoch 161/250\n",
      "7/7 [==============================] - ETA: 0s - loss: 0.8754 - accuracy: 0.6162WARNING:tensorflow:Early stopping conditioned on metric `val_loss` which is not available. Available metrics are: loss,accuracy\n",
      "7/7 [==============================] - 0s 13ms/step - loss: 0.8754 - accuracy: 0.6162\n",
      "Epoch 162/250\n",
      "7/7 [==============================] - ETA: 0s - loss: 1.0216 - accuracy: 0.6162WARNING:tensorflow:Early stopping conditioned on metric `val_loss` which is not available. Available metrics are: loss,accuracy\n",
      "7/7 [==============================] - 0s 11ms/step - loss: 1.0216 - accuracy: 0.6162\n",
      "Epoch 163/250\n",
      "6/7 [========================>.....] - ETA: 0s - loss: 0.9061 - accuracy: 0.6224WARNING:tensorflow:Early stopping conditioned on metric `val_loss` which is not available. Available metrics are: loss,accuracy\n",
      "7/7 [==============================] - 0s 11ms/step - loss: 0.9275 - accuracy: 0.6162\n",
      "Epoch 164/250\n",
      "6/7 [========================>.....] - ETA: 0s - loss: 0.9121 - accuracy: 0.6198WARNING:tensorflow:Early stopping conditioned on metric `val_loss` which is not available. Available metrics are: loss,accuracy\n",
      "7/7 [==============================] - 0s 13ms/step - loss: 0.9638 - accuracy: 0.6162\n",
      "Epoch 165/250\n",
      "3/7 [===========>..................] - ETA: 0s - loss: 0.8796 - accuracy: 0.5938WARNING:tensorflow:Early stopping conditioned on metric `val_loss` which is not available. Available metrics are: loss,accuracy\n",
      "7/7 [==============================] - 0s 19ms/step - loss: 0.9438 - accuracy: 0.6162\n",
      "Epoch 166/250\n",
      "6/7 [========================>.....] - ETA: 0s - loss: 1.0104 - accuracy: 0.6029WARNING:tensorflow:Early stopping conditioned on metric `val_loss` which is not available. Available metrics are: loss,accuracy\n",
      "7/7 [==============================] - 0s 12ms/step - loss: 0.9504 - accuracy: 0.6162\n",
      "Epoch 167/250\n",
      "6/7 [========================>.....] - ETA: 0s - loss: 0.8960 - accuracy: 0.6133WARNING:tensorflow:Early stopping conditioned on metric `val_loss` which is not available. Available metrics are: loss,accuracy\n",
      "7/7 [==============================] - 0s 12ms/step - loss: 0.8773 - accuracy: 0.6162\n",
      "Epoch 168/250\n",
      "7/7 [==============================] - ETA: 0s - loss: 0.8741 - accuracy: 0.6162WARNING:tensorflow:Early stopping conditioned on metric `val_loss` which is not available. Available metrics are: loss,accuracy\n",
      "7/7 [==============================] - 0s 10ms/step - loss: 0.8741 - accuracy: 0.6162\n",
      "Epoch 169/250\n",
      "7/7 [==============================] - ETA: 0s - loss: 0.8850 - accuracy: 0.6162WARNING:tensorflow:Early stopping conditioned on metric `val_loss` which is not available. Available metrics are: loss,accuracy\n",
      "7/7 [==============================] - 0s 10ms/step - loss: 0.8850 - accuracy: 0.6162\n",
      "Epoch 170/250\n",
      "6/7 [========================>.....] - ETA: 0s - loss: 0.9517 - accuracy: 0.6146WARNING:tensorflow:Early stopping conditioned on metric `val_loss` which is not available. Available metrics are: loss,accuracy\n",
      "7/7 [==============================] - 0s 11ms/step - loss: 0.9396 - accuracy: 0.6162\n",
      "Epoch 171/250\n",
      "7/7 [==============================] - ETA: 0s - loss: 0.8953 - accuracy: 0.6162WARNING:tensorflow:Early stopping conditioned on metric `val_loss` which is not available. Available metrics are: loss,accuracy\n",
      "7/7 [==============================] - 0s 12ms/step - loss: 0.8953 - accuracy: 0.6162\n",
      "Epoch 172/250\n",
      "7/7 [==============================] - ETA: 0s - loss: 0.8509 - accuracy: 0.6162WARNING:tensorflow:Early stopping conditioned on metric `val_loss` which is not available. Available metrics are: loss,accuracy\n",
      "7/7 [==============================] - 0s 12ms/step - loss: 0.8509 - accuracy: 0.6162\n",
      "Epoch 173/250\n",
      "7/7 [==============================] - ETA: 0s - loss: 0.8920 - accuracy: 0.6162WARNING:tensorflow:Early stopping conditioned on metric `val_loss` which is not available. Available metrics are: loss,accuracy\n",
      "7/7 [==============================] - 0s 11ms/step - loss: 0.8920 - accuracy: 0.6162\n",
      "Epoch 174/250\n",
      "5/7 [====================>.........] - ETA: 0s - loss: 0.8681 - accuracy: 0.6062WARNING:tensorflow:Early stopping conditioned on metric `val_loss` which is not available. Available metrics are: loss,accuracy\n",
      "7/7 [==============================] - 0s 13ms/step - loss: 0.8405 - accuracy: 0.6162\n",
      "Epoch 175/250\n",
      "5/7 [====================>.........] - ETA: 0s - loss: 1.0332 - accuracy: 0.5938WARNING:tensorflow:Early stopping conditioned on metric `val_loss` which is not available. Available metrics are: loss,accuracy\n",
      "7/7 [==============================] - 0s 19ms/step - loss: 0.9438 - accuracy: 0.6072\n",
      "Epoch 176/250\n",
      "4/7 [================>.............] - ETA: 0s - loss: 1.0793 - accuracy: 0.6074WARNING:tensorflow:Early stopping conditioned on metric `val_loss` which is not available. Available metrics are: loss,accuracy\n",
      "7/7 [==============================] - 0s 15ms/step - loss: 1.0476 - accuracy: 0.6162\n",
      "Epoch 177/250\n",
      "7/7 [==============================] - ETA: 0s - loss: 0.9762 - accuracy: 0.6162WARNING:tensorflow:Early stopping conditioned on metric `val_loss` which is not available. Available metrics are: loss,accuracy\n",
      "7/7 [==============================] - 0s 11ms/step - loss: 0.9762 - accuracy: 0.6162\n",
      "Epoch 178/250\n",
      "5/7 [====================>.........] - ETA: 0s - loss: 1.0548 - accuracy: 0.6109WARNING:tensorflow:Early stopping conditioned on metric `val_loss` which is not available. Available metrics are: loss,accuracy\n",
      "7/7 [==============================] - 0s 13ms/step - loss: 1.0637 - accuracy: 0.6162\n",
      "Epoch 179/250\n",
      "7/7 [==============================] - ETA: 0s - loss: 1.0543 - accuracy: 0.6162WARNING:tensorflow:Early stopping conditioned on metric `val_loss` which is not available. Available metrics are: loss,accuracy\n",
      "7/7 [==============================] - 0s 10ms/step - loss: 1.0543 - accuracy: 0.6162\n",
      "Epoch 180/250\n",
      "7/7 [==============================] - ETA: 0s - loss: 1.0285 - accuracy: 0.6162WARNING:tensorflow:Early stopping conditioned on metric `val_loss` which is not available. Available metrics are: loss,accuracy\n",
      "7/7 [==============================] - 0s 11ms/step - loss: 1.0285 - accuracy: 0.6162\n",
      "Epoch 181/250\n",
      "7/7 [==============================] - ETA: 0s - loss: 0.9279 - accuracy: 0.6162WARNING:tensorflow:Early stopping conditioned on metric `val_loss` which is not available. Available metrics are: loss,accuracy\n",
      "7/7 [==============================] - 0s 10ms/step - loss: 0.9279 - accuracy: 0.6162\n",
      "Epoch 182/250\n",
      "4/7 [================>.............] - ETA: 0s - loss: 0.9709 - accuracy: 0.6133WARNING:tensorflow:Early stopping conditioned on metric `val_loss` which is not available. Available metrics are: loss,accuracy\n",
      "7/7 [==============================] - 0s 17ms/step - loss: 0.9357 - accuracy: 0.6162\n",
      "Epoch 183/250\n",
      "6/7 [========================>.....] - ETA: 0s - loss: 0.9951 - accuracy: 0.6159WARNING:tensorflow:Early stopping conditioned on metric `val_loss` which is not available. Available metrics are: loss,accuracy\n",
      "7/7 [==============================] - 0s 11ms/step - loss: 0.9978 - accuracy: 0.6162\n",
      "Epoch 184/250\n",
      "6/7 [========================>.....] - ETA: 0s - loss: 0.9401 - accuracy: 0.6185WARNING:tensorflow:Early stopping conditioned on metric `val_loss` which is not available. Available metrics are: loss,accuracy\n",
      "7/7 [==============================] - 0s 13ms/step - loss: 0.9597 - accuracy: 0.6162\n",
      "Epoch 185/250\n",
      "6/7 [========================>.....] - ETA: 0s - loss: 0.9181 - accuracy: 0.6289WARNING:tensorflow:Early stopping conditioned on metric `val_loss` which is not available. Available metrics are: loss,accuracy\n",
      "7/7 [==============================] - 0s 39ms/step - loss: 0.9149 - accuracy: 0.6162\n",
      "Epoch 186/250\n",
      "5/7 [====================>.........] - ETA: 0s - loss: 0.9152 - accuracy: 0.6125WARNING:tensorflow:Early stopping conditioned on metric `val_loss` which is not available. Available metrics are: loss,accuracy\n"
     ]
    },
    {
     "name": "stdout",
     "output_type": "stream",
     "text": [
      "7/7 [==============================] - 0s 16ms/step - loss: 0.9239 - accuracy: 0.6162\n",
      "Epoch 187/250\n",
      "6/7 [========================>.....] - ETA: 0s - loss: 0.7620 - accuracy: 0.6211WARNING:tensorflow:Early stopping conditioned on metric `val_loss` which is not available. Available metrics are: loss,accuracy\n",
      "7/7 [==============================] - 0s 14ms/step - loss: 0.8196 - accuracy: 0.6162\n",
      "Epoch 188/250\n",
      "7/7 [==============================] - ETA: 0s - loss: 0.9245 - accuracy: 0.6162WARNING:tensorflow:Early stopping conditioned on metric `val_loss` which is not available. Available metrics are: loss,accuracy\n",
      "7/7 [==============================] - 0s 20ms/step - loss: 0.9245 - accuracy: 0.6162\n",
      "Epoch 189/250\n",
      "5/7 [====================>.........] - ETA: 0s - loss: 0.8587 - accuracy: 0.6328WARNING:tensorflow:Early stopping conditioned on metric `val_loss` which is not available. Available metrics are: loss,accuracy\n",
      "7/7 [==============================] - 0s 14ms/step - loss: 0.8672 - accuracy: 0.6162\n",
      "Epoch 190/250\n",
      "5/7 [====================>.........] - ETA: 0s - loss: 0.9056 - accuracy: 0.6250WARNING:tensorflow:Early stopping conditioned on metric `val_loss` which is not available. Available metrics are: loss,accuracy\n",
      "7/7 [==============================] - 0s 14ms/step - loss: 0.9454 - accuracy: 0.6162\n",
      "Epoch 191/250\n",
      "6/7 [========================>.....] - ETA: 0s - loss: 0.8054 - accuracy: 0.6250WARNING:tensorflow:Early stopping conditioned on metric `val_loss` which is not available. Available metrics are: loss,accuracy\n",
      "7/7 [==============================] - 0s 11ms/step - loss: 0.8184 - accuracy: 0.6162\n",
      "Epoch 192/250\n",
      "5/7 [====================>.........] - ETA: 0s - loss: 0.8998 - accuracy: 0.6203WARNING:tensorflow:Early stopping conditioned on metric `val_loss` which is not available. Available metrics are: loss,accuracy\n",
      "7/7 [==============================] - 0s 12ms/step - loss: 0.8495 - accuracy: 0.6162\n",
      "Epoch 193/250\n",
      "7/7 [==============================] - ETA: 0s - loss: 0.7945 - accuracy: 0.6162WARNING:tensorflow:Early stopping conditioned on metric `val_loss` which is not available. Available metrics are: loss,accuracy\n",
      "7/7 [==============================] - 0s 11ms/step - loss: 0.7945 - accuracy: 0.6162\n",
      "Epoch 194/250\n",
      "7/7 [==============================] - ETA: 0s - loss: 0.9535 - accuracy: 0.6162WARNING:tensorflow:Early stopping conditioned on metric `val_loss` which is not available. Available metrics are: loss,accuracy\n",
      "7/7 [==============================] - 0s 11ms/step - loss: 0.9535 - accuracy: 0.6162\n",
      "Epoch 195/250\n",
      "5/7 [====================>.........] - ETA: 0s - loss: 0.9383 - accuracy: 0.6062WARNING:tensorflow:Early stopping conditioned on metric `val_loss` which is not available. Available metrics are: loss,accuracy\n",
      "7/7 [==============================] - 0s 13ms/step - loss: 0.8907 - accuracy: 0.6162\n",
      "Epoch 196/250\n",
      "5/7 [====================>.........] - ETA: 0s - loss: 0.9744 - accuracy: 0.5984WARNING:tensorflow:Early stopping conditioned on metric `val_loss` which is not available. Available metrics are: loss,accuracy\n",
      "7/7 [==============================] - 0s 12ms/step - loss: 0.9375 - accuracy: 0.6162\n",
      "Epoch 197/250\n",
      "5/7 [====================>.........] - ETA: 0s - loss: 0.8102 - accuracy: 0.6422WARNING:tensorflow:Early stopping conditioned on metric `val_loss` which is not available. Available metrics are: loss,accuracy\n",
      "7/7 [==============================] - 0s 14ms/step - loss: 0.9068 - accuracy: 0.6162\n",
      "Epoch 198/250\n",
      "6/7 [========================>.....] - ETA: 0s - loss: 0.7642 - accuracy: 0.6224WARNING:tensorflow:Early stopping conditioned on metric `val_loss` which is not available. Available metrics are: loss,accuracy\n",
      "7/7 [==============================] - 0s 14ms/step - loss: 0.7687 - accuracy: 0.6162\n",
      "Epoch 199/250\n",
      "5/7 [====================>.........] - ETA: 0s - loss: 0.8330 - accuracy: 0.6031WARNING:tensorflow:Early stopping conditioned on metric `val_loss` which is not available. Available metrics are: loss,accuracy\n",
      "7/7 [==============================] - 0s 13ms/step - loss: 0.8316 - accuracy: 0.6162\n",
      "Epoch 200/250\n",
      "6/7 [========================>.....] - ETA: 0s - loss: 0.9214 - accuracy: 0.6185WARNING:tensorflow:Early stopping conditioned on metric `val_loss` which is not available. Available metrics are: loss,accuracy\n",
      "7/7 [==============================] - 0s 12ms/step - loss: 0.9318 - accuracy: 0.6162\n",
      "Epoch 201/250\n",
      "7/7 [==============================] - ETA: 0s - loss: 0.8569 - accuracy: 0.6162WARNING:tensorflow:Early stopping conditioned on metric `val_loss` which is not available. Available metrics are: loss,accuracy\n",
      "7/7 [==============================] - 0s 11ms/step - loss: 0.8569 - accuracy: 0.6162\n",
      "Epoch 202/250\n",
      "6/7 [========================>.....] - ETA: 0s - loss: 0.9218 - accuracy: 0.6107WARNING:tensorflow:Early stopping conditioned on metric `val_loss` which is not available. Available metrics are: loss,accuracy\n",
      "7/7 [==============================] - 0s 11ms/step - loss: 0.9096 - accuracy: 0.6162\n",
      "Epoch 203/250\n",
      "7/7 [==============================] - ETA: 0s - loss: 0.8810 - accuracy: 0.6162WARNING:tensorflow:Early stopping conditioned on metric `val_loss` which is not available. Available metrics are: loss,accuracy\n",
      "7/7 [==============================] - 0s 11ms/step - loss: 0.8810 - accuracy: 0.6162\n",
      "Epoch 204/250\n",
      "7/7 [==============================] - ETA: 0s - loss: 1.0551 - accuracy: 0.6162WARNING:tensorflow:Early stopping conditioned on metric `val_loss` which is not available. Available metrics are: loss,accuracy\n",
      "7/7 [==============================] - 0s 11ms/step - loss: 1.0551 - accuracy: 0.6162\n",
      "Epoch 205/250\n",
      "6/7 [========================>.....] - ETA: 0s - loss: 0.8123 - accuracy: 0.6159WARNING:tensorflow:Early stopping conditioned on metric `val_loss` which is not available. Available metrics are: loss,accuracy\n",
      "7/7 [==============================] - 0s 11ms/step - loss: 0.8380 - accuracy: 0.6162\n",
      "Epoch 206/250\n",
      "6/7 [========================>.....] - ETA: 0s - loss: 0.8583 - accuracy: 0.6107WARNING:tensorflow:Early stopping conditioned on metric `val_loss` which is not available. Available metrics are: loss,accuracy\n",
      "7/7 [==============================] - 0s 11ms/step - loss: 0.8341 - accuracy: 0.6162\n",
      "Epoch 207/250\n",
      "7/7 [==============================] - ETA: 0s - loss: 0.8567 - accuracy: 0.6162WARNING:tensorflow:Early stopping conditioned on metric `val_loss` which is not available. Available metrics are: loss,accuracy\n",
      "7/7 [==============================] - 0s 10ms/step - loss: 0.8567 - accuracy: 0.6162\n",
      "Epoch 208/250\n",
      "5/7 [====================>.........] - ETA: 0s - loss: 0.8866 - accuracy: 0.6141WARNING:tensorflow:Early stopping conditioned on metric `val_loss` which is not available. Available metrics are: loss,accuracy\n",
      "7/7 [==============================] - 0s 12ms/step - loss: 0.9016 - accuracy: 0.6162\n",
      "Epoch 209/250\n",
      "6/7 [========================>.....] - ETA: 0s - loss: 0.8810 - accuracy: 0.6120WARNING:tensorflow:Early stopping conditioned on metric `val_loss` which is not available. Available metrics are: loss,accuracy\n",
      "7/7 [==============================] - 0s 13ms/step - loss: 0.8636 - accuracy: 0.6162\n",
      "Epoch 210/250\n",
      "6/7 [========================>.....] - ETA: 0s - loss: 0.9469 - accuracy: 0.6133WARNING:tensorflow:Early stopping conditioned on metric `val_loss` which is not available. Available metrics are: loss,accuracy\n",
      "7/7 [==============================] - 0s 12ms/step - loss: 0.9047 - accuracy: 0.6162\n",
      "Epoch 211/250\n",
      "6/7 [========================>.....] - ETA: 0s - loss: 0.8956 - accuracy: 0.6198WARNING:tensorflow:Early stopping conditioned on metric `val_loss` which is not available. Available metrics are: loss,accuracy\n",
      "7/7 [==============================] - 0s 12ms/step - loss: 0.8794 - accuracy: 0.6162\n",
      "Epoch 212/250\n",
      "7/7 [==============================] - ETA: 0s - loss: 0.8400 - accuracy: 0.6162WARNING:tensorflow:Early stopping conditioned on metric `val_loss` which is not available. Available metrics are: loss,accuracy\n",
      "7/7 [==============================] - 0s 21ms/step - loss: 0.8400 - accuracy: 0.6162\n",
      "Epoch 213/250\n",
      "6/7 [========================>.....] - ETA: 0s - loss: 0.9184 - accuracy: 0.6211WARNING:tensorflow:Early stopping conditioned on metric `val_loss` which is not available. Available metrics are: loss,accuracy\n"
     ]
    },
    {
     "name": "stdout",
     "output_type": "stream",
     "text": [
      "7/7 [==============================] - 0s 11ms/step - loss: 0.9319 - accuracy: 0.6162\n",
      "Epoch 214/250\n",
      "6/7 [========================>.....] - ETA: 0s - loss: 0.8436 - accuracy: 0.6068WARNING:tensorflow:Early stopping conditioned on metric `val_loss` which is not available. Available metrics are: loss,accuracy\n",
      "7/7 [==============================] - 0s 11ms/step - loss: 0.8261 - accuracy: 0.6162\n",
      "Epoch 215/250\n",
      "6/7 [========================>.....] - ETA: 0s - loss: 0.8355 - accuracy: 0.6250WARNING:tensorflow:Early stopping conditioned on metric `val_loss` which is not available. Available metrics are: loss,accuracy\n",
      "7/7 [==============================] - 0s 12ms/step - loss: 0.8298 - accuracy: 0.6162\n",
      "Epoch 216/250\n",
      "6/7 [========================>.....] - ETA: 0s - loss: 0.9180 - accuracy: 0.6133WARNING:tensorflow:Early stopping conditioned on metric `val_loss` which is not available. Available metrics are: loss,accuracy\n",
      "7/7 [==============================] - 0s 11ms/step - loss: 0.9081 - accuracy: 0.6162\n",
      "Epoch 217/250\n",
      "7/7 [==============================] - ETA: 0s - loss: 0.8514 - accuracy: 0.6162WARNING:tensorflow:Early stopping conditioned on metric `val_loss` which is not available. Available metrics are: loss,accuracy\n",
      "7/7 [==============================] - 0s 11ms/step - loss: 0.8514 - accuracy: 0.6162\n",
      "Epoch 218/250\n",
      "6/7 [========================>.....] - ETA: 0s - loss: 0.8615 - accuracy: 0.6315WARNING:tensorflow:Early stopping conditioned on metric `val_loss` which is not available. Available metrics are: loss,accuracy\n",
      "7/7 [==============================] - 0s 13ms/step - loss: 0.9154 - accuracy: 0.6162\n",
      "Epoch 219/250\n",
      "6/7 [========================>.....] - ETA: 0s - loss: 1.0585 - accuracy: 0.6211WARNING:tensorflow:Early stopping conditioned on metric `val_loss` which is not available. Available metrics are: loss,accuracy\n",
      "7/7 [==============================] - 0s 11ms/step - loss: 1.0129 - accuracy: 0.6162\n",
      "Epoch 220/250\n",
      "6/7 [========================>.....] - ETA: 0s - loss: 0.9637 - accuracy: 0.6185WARNING:tensorflow:Early stopping conditioned on metric `val_loss` which is not available. Available metrics are: loss,accuracy\n",
      "7/7 [==============================] - 0s 11ms/step - loss: 0.9358 - accuracy: 0.6162\n",
      "Epoch 221/250\n",
      "5/7 [====================>.........] - ETA: 0s - loss: 0.8542 - accuracy: 0.6187WARNING:tensorflow:Early stopping conditioned on metric `val_loss` which is not available. Available metrics are: loss,accuracy\n",
      "7/7 [==============================] - 0s 15ms/step - loss: 0.8290 - accuracy: 0.6162\n",
      "Epoch 222/250\n",
      "7/7 [==============================] - ETA: 0s - loss: 0.8039 - accuracy: 0.6162WARNING:tensorflow:Early stopping conditioned on metric `val_loss` which is not available. Available metrics are: loss,accuracy\n",
      "7/7 [==============================] - 0s 11ms/step - loss: 0.8039 - accuracy: 0.6162\n",
      "Epoch 223/250\n",
      "7/7 [==============================] - ETA: 0s - loss: 0.9003 - accuracy: 0.6162WARNING:tensorflow:Early stopping conditioned on metric `val_loss` which is not available. Available metrics are: loss,accuracy\n",
      "7/7 [==============================] - 0s 12ms/step - loss: 0.9003 - accuracy: 0.6162\n",
      "Epoch 224/250\n",
      "6/7 [========================>.....] - ETA: 0s - loss: 0.8733 - accuracy: 0.6133WARNING:tensorflow:Early stopping conditioned on metric `val_loss` which is not available. Available metrics are: loss,accuracy\n",
      "7/7 [==============================] - 0s 12ms/step - loss: 0.8916 - accuracy: 0.6162\n",
      "Epoch 225/250\n",
      "7/7 [==============================] - ETA: 0s - loss: 0.8232 - accuracy: 0.6162WARNING:tensorflow:Early stopping conditioned on metric `val_loss` which is not available. Available metrics are: loss,accuracy\n",
      "7/7 [==============================] - 0s 23ms/step - loss: 0.8232 - accuracy: 0.6162\n",
      "Epoch 226/250\n",
      "6/7 [========================>.....] - ETA: 0s - loss: 0.8573 - accuracy: 0.6185WARNING:tensorflow:Early stopping conditioned on metric `val_loss` which is not available. Available metrics are: loss,accuracy\n",
      "7/7 [==============================] - 0s 23ms/step - loss: 0.8540 - accuracy: 0.6162\n",
      "Epoch 227/250\n",
      "5/7 [====================>.........] - ETA: 0s - loss: 0.9037 - accuracy: 0.6219WARNING:tensorflow:Early stopping conditioned on metric `val_loss` which is not available. Available metrics are: loss,accuracy\n",
      "7/7 [==============================] - 0s 13ms/step - loss: 0.9254 - accuracy: 0.6162\n",
      "Epoch 228/250\n",
      "5/7 [====================>.........] - ETA: 0s - loss: 0.7911 - accuracy: 0.6281WARNING:tensorflow:Early stopping conditioned on metric `val_loss` which is not available. Available metrics are: loss,accuracy\n",
      "7/7 [==============================] - 0s 14ms/step - loss: 0.8092 - accuracy: 0.6162\n",
      "Epoch 229/250\n",
      "6/7 [========================>.....] - ETA: 0s - loss: 0.8858 - accuracy: 0.6016WARNING:tensorflow:Early stopping conditioned on metric `val_loss` which is not available. Available metrics are: loss,accuracy\n",
      "7/7 [==============================] - 0s 13ms/step - loss: 0.8795 - accuracy: 0.6162\n",
      "Epoch 230/250\n",
      "5/7 [====================>.........] - ETA: 0s - loss: 0.8770 - accuracy: 0.6187WARNING:tensorflow:Early stopping conditioned on metric `val_loss` which is not available. Available metrics are: loss,accuracy\n",
      "7/7 [==============================] - 0s 14ms/step - loss: 0.8595 - accuracy: 0.6162\n",
      "Epoch 231/250\n",
      "5/7 [====================>.........] - ETA: 0s - loss: 0.7844 - accuracy: 0.6094WARNING:tensorflow:Early stopping conditioned on metric `val_loss` which is not available. Available metrics are: loss,accuracy\n",
      "7/7 [==============================] - 0s 17ms/step - loss: 0.8588 - accuracy: 0.6162\n",
      "Epoch 232/250\n",
      "7/7 [==============================] - ETA: 0s - loss: 0.8317 - accuracy: 0.6162WARNING:tensorflow:Early stopping conditioned on metric `val_loss` which is not available. Available metrics are: loss,accuracy\n",
      "7/7 [==============================] - 0s 42ms/step - loss: 0.8317 - accuracy: 0.6162\n",
      "Epoch 233/250\n",
      "5/7 [====================>.........] - ETA: 0s - loss: 0.8046 - accuracy: 0.5984WARNING:tensorflow:Early stopping conditioned on metric `val_loss` which is not available. Available metrics are: loss,accuracy\n",
      "7/7 [==============================] - 0s 16ms/step - loss: 0.7668 - accuracy: 0.6162\n",
      "Epoch 234/250\n",
      "5/7 [====================>.........] - ETA: 0s - loss: 0.8348 - accuracy: 0.6172WARNING:tensorflow:Early stopping conditioned on metric `val_loss` which is not available. Available metrics are: loss,accuracy\n",
      "7/7 [==============================] - 0s 16ms/step - loss: 0.8520 - accuracy: 0.6162\n",
      "Epoch 235/250\n",
      "5/7 [====================>.........] - ETA: 0s - loss: 0.8992 - accuracy: 0.6078WARNING:tensorflow:Early stopping conditioned on metric `val_loss` which is not available. Available metrics are: loss,accuracy\n",
      "7/7 [==============================] - 0s 13ms/step - loss: 0.9359 - accuracy: 0.6162\n",
      "Epoch 236/250\n",
      "5/7 [====================>.........] - ETA: 0s - loss: 0.8061 - accuracy: 0.6219WARNING:tensorflow:Early stopping conditioned on metric `val_loss` which is not available. Available metrics are: loss,accuracy\n",
      "7/7 [==============================] - 0s 15ms/step - loss: 0.8063 - accuracy: 0.6162\n",
      "Epoch 237/250\n",
      "4/7 [================>.............] - ETA: 0s - loss: 0.9759 - accuracy: 0.5996WARNING:tensorflow:Early stopping conditioned on metric `val_loss` which is not available. Available metrics are: loss,accuracy\n",
      "7/7 [==============================] - 0s 16ms/step - loss: 0.9144 - accuracy: 0.6162\n",
      "Epoch 238/250\n",
      "6/7 [========================>.....] - ETA: 0s - loss: 0.8371 - accuracy: 0.6263WARNING:tensorflow:Early stopping conditioned on metric `val_loss` which is not available. Available metrics are: loss,accuracy\n",
      "7/7 [==============================] - 0s 12ms/step - loss: 0.8610 - accuracy: 0.6162\n",
      "Epoch 239/250\n",
      "4/7 [================>.............] - ETA: 0s - loss: 0.8189 - accuracy: 0.6191WARNING:tensorflow:Early stopping conditioned on metric `val_loss` which is not available. Available metrics are: loss,accuracy\n",
      "7/7 [==============================] - 0s 15ms/step - loss: 0.8737 - accuracy: 0.6162\n",
      "Epoch 240/250\n",
      "6/7 [========================>.....] - ETA: 0s - loss: 0.8739 - accuracy: 0.6081WARNING:tensorflow:Early stopping conditioned on metric `val_loss` which is not available. Available metrics are: loss,accuracy\n"
     ]
    },
    {
     "name": "stdout",
     "output_type": "stream",
     "text": [
      "7/7 [==============================] - 0s 28ms/step - loss: 0.8394 - accuracy: 0.6162\n",
      "Epoch 241/250\n",
      "5/7 [====================>.........] - ETA: 0s - loss: 0.8222 - accuracy: 0.6062WARNING:tensorflow:Early stopping conditioned on metric `val_loss` which is not available. Available metrics are: loss,accuracy\n",
      "7/7 [==============================] - 0s 16ms/step - loss: 0.8022 - accuracy: 0.6162\n",
      "Epoch 242/250\n",
      "5/7 [====================>.........] - ETA: 0s - loss: 0.8084 - accuracy: 0.6172WARNING:tensorflow:Early stopping conditioned on metric `val_loss` which is not available. Available metrics are: loss,accuracy\n",
      "7/7 [==============================] - 0s 20ms/step - loss: 0.7788 - accuracy: 0.6162\n",
      "Epoch 243/250\n",
      "6/7 [========================>.....] - ETA: 0s - loss: 0.8736 - accuracy: 0.6237WARNING:tensorflow:Early stopping conditioned on metric `val_loss` which is not available. Available metrics are: loss,accuracy\n",
      "7/7 [==============================] - 0s 14ms/step - loss: 0.8480 - accuracy: 0.6162\n",
      "Epoch 244/250\n",
      "5/7 [====================>.........] - ETA: 0s - loss: 0.9361 - accuracy: 0.6109WARNING:tensorflow:Early stopping conditioned on metric `val_loss` which is not available. Available metrics are: loss,accuracy\n",
      "7/7 [==============================] - 0s 14ms/step - loss: 0.8687 - accuracy: 0.6162\n",
      "Epoch 245/250\n",
      "7/7 [==============================] - ETA: 0s - loss: 0.9094 - accuracy: 0.6162WARNING:tensorflow:Early stopping conditioned on metric `val_loss` which is not available. Available metrics are: loss,accuracy\n",
      "7/7 [==============================] - 0s 11ms/step - loss: 0.9094 - accuracy: 0.6162\n",
      "Epoch 246/250\n",
      "5/7 [====================>.........] - ETA: 0s - loss: 0.8213 - accuracy: 0.6359WARNING:tensorflow:Early stopping conditioned on metric `val_loss` which is not available. Available metrics are: loss,accuracy\n",
      "7/7 [==============================] - 0s 17ms/step - loss: 0.8617 - accuracy: 0.6162\n",
      "Epoch 247/250\n",
      "5/7 [====================>.........] - ETA: 0s - loss: 0.8336 - accuracy: 0.6313WARNING:tensorflow:Early stopping conditioned on metric `val_loss` which is not available. Available metrics are: loss,accuracy\n",
      "7/7 [==============================] - 0s 16ms/step - loss: 0.8510 - accuracy: 0.6162\n",
      "Epoch 248/250\n",
      "7/7 [==============================] - ETA: 0s - loss: 0.9708 - accuracy: 0.6162WARNING:tensorflow:Early stopping conditioned on metric `val_loss` which is not available. Available metrics are: loss,accuracy\n",
      "7/7 [==============================] - 0s 25ms/step - loss: 0.9708 - accuracy: 0.6162\n",
      "Epoch 249/250\n",
      "5/7 [====================>.........] - ETA: 0s - loss: 0.8842 - accuracy: 0.6187WARNING:tensorflow:Early stopping conditioned on metric `val_loss` which is not available. Available metrics are: loss,accuracy\n",
      "7/7 [==============================] - 0s 14ms/step - loss: 0.8819 - accuracy: 0.6162\n",
      "Epoch 250/250\n",
      "7/7 [==============================] - ETA: 0s - loss: 0.9939 - accuracy: 0.6162WARNING:tensorflow:Early stopping conditioned on metric `val_loss` which is not available. Available metrics are: loss,accuracy\n",
      "7/7 [==============================] - 0s 13ms/step - loss: 0.9939 - accuracy: 0.6162\n",
      "Train Data Accuracy:  0.6161616444587708\n",
      "Test Data Accuracy:  0.5586591958999634\n",
      "14/14 [==============================] - 0s 5ms/step\n",
      "0    268\n",
      "1    150\n",
      "Name: Survived, dtype: int64\n"
     ]
    }
   ],
   "source": [
    "import tensorflow as tf\n",
    "from tensorflow import keras\n",
    "from tensorflow.keras.models import Sequential\n",
    "from tensorflow.keras.layers import Dense, Dropout, BatchNormalization\n",
    "from tensorflow.keras.callbacks import EarlyStopping\n",
    "from sklearn.preprocessing import StandardScaler\n",
    "from tensorflow.keras.optimizers import Adam\n",
    "\n",
    "model = Sequential([\n",
    "    Dense(256, activation='relu', input_shape=(X.shape[1],)),  \n",
    "    Dropout(0.3),\n",
    "    Dense(128, activation='relu'),\n",
    "    Dropout(0.2),\n",
    "    Dense(64, activation='relu'),\n",
    "    Dropout(0.5),\n",
    "    Dense(32, activation='relu'),\n",
    "    Dense(1, activation='sigmoid')  \n",
    "])\n",
    "model.add(BatchNormalization())\n",
    "\n",
    "# Compile the model\n",
    "model.compile(optimizer=Adam(learning_rate=0.0005), loss='binary_crossentropy', metrics=['accuracy'])\n",
    "\n",
    "# Early stopping to prevent overfitting\n",
    "early_stopping = EarlyStopping(monitor='val_loss', patience=10, restore_best_weights=True)\n",
    "\n",
    "# Train the model\n",
    "model.fit(X, y, \n",
    "          epochs=250, batch_size=128, \n",
    "          callbacks=[early_stopping])\n",
    "\n",
    "# Evaluate the model\n",
    "train_loss, train_acc = model.evaluate(X, y, verbose=0)\n",
    "test_loss, test_acc = model.evaluate(X_val, y_val, verbose=0)\n",
    "\n",
    "print(\"Train Data Accuracy: \", train_acc)\n",
    "print(\"Test Data Accuracy: \", test_acc)\n",
    "\n",
    "# Make predictions on test data\n",
    "nn_predictions = (model.predict(test_data) > 0.5).astype(int).flatten()\n",
    "\n",
    "# Create submission DataFrame\n",
    "nn_submission_df = pd.DataFrame({\"PassengerId\": passenger_ids, \"Survived\": mlp_predictions})\n",
    "nn_submission_df.set_index(\"PassengerId\", inplace=True)\n",
    "\n",
    "print(mlp_submission_df[\"Survived\"].value_counts())\n",
    "\n",
    "nn_submission_df.to_csv(\"nn_submission.csv\")\n"
   ]
  },
  {
   "cell_type": "markdown",
   "id": "31741097",
   "metadata": {},
   "source": [
    "## Performances till now\n",
    "We have used certain machine learning models and a few neural network techniques. Let's try certain different approaches to improve the accuracy on data."
   ]
  },
  {
   "cell_type": "markdown",
   "id": "8a4e61b1",
   "metadata": {},
   "source": [
    "## K-Nearest Neighbour Classifier"
   ]
  },
  {
   "cell_type": "code",
   "execution_count": 55,
   "id": "e251738a",
   "metadata": {},
   "outputs": [
    {
     "name": "stdout",
     "output_type": "stream",
     "text": [
      "Train data prediction:  0.8092031425364759\n"
     ]
    },
    {
     "data": {
      "text/plain": [
       "0    387\n",
       "1     31\n",
       "Name: Survived, dtype: int64"
      ]
     },
     "metadata": {},
     "output_type": "display_data"
    }
   ],
   "source": [
    "from sklearn.neighbors import KNeighborsClassifier\n",
    "\n",
    "knn_classifier = KNeighborsClassifier()\n",
    "\n",
    "knn_classifier.fit(X, y)\n",
    "\n",
    "# Train prediction\n",
    "print(\"Train data prediction: \", accuracy_score(y, knn_classifier.predict(X)))\n",
    "\n",
    "knn_test_data = test_data.copy()\n",
    "knn_predictions = knn_classifier.predict(knn_test_data)\n",
    "knn_submission_df = pd.DataFrame({\"PassengerId\": passenger_ids, \"Survived\": predictions})\n",
    "\n",
    "#let's  Set PassengerId as index\n",
    "knn_submission_df.set_index(\"PassengerId\", inplace=True)\n",
    "display(knn_submission_df[\"Survived\"].value_counts())\n",
    "\n",
    "knn_submission_df.to_csv(\"knn_classifier.csv\")"
   ]
  },
  {
   "cell_type": "markdown",
   "id": "69b10fe9",
   "metadata": {},
   "source": [
    "Till now ML models are performing worse than DL models so from now on we will be focusing on Neural Networks and their optimization"
   ]
  },
  {
   "cell_type": "markdown",
   "id": "3d887ae9",
   "metadata": {},
   "source": [
    "## Changed Approach\n",
    "We tried tweaking neural nets but it seems like we have reached the limit of our improvement on models. So now let's try to use data efficiently."
   ]
  },
  {
   "cell_type": "code",
   "execution_count": 56,
   "id": "5184c362",
   "metadata": {},
   "outputs": [],
   "source": [
    "train_data_1 = pd.read_csv(\"train.csv\")"
   ]
  },
  {
   "cell_type": "code",
   "execution_count": 57,
   "id": "018a2e18",
   "metadata": {},
   "outputs": [
    {
     "name": "stdout",
     "output_type": "stream",
     "text": [
      "<class 'pandas.core.frame.DataFrame'>\n",
      "RangeIndex: 891 entries, 0 to 890\n",
      "Data columns (total 12 columns):\n",
      " #   Column       Non-Null Count  Dtype  \n",
      "---  ------       --------------  -----  \n",
      " 0   PassengerId  891 non-null    int64  \n",
      " 1   Survived     891 non-null    int64  \n",
      " 2   Pclass       891 non-null    int64  \n",
      " 3   Name         891 non-null    object \n",
      " 4   Sex          891 non-null    object \n",
      " 5   Age          714 non-null    float64\n",
      " 6   SibSp        891 non-null    int64  \n",
      " 7   Parch        891 non-null    int64  \n",
      " 8   Ticket       891 non-null    object \n",
      " 9   Fare         891 non-null    float64\n",
      " 10  Cabin        204 non-null    object \n",
      " 11  Embarked     889 non-null    object \n",
      "dtypes: float64(2), int64(5), object(5)\n",
      "memory usage: 83.7+ KB\n"
     ]
    }
   ],
   "source": [
    "train_data_1.info()"
   ]
  },
  {
   "cell_type": "code",
   "execution_count": 58,
   "id": "12464413",
   "metadata": {},
   "outputs": [
    {
     "data": {
      "text/html": [
       "<div>\n",
       "<style scoped>\n",
       "    .dataframe tbody tr th:only-of-type {\n",
       "        vertical-align: middle;\n",
       "    }\n",
       "\n",
       "    .dataframe tbody tr th {\n",
       "        vertical-align: top;\n",
       "    }\n",
       "\n",
       "    .dataframe thead th {\n",
       "        text-align: right;\n",
       "    }\n",
       "</style>\n",
       "<table border=\"1\" class=\"dataframe\">\n",
       "  <thead>\n",
       "    <tr style=\"text-align: right;\">\n",
       "      <th></th>\n",
       "      <th>Survived</th>\n",
       "      <th>Pclass</th>\n",
       "      <th>Sex</th>\n",
       "      <th>Age</th>\n",
       "      <th>SibSp</th>\n",
       "      <th>Parch</th>\n",
       "      <th>Fare</th>\n",
       "      <th>Embarked</th>\n",
       "    </tr>\n",
       "  </thead>\n",
       "  <tbody>\n",
       "    <tr>\n",
       "      <th>0</th>\n",
       "      <td>0</td>\n",
       "      <td>3</td>\n",
       "      <td>male</td>\n",
       "      <td>22.0</td>\n",
       "      <td>1</td>\n",
       "      <td>0</td>\n",
       "      <td>7.2500</td>\n",
       "      <td>S</td>\n",
       "    </tr>\n",
       "    <tr>\n",
       "      <th>1</th>\n",
       "      <td>1</td>\n",
       "      <td>1</td>\n",
       "      <td>female</td>\n",
       "      <td>38.0</td>\n",
       "      <td>1</td>\n",
       "      <td>0</td>\n",
       "      <td>71.2833</td>\n",
       "      <td>C</td>\n",
       "    </tr>\n",
       "    <tr>\n",
       "      <th>2</th>\n",
       "      <td>1</td>\n",
       "      <td>3</td>\n",
       "      <td>female</td>\n",
       "      <td>26.0</td>\n",
       "      <td>0</td>\n",
       "      <td>0</td>\n",
       "      <td>7.9250</td>\n",
       "      <td>S</td>\n",
       "    </tr>\n",
       "    <tr>\n",
       "      <th>3</th>\n",
       "      <td>1</td>\n",
       "      <td>1</td>\n",
       "      <td>female</td>\n",
       "      <td>35.0</td>\n",
       "      <td>1</td>\n",
       "      <td>0</td>\n",
       "      <td>53.1000</td>\n",
       "      <td>S</td>\n",
       "    </tr>\n",
       "    <tr>\n",
       "      <th>4</th>\n",
       "      <td>0</td>\n",
       "      <td>3</td>\n",
       "      <td>male</td>\n",
       "      <td>35.0</td>\n",
       "      <td>0</td>\n",
       "      <td>0</td>\n",
       "      <td>8.0500</td>\n",
       "      <td>S</td>\n",
       "    </tr>\n",
       "  </tbody>\n",
       "</table>\n",
       "</div>"
      ],
      "text/plain": [
       "   Survived  Pclass     Sex   Age  SibSp  Parch     Fare Embarked\n",
       "0         0       3    male  22.0      1      0   7.2500        S\n",
       "1         1       1  female  38.0      1      0  71.2833        C\n",
       "2         1       3  female  26.0      0      0   7.9250        S\n",
       "3         1       1  female  35.0      1      0  53.1000        S\n",
       "4         0       3    male  35.0      0      0   8.0500        S"
      ]
     },
     "execution_count": 58,
     "metadata": {},
     "output_type": "execute_result"
    }
   ],
   "source": [
    "# let's Drop the PassengerId, Name, Ticket and Cabin column\n",
    "train_data_1.drop(columns=[\"PassengerId\", \"Name\", \"Ticket\", \"Cabin\"], axis=1, inplace=True)\n",
    "\n",
    "# Checking the columns\n",
    "train_data_1.head()"
   ]
  },
  {
   "cell_type": "code",
   "execution_count": 59,
   "id": "5e786705",
   "metadata": {},
   "outputs": [
    {
     "data": {
      "text/html": [
       "<div>\n",
       "<style scoped>\n",
       "    .dataframe tbody tr th:only-of-type {\n",
       "        vertical-align: middle;\n",
       "    }\n",
       "\n",
       "    .dataframe tbody tr th {\n",
       "        vertical-align: top;\n",
       "    }\n",
       "\n",
       "    .dataframe thead th {\n",
       "        text-align: right;\n",
       "    }\n",
       "</style>\n",
       "<table border=\"1\" class=\"dataframe\">\n",
       "  <thead>\n",
       "    <tr style=\"text-align: right;\">\n",
       "      <th></th>\n",
       "      <th>Survived</th>\n",
       "      <th>Pclass</th>\n",
       "      <th>Sex</th>\n",
       "      <th>Age</th>\n",
       "      <th>SibSp</th>\n",
       "      <th>Parch</th>\n",
       "      <th>Fare</th>\n",
       "      <th>Embarked</th>\n",
       "    </tr>\n",
       "  </thead>\n",
       "  <tbody>\n",
       "    <tr>\n",
       "      <th>0</th>\n",
       "      <td>0</td>\n",
       "      <td>3</td>\n",
       "      <td>1</td>\n",
       "      <td>22.0</td>\n",
       "      <td>1</td>\n",
       "      <td>0</td>\n",
       "      <td>7.2500</td>\n",
       "      <td>2</td>\n",
       "    </tr>\n",
       "    <tr>\n",
       "      <th>1</th>\n",
       "      <td>1</td>\n",
       "      <td>1</td>\n",
       "      <td>0</td>\n",
       "      <td>38.0</td>\n",
       "      <td>1</td>\n",
       "      <td>0</td>\n",
       "      <td>71.2833</td>\n",
       "      <td>0</td>\n",
       "    </tr>\n",
       "    <tr>\n",
       "      <th>2</th>\n",
       "      <td>1</td>\n",
       "      <td>3</td>\n",
       "      <td>0</td>\n",
       "      <td>26.0</td>\n",
       "      <td>0</td>\n",
       "      <td>0</td>\n",
       "      <td>7.9250</td>\n",
       "      <td>2</td>\n",
       "    </tr>\n",
       "    <tr>\n",
       "      <th>3</th>\n",
       "      <td>1</td>\n",
       "      <td>1</td>\n",
       "      <td>0</td>\n",
       "      <td>35.0</td>\n",
       "      <td>1</td>\n",
       "      <td>0</td>\n",
       "      <td>53.1000</td>\n",
       "      <td>2</td>\n",
       "    </tr>\n",
       "    <tr>\n",
       "      <th>4</th>\n",
       "      <td>0</td>\n",
       "      <td>3</td>\n",
       "      <td>1</td>\n",
       "      <td>35.0</td>\n",
       "      <td>0</td>\n",
       "      <td>0</td>\n",
       "      <td>8.0500</td>\n",
       "      <td>2</td>\n",
       "    </tr>\n",
       "  </tbody>\n",
       "</table>\n",
       "</div>"
      ],
      "text/plain": [
       "   Survived  Pclass  Sex   Age  SibSp  Parch     Fare  Embarked\n",
       "0         0       3    1  22.0      1      0   7.2500         2\n",
       "1         1       1    0  38.0      1      0  71.2833         0\n",
       "2         1       3    0  26.0      0      0   7.9250         2\n",
       "3         1       1    0  35.0      1      0  53.1000         2\n",
       "4         0       3    1  35.0      0      0   8.0500         2"
      ]
     },
     "execution_count": 59,
     "metadata": {},
     "output_type": "execute_result"
    }
   ],
   "source": [
    "from sklearn.preprocessing import LabelEncoder\n",
    "\n",
    "encoder = LabelEncoder()\n",
    "train_data_1[\"Sex\"] = encoder.fit_transform(train_data_1[\"Sex\"])\n",
    "train_data_1[\"Embarked\"] = encoder.fit_transform(train_data_1[\"Embarked\"])\n",
    "\n",
    "train_data_1.head()"
   ]
  },
  {
   "cell_type": "code",
   "execution_count": 60,
   "id": "d9f6dfde",
   "metadata": {},
   "outputs": [
    {
     "data": {
      "text/plain": [
       "Survived      0\n",
       "Pclass        0\n",
       "Sex           0\n",
       "Age         177\n",
       "SibSp         0\n",
       "Parch         0\n",
       "Fare          0\n",
       "Embarked      0\n",
       "dtype: int64"
      ]
     },
     "execution_count": 60,
     "metadata": {},
     "output_type": "execute_result"
    }
   ],
   "source": [
    "train_data_1.isnull().sum()"
   ]
  },
  {
   "cell_type": "code",
   "execution_count": 61,
   "id": "a2aa6c4e",
   "metadata": {},
   "outputs": [
    {
     "data": {
      "text/plain": [
       "Survived    0\n",
       "Pclass      0\n",
       "Sex         0\n",
       "Age         0\n",
       "SibSp       0\n",
       "Parch       0\n",
       "Fare        0\n",
       "Embarked    0\n",
       "dtype: int64"
      ]
     },
     "execution_count": 61,
     "metadata": {},
     "output_type": "execute_result"
    }
   ],
   "source": [
    "# Dropping the null columns\n",
    "train_data_1.dropna(inplace=True)\n",
    "train_data_1.isnull().sum()"
   ]
  },
  {
   "cell_type": "code",
   "execution_count": 62,
   "id": "9d646ff7",
   "metadata": {},
   "outputs": [],
   "source": [
    "X_changed = train_data_1.drop(\"Survived\", axis=1)\n",
    "y_changed = train_data_1[\"Survived\"]\n",
    "\n",
    "Xc_train, Xc_val, yc_train, yc_val = train_test_split(X_changed,\n",
    "                                                      y_changed, \n",
    "                                                      test_size = 0.2, \n",
    "                                                      random_state=2)"
   ]
  },
  {
   "cell_type": "markdown",
   "id": "df8a5977",
   "metadata": {},
   "source": [
    "## Testing Logistic Regression"
   ]
  },
  {
   "cell_type": "code",
   "execution_count": 63,
   "id": "6cc928a9",
   "metadata": {},
   "outputs": [
    {
     "name": "stdout",
     "output_type": "stream",
     "text": [
      "Train Data Accuracy:  0.8021015761821366\n",
      "Validation Data Accuracy:  0.8391608391608392\n"
     ]
    }
   ],
   "source": [
    "lr_changed = LogisticRegression(max_iter=250)\n",
    "lr_changed.fit(Xc_train, yc_train)\n",
    "\n",
    "#Evaluation\n",
    "print(\"Train Data Accuracy: \", accuracy_score(lr_changed.predict(Xc_train), \n",
    "                                              yc_train))\n",
    "print(\"Validation Data Accuracy: \", accuracy_score(lr_changed.predict(Xc_val), \n",
    "                                                   yc_val))"
   ]
  },
  {
   "cell_type": "markdown",
   "id": "bb19c37a",
   "metadata": {},
   "source": [
    "## Prediction On Test Data"
   ]
  },
  {
   "cell_type": "code",
   "execution_count": 64,
   "id": "83d39e75",
   "metadata": {},
   "outputs": [
    {
     "data": {
      "text/plain": [
       "0    387\n",
       "1     31\n",
       "Name: Survived, dtype: int64"
      ]
     },
     "metadata": {},
     "output_type": "display_data"
    }
   ],
   "source": [
    "test_datac = test_data.drop(\"Family\", axis=1)\n",
    "\n",
    "lr_changed.fit(X_changed, y_changed)\n",
    "lrc_predictions = lr_changed.predict(test_datac)\n",
    "\n",
    "lrc_submission_df = pd.DataFrame({\"PassengerId\": passenger_ids, \"Survived\": predictions})\n",
    "\n",
    "# let's Set PassengerId as index\n",
    "lrc_submission_df.set_index(\"PassengerId\", inplace=True)\n",
    "display(lrc_submission_df[\"Survived\"].value_counts())"
   ]
  },
  {
   "cell_type": "markdown",
   "id": "71616416",
   "metadata": {},
   "source": [
    "Till now no improvements are seen"
   ]
  },
  {
   "cell_type": "markdown",
   "id": "aec5d005",
   "metadata": {},
   "source": [
    "## Shifting to Neural Networks"
   ]
  },
  {
   "cell_type": "code",
   "execution_count": 65,
   "id": "bbd02dc0",
   "metadata": {},
   "outputs": [
    {
     "name": "stdout",
     "output_type": "stream",
     "text": [
      "WARNING:tensorflow:From C:\\Users\\samik\\AppData\\Roaming\\Python\\Python311\\site-packages\\keras\\src\\optimizers\\__init__.py:309: The name tf.train.Optimizer is deprecated. Please use tf.compat.v1.train.Optimizer instead.\n",
      "\n",
      "Epoch 1/150\n",
      "12/12 [==============================] - 3s 44ms/step - loss: 1.2690 - accuracy: 0.6092 - val_loss: 0.6398 - val_accuracy: 0.6014\n",
      "Epoch 2/150\n",
      "12/12 [==============================] - 0s 13ms/step - loss: 0.8813 - accuracy: 0.5924 - val_loss: 0.6819 - val_accuracy: 0.5315\n",
      "Epoch 3/150\n",
      "12/12 [==============================] - 0s 7ms/step - loss: 0.8082 - accuracy: 0.5868 - val_loss: 0.6691 - val_accuracy: 0.5245\n",
      "Epoch 4/150\n",
      "12/12 [==============================] - 0s 11ms/step - loss: 0.7788 - accuracy: 0.6008 - val_loss: 0.6417 - val_accuracy: 0.5594\n",
      "Epoch 5/150\n",
      "12/12 [==============================] - 0s 12ms/step - loss: 0.8125 - accuracy: 0.5518 - val_loss: 0.6468 - val_accuracy: 0.5524\n",
      "Epoch 6/150\n",
      "12/12 [==============================] - 0s 11ms/step - loss: 0.7319 - accuracy: 0.5854 - val_loss: 0.6638 - val_accuracy: 0.5245\n",
      "Epoch 7/150\n",
      "12/12 [==============================] - 0s 8ms/step - loss: 0.7041 - accuracy: 0.5966 - val_loss: 0.6592 - val_accuracy: 0.5035\n",
      "Epoch 8/150\n",
      "12/12 [==============================] - 0s 8ms/step - loss: 0.7422 - accuracy: 0.6289 - val_loss: 0.6488 - val_accuracy: 0.5594\n",
      "Epoch 9/150\n",
      "12/12 [==============================] - 0s 7ms/step - loss: 0.7087 - accuracy: 0.5966 - val_loss: 0.6404 - val_accuracy: 0.6084\n",
      "Epoch 10/150\n",
      "12/12 [==============================] - 0s 9ms/step - loss: 0.6952 - accuracy: 0.6359 - val_loss: 0.6296 - val_accuracy: 0.6713\n",
      "Epoch 11/150\n",
      "12/12 [==============================] - 0s 11ms/step - loss: 0.7211 - accuracy: 0.6106 - val_loss: 0.6277 - val_accuracy: 0.6783\n",
      "Epoch 12/150\n",
      "12/12 [==============================] - 0s 9ms/step - loss: 0.6953 - accuracy: 0.6008 - val_loss: 0.6373 - val_accuracy: 0.6573\n",
      "Epoch 13/150\n",
      "12/12 [==============================] - 0s 9ms/step - loss: 0.7017 - accuracy: 0.6303 - val_loss: 0.6393 - val_accuracy: 0.6434\n",
      "Epoch 14/150\n",
      "12/12 [==============================] - 0s 9ms/step - loss: 0.6579 - accuracy: 0.6106 - val_loss: 0.6345 - val_accuracy: 0.6573\n",
      "Epoch 15/150\n",
      "12/12 [==============================] - 0s 12ms/step - loss: 0.7127 - accuracy: 0.6064 - val_loss: 0.6385 - val_accuracy: 0.6503\n",
      "Epoch 16/150\n",
      "12/12 [==============================] - 0s 14ms/step - loss: 0.6426 - accuracy: 0.6331 - val_loss: 0.6386 - val_accuracy: 0.6783\n",
      "Epoch 17/150\n",
      "12/12 [==============================] - 0s 8ms/step - loss: 0.6651 - accuracy: 0.6415 - val_loss: 0.6288 - val_accuracy: 0.6993\n",
      "Epoch 18/150\n",
      "12/12 [==============================] - 0s 7ms/step - loss: 0.6749 - accuracy: 0.6092 - val_loss: 0.6225 - val_accuracy: 0.6993\n",
      "Epoch 19/150\n",
      "12/12 [==============================] - 0s 7ms/step - loss: 0.6738 - accuracy: 0.6471 - val_loss: 0.6132 - val_accuracy: 0.7133\n",
      "Epoch 20/150\n",
      "12/12 [==============================] - 0s 8ms/step - loss: 0.7033 - accuracy: 0.6317 - val_loss: 0.6104 - val_accuracy: 0.6993\n",
      "Epoch 21/150\n",
      "12/12 [==============================] - 0s 14ms/step - loss: 0.6669 - accuracy: 0.6513 - val_loss: 0.6182 - val_accuracy: 0.6923\n",
      "Epoch 22/150\n",
      "12/12 [==============================] - 0s 11ms/step - loss: 0.6916 - accuracy: 0.6359 - val_loss: 0.6194 - val_accuracy: 0.6853\n",
      "Epoch 23/150\n",
      "12/12 [==============================] - 0s 10ms/step - loss: 0.6488 - accuracy: 0.6569 - val_loss: 0.6158 - val_accuracy: 0.7133\n",
      "Epoch 24/150\n",
      "12/12 [==============================] - 0s 10ms/step - loss: 0.6335 - accuracy: 0.6457 - val_loss: 0.6046 - val_accuracy: 0.7063\n",
      "Epoch 25/150\n",
      "12/12 [==============================] - 0s 11ms/step - loss: 0.6553 - accuracy: 0.6569 - val_loss: 0.6040 - val_accuracy: 0.7063\n",
      "Epoch 26/150\n",
      "12/12 [==============================] - 0s 12ms/step - loss: 0.6823 - accuracy: 0.6527 - val_loss: 0.5994 - val_accuracy: 0.7063\n",
      "Epoch 27/150\n",
      "12/12 [==============================] - 0s 7ms/step - loss: 0.6460 - accuracy: 0.6583 - val_loss: 0.5960 - val_accuracy: 0.7063\n",
      "Epoch 28/150\n",
      "12/12 [==============================] - 0s 7ms/step - loss: 0.6655 - accuracy: 0.6541 - val_loss: 0.5945 - val_accuracy: 0.7063\n",
      "Epoch 29/150\n",
      "12/12 [==============================] - 0s 7ms/step - loss: 0.6454 - accuracy: 0.6275 - val_loss: 0.5951 - val_accuracy: 0.7063\n",
      "Epoch 30/150\n",
      "12/12 [==============================] - 0s 11ms/step - loss: 0.6437 - accuracy: 0.6513 - val_loss: 0.5909 - val_accuracy: 0.7063\n",
      "Epoch 31/150\n",
      "12/12 [==============================] - 0s 11ms/step - loss: 0.6476 - accuracy: 0.6667 - val_loss: 0.5944 - val_accuracy: 0.7133\n",
      "Epoch 32/150\n",
      "12/12 [==============================] - 0s 11ms/step - loss: 0.6520 - accuracy: 0.6555 - val_loss: 0.5915 - val_accuracy: 0.7133\n",
      "Epoch 33/150\n",
      "12/12 [==============================] - 0s 9ms/step - loss: 0.6480 - accuracy: 0.6527 - val_loss: 0.5865 - val_accuracy: 0.7133\n",
      "Epoch 34/150\n",
      "12/12 [==============================] - 0s 10ms/step - loss: 0.6454 - accuracy: 0.6541 - val_loss: 0.5837 - val_accuracy: 0.7133\n",
      "Epoch 35/150\n",
      "12/12 [==============================] - 0s 8ms/step - loss: 0.6370 - accuracy: 0.6541 - val_loss: 0.5816 - val_accuracy: 0.7133\n",
      "Epoch 36/150\n",
      "12/12 [==============================] - 0s 8ms/step - loss: 0.6456 - accuracy: 0.6723 - val_loss: 0.5800 - val_accuracy: 0.7133\n",
      "Epoch 37/150\n",
      "12/12 [==============================] - 0s 11ms/step - loss: 0.6498 - accuracy: 0.6429 - val_loss: 0.5806 - val_accuracy: 0.7133\n",
      "Epoch 38/150\n",
      "12/12 [==============================] - 0s 9ms/step - loss: 0.6372 - accuracy: 0.6499 - val_loss: 0.5811 - val_accuracy: 0.7133\n",
      "Epoch 39/150\n",
      "12/12 [==============================] - 0s 7ms/step - loss: 0.6508 - accuracy: 0.6513 - val_loss: 0.5817 - val_accuracy: 0.7133\n",
      "Epoch 40/150\n",
      "12/12 [==============================] - 0s 8ms/step - loss: 0.6329 - accuracy: 0.6471 - val_loss: 0.5814 - val_accuracy: 0.7063\n",
      "Epoch 41/150\n",
      "12/12 [==============================] - 0s 7ms/step - loss: 0.6434 - accuracy: 0.6597 - val_loss: 0.5830 - val_accuracy: 0.7203\n",
      "Epoch 42/150\n",
      "12/12 [==============================] - 0s 8ms/step - loss: 0.6274 - accuracy: 0.6779 - val_loss: 0.5846 - val_accuracy: 0.7273\n",
      "Epoch 43/150\n",
      "12/12 [==============================] - 0s 11ms/step - loss: 0.6309 - accuracy: 0.6317 - val_loss: 0.5847 - val_accuracy: 0.7273\n",
      "Epoch 44/150\n",
      "12/12 [==============================] - 0s 11ms/step - loss: 0.6297 - accuracy: 0.6583 - val_loss: 0.5843 - val_accuracy: 0.7273\n",
      "Epoch 45/150\n",
      "12/12 [==============================] - 0s 9ms/step - loss: 0.6374 - accuracy: 0.6555 - val_loss: 0.5839 - val_accuracy: 0.7273\n",
      "Epoch 46/150\n",
      "12/12 [==============================] - 0s 8ms/step - loss: 0.6216 - accuracy: 0.6569 - val_loss: 0.5844 - val_accuracy: 0.7273\n",
      "Epoch 47/150\n",
      "12/12 [==============================] - 0s 8ms/step - loss: 0.6283 - accuracy: 0.6569 - val_loss: 0.5838 - val_accuracy: 0.7273\n",
      "Epoch 48/150\n",
      "12/12 [==============================] - 0s 9ms/step - loss: 0.6165 - accuracy: 0.6513 - val_loss: 0.5810 - val_accuracy: 0.7273\n",
      "Epoch 49/150\n",
      "12/12 [==============================] - 0s 12ms/step - loss: 0.6110 - accuracy: 0.6695 - val_loss: 0.5798 - val_accuracy: 0.7273\n",
      "Epoch 50/150\n",
      "12/12 [==============================] - 0s 7ms/step - loss: 0.6195 - accuracy: 0.6765 - val_loss: 0.5786 - val_accuracy: 0.7273\n",
      "Epoch 51/150\n",
      "12/12 [==============================] - 0s 6ms/step - loss: 0.6321 - accuracy: 0.6695 - val_loss: 0.5793 - val_accuracy: 0.7273\n",
      "Epoch 52/150\n",
      "12/12 [==============================] - 0s 7ms/step - loss: 0.6251 - accuracy: 0.6639 - val_loss: 0.5785 - val_accuracy: 0.7203\n",
      "Epoch 53/150\n",
      "12/12 [==============================] - 0s 5ms/step - loss: 0.6439 - accuracy: 0.6569 - val_loss: 0.5788 - val_accuracy: 0.7203\n",
      "Epoch 54/150\n",
      "12/12 [==============================] - 0s 7ms/step - loss: 0.6348 - accuracy: 0.6541 - val_loss: 0.5783 - val_accuracy: 0.7273\n",
      "Epoch 55/150\n",
      "12/12 [==============================] - 0s 8ms/step - loss: 0.6145 - accuracy: 0.6639 - val_loss: 0.5786 - val_accuracy: 0.7273\n",
      "Epoch 56/150\n",
      "12/12 [==============================] - 0s 8ms/step - loss: 0.6558 - accuracy: 0.6513 - val_loss: 0.5807 - val_accuracy: 0.7273\n",
      "Epoch 57/150\n"
     ]
    },
    {
     "name": "stdout",
     "output_type": "stream",
     "text": [
      "12/12 [==============================] - 0s 9ms/step - loss: 0.6269 - accuracy: 0.6499 - val_loss: 0.5807 - val_accuracy: 0.7273\n",
      "Epoch 58/150\n",
      "12/12 [==============================] - 0s 8ms/step - loss: 0.6131 - accuracy: 0.6737 - val_loss: 0.5804 - val_accuracy: 0.7273\n",
      "Epoch 59/150\n",
      "12/12 [==============================] - 0s 8ms/step - loss: 0.6066 - accuracy: 0.6611 - val_loss: 0.5804 - val_accuracy: 0.7273\n",
      "Epoch 60/150\n",
      "12/12 [==============================] - 0s 7ms/step - loss: 0.6336 - accuracy: 0.6499 - val_loss: 0.5809 - val_accuracy: 0.7273\n",
      "Epoch 61/150\n",
      "12/12 [==============================] - 0s 9ms/step - loss: 0.6084 - accuracy: 0.6653 - val_loss: 0.5788 - val_accuracy: 0.7273\n",
      "Epoch 62/150\n",
      "12/12 [==============================] - 0s 6ms/step - loss: 0.6075 - accuracy: 0.6667 - val_loss: 0.5779 - val_accuracy: 0.7273\n",
      "Epoch 63/150\n",
      "12/12 [==============================] - 0s 8ms/step - loss: 0.6270 - accuracy: 0.6639 - val_loss: 0.5761 - val_accuracy: 0.7273\n",
      "Epoch 64/150\n",
      "12/12 [==============================] - 0s 6ms/step - loss: 0.6234 - accuracy: 0.6765 - val_loss: 0.5773 - val_accuracy: 0.7133\n",
      "Epoch 65/150\n",
      "12/12 [==============================] - 0s 7ms/step - loss: 0.6080 - accuracy: 0.6807 - val_loss: 0.5775 - val_accuracy: 0.7063\n",
      "Epoch 66/150\n",
      "12/12 [==============================] - 0s 8ms/step - loss: 0.6293 - accuracy: 0.6681 - val_loss: 0.5749 - val_accuracy: 0.7063\n",
      "Epoch 67/150\n",
      "12/12 [==============================] - 0s 8ms/step - loss: 0.6068 - accuracy: 0.6723 - val_loss: 0.5729 - val_accuracy: 0.7063\n",
      "Epoch 68/150\n",
      "12/12 [==============================] - 0s 7ms/step - loss: 0.6303 - accuracy: 0.6639 - val_loss: 0.5740 - val_accuracy: 0.7063\n",
      "Epoch 69/150\n",
      "12/12 [==============================] - 0s 7ms/step - loss: 0.6023 - accuracy: 0.6793 - val_loss: 0.5733 - val_accuracy: 0.7203\n",
      "Epoch 70/150\n",
      "12/12 [==============================] - 0s 8ms/step - loss: 0.6087 - accuracy: 0.6597 - val_loss: 0.5736 - val_accuracy: 0.7273\n",
      "Epoch 71/150\n",
      "12/12 [==============================] - 0s 8ms/step - loss: 0.6159 - accuracy: 0.6793 - val_loss: 0.5733 - val_accuracy: 0.7273\n",
      "Epoch 72/150\n",
      "12/12 [==============================] - 0s 13ms/step - loss: 0.6065 - accuracy: 0.6639 - val_loss: 0.5741 - val_accuracy: 0.7343\n",
      "Epoch 73/150\n",
      "12/12 [==============================] - 0s 8ms/step - loss: 0.6167 - accuracy: 0.6653 - val_loss: 0.5756 - val_accuracy: 0.7343\n",
      "Epoch 74/150\n",
      "12/12 [==============================] - 0s 8ms/step - loss: 0.6119 - accuracy: 0.6737 - val_loss: 0.5741 - val_accuracy: 0.7273\n",
      "Epoch 75/150\n",
      "12/12 [==============================] - 0s 8ms/step - loss: 0.6192 - accuracy: 0.6667 - val_loss: 0.5728 - val_accuracy: 0.7133\n",
      "Epoch 76/150\n",
      "12/12 [==============================] - 0s 9ms/step - loss: 0.6240 - accuracy: 0.6471 - val_loss: 0.5753 - val_accuracy: 0.7273\n",
      "Epoch 77/150\n",
      "12/12 [==============================] - 0s 7ms/step - loss: 0.6032 - accuracy: 0.6625 - val_loss: 0.5750 - val_accuracy: 0.7273\n",
      "Epoch 78/150\n",
      "12/12 [==============================] - 0s 8ms/step - loss: 0.6052 - accuracy: 0.6555 - val_loss: 0.5732 - val_accuracy: 0.7203\n",
      "Epoch 79/150\n",
      "12/12 [==============================] - 0s 8ms/step - loss: 0.6425 - accuracy: 0.6611 - val_loss: 0.5733 - val_accuracy: 0.7273\n",
      "Epoch 80/150\n",
      "12/12 [==============================] - 0s 8ms/step - loss: 0.6219 - accuracy: 0.6611 - val_loss: 0.5755 - val_accuracy: 0.7343\n",
      "Epoch 81/150\n",
      "12/12 [==============================] - 0s 7ms/step - loss: 0.6062 - accuracy: 0.6625 - val_loss: 0.5736 - val_accuracy: 0.7273\n",
      "Epoch 82/150\n",
      "12/12 [==============================] - 0s 8ms/step - loss: 0.5975 - accuracy: 0.6765 - val_loss: 0.5707 - val_accuracy: 0.7203\n",
      "Epoch 83/150\n",
      "12/12 [==============================] - 0s 8ms/step - loss: 0.5985 - accuracy: 0.6793 - val_loss: 0.5689 - val_accuracy: 0.7203\n",
      "Epoch 84/150\n",
      "12/12 [==============================] - 0s 8ms/step - loss: 0.6220 - accuracy: 0.6513 - val_loss: 0.5689 - val_accuracy: 0.7133\n",
      "Epoch 85/150\n",
      "12/12 [==============================] - 0s 9ms/step - loss: 0.6121 - accuracy: 0.6695 - val_loss: 0.5711 - val_accuracy: 0.7133\n",
      "Epoch 86/150\n",
      "12/12 [==============================] - 0s 8ms/step - loss: 0.6109 - accuracy: 0.6709 - val_loss: 0.5703 - val_accuracy: 0.7063\n",
      "Epoch 87/150\n",
      "12/12 [==============================] - 0s 8ms/step - loss: 0.6151 - accuracy: 0.6639 - val_loss: 0.5707 - val_accuracy: 0.7063\n",
      "Epoch 88/150\n",
      "12/12 [==============================] - 0s 8ms/step - loss: 0.6079 - accuracy: 0.6709 - val_loss: 0.5712 - val_accuracy: 0.7063\n",
      "Epoch 89/150\n",
      "12/12 [==============================] - 0s 7ms/step - loss: 0.6154 - accuracy: 0.6765 - val_loss: 0.5694 - val_accuracy: 0.7063\n",
      "Epoch 90/150\n",
      "12/12 [==============================] - 0s 6ms/step - loss: 0.5921 - accuracy: 0.6695 - val_loss: 0.5680 - val_accuracy: 0.7133\n",
      "Epoch 91/150\n",
      "12/12 [==============================] - 0s 7ms/step - loss: 0.6033 - accuracy: 0.6527 - val_loss: 0.5654 - val_accuracy: 0.7133\n",
      "Epoch 92/150\n",
      "12/12 [==============================] - 0s 7ms/step - loss: 0.6119 - accuracy: 0.6737 - val_loss: 0.5657 - val_accuracy: 0.7133\n",
      "Epoch 93/150\n",
      "12/12 [==============================] - 0s 6ms/step - loss: 0.6056 - accuracy: 0.6569 - val_loss: 0.5668 - val_accuracy: 0.7273\n",
      "Epoch 94/150\n",
      "12/12 [==============================] - 0s 6ms/step - loss: 0.6193 - accuracy: 0.6723 - val_loss: 0.5686 - val_accuracy: 0.7343\n",
      "Epoch 95/150\n",
      "12/12 [==============================] - 0s 7ms/step - loss: 0.6064 - accuracy: 0.6555 - val_loss: 0.5709 - val_accuracy: 0.7273\n",
      "Epoch 96/150\n",
      "12/12 [==============================] - 0s 7ms/step - loss: 0.6141 - accuracy: 0.6597 - val_loss: 0.5698 - val_accuracy: 0.7273\n",
      "Epoch 97/150\n",
      "12/12 [==============================] - 0s 6ms/step - loss: 0.6073 - accuracy: 0.6737 - val_loss: 0.5706 - val_accuracy: 0.7273\n",
      "Epoch 98/150\n",
      "12/12 [==============================] - 0s 6ms/step - loss: 0.6017 - accuracy: 0.6695 - val_loss: 0.5685 - val_accuracy: 0.7343\n",
      "Epoch 99/150\n",
      "12/12 [==============================] - 0s 6ms/step - loss: 0.5955 - accuracy: 0.6555 - val_loss: 0.5670 - val_accuracy: 0.7273\n",
      "Epoch 100/150\n",
      "12/12 [==============================] - 0s 8ms/step - loss: 0.6034 - accuracy: 0.6569 - val_loss: 0.5674 - val_accuracy: 0.7133\n",
      "Epoch 101/150\n",
      "12/12 [==============================] - 0s 7ms/step - loss: 0.6172 - accuracy: 0.6555 - val_loss: 0.5702 - val_accuracy: 0.7133\n",
      "Epoch 102/150\n",
      "12/12 [==============================] - 0s 7ms/step - loss: 0.6022 - accuracy: 0.6737 - val_loss: 0.5677 - val_accuracy: 0.7063\n",
      "Epoch 103/150\n",
      "12/12 [==============================] - 0s 8ms/step - loss: 0.6005 - accuracy: 0.6667 - val_loss: 0.5664 - val_accuracy: 0.7133\n",
      "Epoch 104/150\n",
      "12/12 [==============================] - 0s 9ms/step - loss: 0.5988 - accuracy: 0.6667 - val_loss: 0.5647 - val_accuracy: 0.7133\n",
      "Epoch 105/150\n",
      "12/12 [==============================] - 0s 10ms/step - loss: 0.6121 - accuracy: 0.6695 - val_loss: 0.5654 - val_accuracy: 0.7063\n",
      "Epoch 106/150\n",
      "12/12 [==============================] - 0s 8ms/step - loss: 0.6046 - accuracy: 0.6583 - val_loss: 0.5644 - val_accuracy: 0.7063\n",
      "Epoch 107/150\n",
      "12/12 [==============================] - 0s 9ms/step - loss: 0.6009 - accuracy: 0.6807 - val_loss: 0.5644 - val_accuracy: 0.7133\n",
      "Epoch 108/150\n",
      "12/12 [==============================] - 0s 8ms/step - loss: 0.5821 - accuracy: 0.6681 - val_loss: 0.5622 - val_accuracy: 0.7063\n",
      "Epoch 109/150\n",
      "12/12 [==============================] - 0s 9ms/step - loss: 0.6122 - accuracy: 0.6667 - val_loss: 0.5618 - val_accuracy: 0.7133\n",
      "Epoch 110/150\n",
      "12/12 [==============================] - 0s 8ms/step - loss: 0.5907 - accuracy: 0.6527 - val_loss: 0.5604 - val_accuracy: 0.7133\n",
      "Epoch 111/150\n",
      "12/12 [==============================] - 0s 8ms/step - loss: 0.5899 - accuracy: 0.6779 - val_loss: 0.5591 - val_accuracy: 0.7063\n",
      "Epoch 112/150\n",
      "12/12 [==============================] - 0s 8ms/step - loss: 0.5948 - accuracy: 0.6611 - val_loss: 0.5567 - val_accuracy: 0.7063\n",
      "Epoch 113/150\n",
      "12/12 [==============================] - 0s 8ms/step - loss: 0.6169 - accuracy: 0.6849 - val_loss: 0.5576 - val_accuracy: 0.7063\n",
      "Epoch 114/150\n"
     ]
    },
    {
     "name": "stdout",
     "output_type": "stream",
     "text": [
      "12/12 [==============================] - 0s 7ms/step - loss: 0.5935 - accuracy: 0.6863 - val_loss: 0.5619 - val_accuracy: 0.7133\n",
      "Epoch 115/150\n",
      "12/12 [==============================] - 0s 7ms/step - loss: 0.5851 - accuracy: 0.6919 - val_loss: 0.5638 - val_accuracy: 0.7133\n",
      "Epoch 116/150\n",
      "12/12 [==============================] - 0s 7ms/step - loss: 0.5890 - accuracy: 0.6723 - val_loss: 0.5599 - val_accuracy: 0.7133\n",
      "Epoch 117/150\n",
      "12/12 [==============================] - 0s 9ms/step - loss: 0.5975 - accuracy: 0.6723 - val_loss: 0.5577 - val_accuracy: 0.7063\n",
      "Epoch 118/150\n",
      "12/12 [==============================] - 0s 9ms/step - loss: 0.6079 - accuracy: 0.6807 - val_loss: 0.5574 - val_accuracy: 0.7133\n",
      "Epoch 119/150\n",
      "12/12 [==============================] - 0s 8ms/step - loss: 0.5980 - accuracy: 0.6681 - val_loss: 0.5568 - val_accuracy: 0.7133\n",
      "Epoch 120/150\n",
      "12/12 [==============================] - 0s 9ms/step - loss: 0.6030 - accuracy: 0.6639 - val_loss: 0.5552 - val_accuracy: 0.7133\n",
      "Epoch 121/150\n",
      "12/12 [==============================] - 0s 13ms/step - loss: 0.5956 - accuracy: 0.6779 - val_loss: 0.5543 - val_accuracy: 0.7133\n",
      "Epoch 122/150\n",
      "12/12 [==============================] - 0s 14ms/step - loss: 0.5894 - accuracy: 0.6779 - val_loss: 0.5529 - val_accuracy: 0.7203\n",
      "Epoch 123/150\n",
      "12/12 [==============================] - 0s 13ms/step - loss: 0.5869 - accuracy: 0.6695 - val_loss: 0.5516 - val_accuracy: 0.7203\n",
      "Epoch 124/150\n",
      "12/12 [==============================] - 0s 12ms/step - loss: 0.5912 - accuracy: 0.6639 - val_loss: 0.5526 - val_accuracy: 0.7133\n",
      "Epoch 125/150\n",
      "12/12 [==============================] - 0s 13ms/step - loss: 0.6036 - accuracy: 0.6835 - val_loss: 0.5513 - val_accuracy: 0.7133\n",
      "Epoch 126/150\n",
      "12/12 [==============================] - 0s 10ms/step - loss: 0.5799 - accuracy: 0.6849 - val_loss: 0.5511 - val_accuracy: 0.7133\n",
      "Epoch 127/150\n",
      "12/12 [==============================] - 0s 8ms/step - loss: 0.5901 - accuracy: 0.6737 - val_loss: 0.5497 - val_accuracy: 0.7133\n",
      "Epoch 128/150\n",
      "12/12 [==============================] - 0s 7ms/step - loss: 0.6010 - accuracy: 0.6681 - val_loss: 0.5504 - val_accuracy: 0.7133\n",
      "Epoch 129/150\n",
      "12/12 [==============================] - 0s 8ms/step - loss: 0.5941 - accuracy: 0.6849 - val_loss: 0.5518 - val_accuracy: 0.7063\n",
      "Epoch 130/150\n",
      "12/12 [==============================] - 0s 8ms/step - loss: 0.5920 - accuracy: 0.6849 - val_loss: 0.5519 - val_accuracy: 0.7063\n",
      "Epoch 131/150\n",
      "12/12 [==============================] - 0s 7ms/step - loss: 0.5903 - accuracy: 0.6723 - val_loss: 0.5510 - val_accuracy: 0.7063\n",
      "Epoch 132/150\n",
      "12/12 [==============================] - 0s 7ms/step - loss: 0.5881 - accuracy: 0.6527 - val_loss: 0.5487 - val_accuracy: 0.7133\n",
      "Epoch 133/150\n",
      "12/12 [==============================] - 0s 8ms/step - loss: 0.5948 - accuracy: 0.6849 - val_loss: 0.5469 - val_accuracy: 0.7133\n",
      "Epoch 134/150\n",
      "12/12 [==============================] - 0s 7ms/step - loss: 0.5782 - accuracy: 0.6863 - val_loss: 0.5483 - val_accuracy: 0.6993\n",
      "Epoch 135/150\n",
      "12/12 [==============================] - 0s 7ms/step - loss: 0.5814 - accuracy: 0.6793 - val_loss: 0.5471 - val_accuracy: 0.7063\n",
      "Epoch 136/150\n",
      "12/12 [==============================] - 0s 7ms/step - loss: 0.5927 - accuracy: 0.6639 - val_loss: 0.5453 - val_accuracy: 0.7203\n",
      "Epoch 137/150\n",
      "12/12 [==============================] - 0s 8ms/step - loss: 0.5844 - accuracy: 0.6709 - val_loss: 0.5458 - val_accuracy: 0.7063\n",
      "Epoch 138/150\n",
      "12/12 [==============================] - 0s 7ms/step - loss: 0.5779 - accuracy: 0.6891 - val_loss: 0.5454 - val_accuracy: 0.7063\n",
      "Epoch 139/150\n",
      "12/12 [==============================] - 0s 5ms/step - loss: 0.5821 - accuracy: 0.6877 - val_loss: 0.5438 - val_accuracy: 0.7133\n",
      "Epoch 140/150\n",
      "12/12 [==============================] - 0s 7ms/step - loss: 0.5801 - accuracy: 0.6877 - val_loss: 0.5435 - val_accuracy: 0.7133\n",
      "Epoch 141/150\n",
      "12/12 [==============================] - 0s 6ms/step - loss: 0.5945 - accuracy: 0.6919 - val_loss: 0.5436 - val_accuracy: 0.7133\n",
      "Epoch 142/150\n",
      "12/12 [==============================] - 0s 8ms/step - loss: 0.5766 - accuracy: 0.6947 - val_loss: 0.5471 - val_accuracy: 0.6993\n",
      "Epoch 143/150\n",
      "12/12 [==============================] - 0s 11ms/step - loss: 0.5793 - accuracy: 0.6849 - val_loss: 0.5450 - val_accuracy: 0.7063\n",
      "Epoch 144/150\n",
      "12/12 [==============================] - 0s 13ms/step - loss: 0.5849 - accuracy: 0.6807 - val_loss: 0.5425 - val_accuracy: 0.7133\n",
      "Epoch 145/150\n",
      "12/12 [==============================] - 0s 11ms/step - loss: 0.5774 - accuracy: 0.6919 - val_loss: 0.5421 - val_accuracy: 0.7133\n",
      "Epoch 146/150\n",
      "12/12 [==============================] - 0s 16ms/step - loss: 0.6030 - accuracy: 0.6765 - val_loss: 0.5405 - val_accuracy: 0.7063\n",
      "Epoch 147/150\n",
      "12/12 [==============================] - 0s 7ms/step - loss: 0.5850 - accuracy: 0.6877 - val_loss: 0.5401 - val_accuracy: 0.7133\n",
      "Epoch 148/150\n",
      "12/12 [==============================] - 0s 10ms/step - loss: 0.5798 - accuracy: 0.6877 - val_loss: 0.5390 - val_accuracy: 0.7133\n",
      "Epoch 149/150\n",
      "12/12 [==============================] - 0s 8ms/step - loss: 0.5618 - accuracy: 0.6821 - val_loss: 0.5367 - val_accuracy: 0.7133\n",
      "Epoch 150/150\n",
      "12/12 [==============================] - 0s 9ms/step - loss: 0.5908 - accuracy: 0.6821 - val_loss: 0.5376 - val_accuracy: 0.7063\n",
      "14/14 [==============================] - 0s 2ms/step\n"
     ]
    },
    {
     "data": {
      "text/plain": [
       "0    387\n",
       "1     31\n",
       "Name: Survived, dtype: int64"
      ]
     },
     "metadata": {},
     "output_type": "display_data"
    }
   ],
   "source": [
    "import tensorflow as tf\n",
    "from tensorflow import keras\n",
    "from tensorflow.keras.models import Sequential\n",
    "from tensorflow.keras.layers import Dense, Dropout\n",
    "from sklearn.metrics import accuracy_score\n",
    "import pandas as pd\n",
    "\n",
    "# Define the neural network model\n",
    "model = Sequential([\n",
    "    Dense(32, activation='relu', input_shape=(X_changed.shape[1],)),\n",
    "    Dropout(0.3),\n",
    "    Dense(16, activation='relu'),\n",
    "    Dropout(0.3),\n",
    "    Dense(8, activation='relu'),\n",
    "    Dense(1, activation='sigmoid')  # Output layer for binary classification\n",
    "])\n",
    "\n",
    "# Compile the model\n",
    "model.compile(optimizer='adam', loss='binary_crossentropy', metrics=['accuracy'])\n",
    "\n",
    "# Train the model\n",
    "model.fit(X_changed, y_changed, epochs=150, batch_size=64, verbose=1, validation_data=(Xc_val, yc_val))\n",
    "\n",
    "# Evaluate the model\n",
    "test_predictionsc = (model.predict(test_datac) > 0.5).astype(int)\n",
    "\n",
    "\n",
    "# Convert predictions to DataFrame\n",
    "nnc_submission_df = pd.DataFrame({\"PassengerId\": passenger_ids, \"Survived\": predictions})\n",
    "\n",
    "# Set PassengerId as index\n",
    "nnc_submission_df.set_index(\"PassengerId\", inplace=True)\n",
    "display(nnc_submission_df[\"Survived\"].value_counts())\n"
   ]
  },
  {
   "cell_type": "markdown",
   "id": "ddda2cc3",
   "metadata": {},
   "source": [
    "# Summary:\n",
    "Following points can be drawn from the procedures done above:\n",
    "\n",
    "- Understood which columns are relevant to us and why\n",
    "- Visualized the importance of features\n",
    "- Machine Learning models didn't perform as per our expectations\n",
    "- Deep Learning models performed pretty decently"
   ]
  }
 ],
 "metadata": {
  "kernelspec": {
   "display_name": "Python 3 (ipykernel)",
   "language": "python",
   "name": "python3"
  },
  "language_info": {
   "codemirror_mode": {
    "name": "ipython",
    "version": 3
   },
   "file_extension": ".py",
   "mimetype": "text/x-python",
   "name": "python",
   "nbconvert_exporter": "python",
   "pygments_lexer": "ipython3",
   "version": "3.11.4"
  }
 },
 "nbformat": 4,
 "nbformat_minor": 5
}
